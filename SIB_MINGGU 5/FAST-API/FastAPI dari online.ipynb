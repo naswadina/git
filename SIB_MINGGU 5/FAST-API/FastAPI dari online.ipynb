{
 "cells": [
  {
   "cell_type": "code",
   "execution_count": 15,
   "id": "f45cf777-b85b-4b22-acc1-941d9c0608b1",
   "metadata": {},
   "outputs": [
    {
     "name": "stdout",
     "output_type": "stream",
     "text": [
      "Cuaca di Semarang:\n",
      "Suhu: 34.26°C\n",
      "Deskripsi: few clouds\n"
     ]
    }
   ],
   "source": [
    "# FAST-API LAYANAN CUACA\n",
    "import requests\n",
    "url = \"https://api.openweathermap.org/data/2.5/weather\"\n",
    "# Parameter untuk API (misalnya, nama kota, API key)\n",
    "params = {  \"q\": \"Semarang\",\n",
    "            \"appid\": \"745286da4326bad49f867d2219d898e3\", # Ganti dengan API key Anda\n",
    "            \"units\": \"metric\" }\n",
    "# Membuat permintaan GET ke API\n",
    "response = requests.get(url, params=params)\n",
    "# Cek apakah permintaan berhasil \n",
    "if response.status_code == 200:\n",
    "    data = response.json()\n",
    "    city = data[\"name\"]\n",
    "    temperature = data[\"main\"][\"temp\"]\n",
    "    description = data[\"weather\"] [0] [\"description\"]\n",
    "    print(f\"Cuaca di {city}:\")\n",
    "    print(f\"Suhu: {temperature}°C\")\n",
    "    print(f\"Deskripsi: {description}\")\n",
    "else:\n",
    "    print(\"Terjadi kesalahan saat mengakses API.\")"
   ]
  },
  {
   "cell_type": "code",
   "execution_count": 17,
   "id": "ed154e66-bc07-4818-9607-9579ad3afc36",
   "metadata": {},
   "outputs": [
    {
     "name": "stdout",
     "output_type": "stream",
     "text": [
      "Judul: Windblown NGC 3199\n",
      "Gambar: https://apod.nasa.gov/apod/image/0805/NGC3199_crawford_c800.jpg\n",
      "Penjelasan: NGC 3199 lies about 12,000 light-years away, a glowing cosmic cloud in the southern constellation of Carina. The nebula is about 75 light-years across in this haunting, false-color view. Though the deep image reveals a more or less complete ring shape, it does look very lopsided with a much brighter edge at the lower right. Near the center of the ring is a Wolf-Rayet star, a massive, hot, short-lived star that generates an intense stellar wind. In fact, Wolf-Rayet stars are known to create nebulae with interesting shapes as their powerful winds sweep up surrounding interstellar material. In this case, the bright edge was thought to indicate a bow shock produced as the star plowed through a uniform medium, like a boat through water. But measurements have shown the star is not really moving directly toward the bright edge. So a more likely explanation is that the material surrounding the star is not uniform, but clumped and denser near the bright edge of windblown NGC 3199.\n"
     ]
    }
   ],
   "source": [
    "# FAST-API NASA\n",
    "import requests\n",
    "# API Key NASA, gantilah dengan API key Anda sendiri\n",
    "API_KEY = 'XGgsZZSwOIPne5rhC91uKmPITkiNcdgSfJLKdSdy'\n",
    "# Fungsi untuk mengambil gambar dari Astronomy Picture of the Day (APOD)\n",
    "def get_nasa_apod():\n",
    "    base_url = \"https://api.nasa.gov/planetary/apod\"\n",
    "    # Mengatur parameter untuk request\n",
    "    params = {  'api_key': API_KEY,  # Menyertakan API Key\n",
    "                'count': 1}      # Mengambil 1 gambar\n",
    "    # Melakukan request ke NASA APOD API\n",
    "    response = requests.get(base_url, params=params)\n",
    "    # Memeriksa apakah request berhasil\n",
    "    if response.status_code == 200:\n",
    "        data = response.json()[0]  # Karena kita menggunakan count 1, datanya dalam list\n",
    "        title = data['title']\n",
    "        url = data['url']\n",
    "        explanation = data['explanation']   \n",
    "        # Menampilkan informasi gambar\n",
    "        print(f\"Judul: {title}\")\n",
    "        print(f\"Gambar: {url}\")\n",
    "        print(f\"Penjelasan: {explanation}\")\n",
    "    else:\n",
    "        print(\"Terjadi kesalahan saat mengakses NASA APOD API!\")\n",
    "# Memanggil fungsi untuk mendapatkan Astronomy Picture of the Day\n",
    "get_nasa_apod()"
   ]
  },
  {
   "cell_type": "code",
   "execution_count": 9,
   "id": "37c0eee4-d1b9-47bf-b783-c66eefcb8148",
   "metadata": {},
   "outputs": [
    {
     "name": "stdout",
     "output_type": "stream",
     "text": [
      "Judul: Inception\n",
      "Tahun: 2010\n",
      "Rating: PG-13\n",
      "Director: Christopher Nolan\n",
      "Aktor: Leonardo DiCaprio, Joseph Gordon-Levitt, Elliot Page\n",
      "Plot: A thief who steals corporate secrets through the use of dream-sharing technology is given the inverse task of planting an idea into the mind of a C.E.O., but his tragic past may doom the project and his team to disaster.\n",
      "Rating IMDb: 8.8\n"
     ]
    }
   ],
   "source": [
    "import requests\n",
    "# Gantikan dengan API Key Anda sendiri\n",
    "API_KEY = '9b09f80e'\n",
    "# Fungsi untuk mencari film berdasarkan judul\n",
    "def search_movie(title):\n",
    "    base_url = \"http://www.omdbapi.com/\"\n",
    "    # Mengatur parameter untuk request\n",
    "    params = {\n",
    "        'apikey': API_KEY,  # Menyertakan API Key\n",
    "        't': title  }          # Judul film yang dicari\n",
    "    # Melakukan request ke OMDb API\n",
    "    response = requests.get(base_url, params=params)\n",
    "    # Memeriksa apakah request berhasil\n",
    "    if response.status_code == 200:\n",
    "        data = response.json()\n",
    "        if data['Response'] == 'True':\n",
    "            title = data['Title']\n",
    "            year = data['Year']\n",
    "            rated = data['Rated']\n",
    "            director = data['Director']\n",
    "            actors = data['Actors']\n",
    "            plot = data['Plot']\n",
    "            imdb_rating = data['imdbRating']               \n",
    "            # Menampilkan informasi film\n",
    "            print(f\"Judul: {title}\")\n",
    "            print(f\"Tahun: {year}\")\n",
    "            print(f\"Rating: {rated}\")\n",
    "            print(f\"Director: {director}\")\n",
    "            print(f\"Aktor: {actors}\")\n",
    "            print(f\"Plot: {plot}\")\n",
    "            print(f\"Rating IMDb: {imdb_rating}\")\n",
    "        else:\n",
    "            print(\"Film tidak ditemukan!\")\n",
    "    else:\n",
    "        print(\"Terjadi kesalahan saat mengakses OMDb API!\")\n",
    "# Memanggil fungsi untuk mencari film\n",
    "search_movie(\"Inception\")  # Ganti dengan judul film yang ingin dicari\n"
   ]
  },
  {
   "cell_type": "code",
   "execution_count": null,
   "id": "9309ec9c-748b-4582-ae84-0491c44fc1a5",
   "metadata": {},
   "outputs": [],
   "source": []
  }
 ],
 "metadata": {
  "kernelspec": {
   "display_name": "Python 3 (ipykernel)",
   "language": "python",
   "name": "python3"
  },
  "language_info": {
   "codemirror_mode": {
    "name": "ipython",
    "version": 3
   },
   "file_extension": ".py",
   "mimetype": "text/x-python",
   "name": "python",
   "nbconvert_exporter": "python",
   "pygments_lexer": "ipython3",
   "version": "3.12.4"
  }
 },
 "nbformat": 4,
 "nbformat_minor": 5
}
