{
 "cells": [
  {
   "cell_type": "code",
   "execution_count": 5,
   "id": "4668627d-0960-44f7-952e-02300d20aec7",
   "metadata": {},
   "outputs": [
    {
     "name": "stdout",
     "output_type": "stream",
     "text": [
      "Collecting fastapi\n",
      "  Downloading fastapi-0.115.0-py3-none-any.whl.metadata (27 kB)\n",
      "Collecting uvicorn\n",
      "  Downloading uvicorn-0.31.0-py3-none-any.whl.metadata (6.6 kB)\n",
      "Requirement already satisfied: nest_asyncio in d:\\anaconda\\lib\\site-packages (1.6.0)\n",
      "Collecting starlette<0.39.0,>=0.37.2 (from fastapi)\n",
      "  Downloading starlette-0.38.6-py3-none-any.whl.metadata (6.0 kB)\n",
      "Requirement already satisfied: pydantic!=1.8,!=1.8.1,!=2.0.0,!=2.0.1,!=2.1.0,<3.0.0,>=1.7.4 in d:\\anaconda\\lib\\site-packages (from fastapi) (2.5.3)\n",
      "Requirement already satisfied: typing-extensions>=4.8.0 in d:\\anaconda\\lib\\site-packages (from fastapi) (4.11.0)\n",
      "Requirement already satisfied: click>=7.0 in d:\\anaconda\\lib\\site-packages (from uvicorn) (8.1.7)\n",
      "Requirement already satisfied: h11>=0.8 in d:\\anaconda\\lib\\site-packages (from uvicorn) (0.14.0)\n",
      "Requirement already satisfied: colorama in d:\\anaconda\\lib\\site-packages (from click>=7.0->uvicorn) (0.4.6)\n",
      "Requirement already satisfied: annotated-types>=0.4.0 in d:\\anaconda\\lib\\site-packages (from pydantic!=1.8,!=1.8.1,!=2.0.0,!=2.0.1,!=2.1.0,<3.0.0,>=1.7.4->fastapi) (0.6.0)\n",
      "Requirement already satisfied: pydantic-core==2.14.6 in d:\\anaconda\\lib\\site-packages (from pydantic!=1.8,!=1.8.1,!=2.0.0,!=2.0.1,!=2.1.0,<3.0.0,>=1.7.4->fastapi) (2.14.6)\n",
      "Requirement already satisfied: anyio<5,>=3.4.0 in d:\\anaconda\\lib\\site-packages (from starlette<0.39.0,>=0.37.2->fastapi) (4.2.0)\n",
      "Requirement already satisfied: idna>=2.8 in d:\\anaconda\\lib\\site-packages (from anyio<5,>=3.4.0->starlette<0.39.0,>=0.37.2->fastapi) (3.7)\n",
      "Requirement already satisfied: sniffio>=1.1 in d:\\anaconda\\lib\\site-packages (from anyio<5,>=3.4.0->starlette<0.39.0,>=0.37.2->fastapi) (1.3.0)\n",
      "Downloading fastapi-0.115.0-py3-none-any.whl (94 kB)\n",
      "   ---------------------------------------- 0.0/94.6 kB ? eta -:--:--\n",
      "   ------------------------------ --------- 71.7/94.6 kB 2.0 MB/s eta 0:00:01\n",
      "   ---------------------------------------- 94.6/94.6 kB 1.8 MB/s eta 0:00:00\n",
      "Downloading uvicorn-0.31.0-py3-none-any.whl (63 kB)\n",
      "   ---------------------------------------- 0.0/63.7 kB ? eta -:--:--\n",
      "   ---------------------------------------- 63.7/63.7 kB ? eta 0:00:00\n",
      "Downloading starlette-0.38.6-py3-none-any.whl (71 kB)\n",
      "   ---------------------------------------- 0.0/71.5 kB ? eta -:--:--\n",
      "   ---------------------------------------- 71.5/71.5 kB ? eta 0:00:00\n",
      "Installing collected packages: uvicorn, starlette, fastapi\n",
      "Successfully installed fastapi-0.115.0 starlette-0.38.6 uvicorn-0.31.0\n"
     ]
    }
   ],
   "source": [
    "#SISI SERVER API\n",
    "# Hanya dijalankan sekali\n",
    "!pip install fastapi uvicorn nest_asyncio "
   ]
  },
  {
   "cell_type": "code",
   "execution_count": 9,
   "id": "d788340f-5f92-42a7-bd2b-5a72832d00fe",
   "metadata": {},
   "outputs": [],
   "source": [
    "#2. Jalankan Fast_API dengan mode loop\n",
    "import nest_asyncio\n",
    "nest_asyncio.apply()"
   ]
  },
  {
   "cell_type": "code",
   "execution_count": 16,
   "id": "97b98f5e-6f9a-4ea9-928c-26e74b95932b",
   "metadata": {},
   "outputs": [
    {
     "name": "stderr",
     "output_type": "stream",
     "text": [
      "INFO:     Started server process [12008]\n",
      "INFO:     Waiting for application startup.\n",
      "INFO:     Application startup complete.\n",
      "INFO:     Uvicorn running on http://127.0.0.1:8000 (Press CTRL+C to quit)\n"
     ]
    },
    {
     "name": "stdout",
     "output_type": "stream",
     "text": [
      "INFO:     127.0.0.1:51131 - \"GET / HTTP/1.1\" 200 OK\n"
     ]
    },
    {
     "name": "stderr",
     "output_type": "stream",
     "text": [
      "INFO:     Shutting down\n",
      "INFO:     Waiting for application shutdown.\n",
      "INFO:     Application shutdown complete.\n",
      "INFO:     Finished server process [12008]\n"
     ]
    }
   ],
   "source": [
    "#3. Bagian utama dari FAST-API \n",
    "from fastapi import FastAPI\n",
    "import uvicorn\n",
    "# Buat instance dari FastAPI\n",
    "app = FastAPI()\n",
    "# Buat endpoint sederhana (diakses tanpa parameter)\n",
    "@app.get(\"/\")\n",
    "def read_root():\n",
    "    return {\"message\": \"Hello, FastAPI dari planet Jupyter!\"}\n",
    "# Tambah endpoint dengan parameter : /items/1 (atau 2 atau 3)\n",
    "@app.get(\"/items/{item_id}\")\n",
    "def read_item(item_id: int, q: str = None):\n",
    "    if item_id==1:\n",
    "        q='Jeruk'\n",
    "    if item_id==2:\n",
    "        q='Mangga'\n",
    "    if item_id==3:\n",
    "        q='Durian'\n",
    "    return {\"item_id\": item_id, \"q\": q}\n",
    "\n",
    "# Jalankan server FastAPI menggunakan Uvicorn\n",
    "if __name__ == \"__main__\":\n",
    "    uvicorn.run(app, host=\"127.0.0.1\", port=8000)"
   ]
  },
  {
   "cell_type": "code",
   "execution_count": 1,
   "id": "f82c7b9d-4182-462e-97ee-af3fc971469f",
   "metadata": {},
   "outputs": [
    {
     "ename": "RuntimeError",
     "evalue": "asyncio.run() cannot be called from a running event loop",
     "output_type": "error",
     "traceback": [
      "\u001b[1;31m---------------------------------------------------------------------------\u001b[0m",
      "\u001b[1;31mRuntimeError\u001b[0m                              Traceback (most recent call last)",
      "Cell \u001b[1;32mIn[1], line 87\u001b[0m\n\u001b[0;32m     85\u001b[0m \u001b[38;5;28;01mif\u001b[39;00m \u001b[38;5;18m__name__\u001b[39m \u001b[38;5;241m==\u001b[39m \u001b[38;5;124m\"\u001b[39m\u001b[38;5;124m__main__\u001b[39m\u001b[38;5;124m\"\u001b[39m:\n\u001b[0;32m     86\u001b[0m     \u001b[38;5;28;01mimport\u001b[39;00m \u001b[38;5;21;01muvicorn\u001b[39;00m\n\u001b[1;32m---> 87\u001b[0m     uvicorn\u001b[38;5;241m.\u001b[39mrun(app, host\u001b[38;5;241m=\u001b[39m\u001b[38;5;124m\"\u001b[39m\u001b[38;5;124m127.0.0.1\u001b[39m\u001b[38;5;124m\"\u001b[39m, port\u001b[38;5;241m=\u001b[39m\u001b[38;5;241m8000\u001b[39m)\n",
      "File \u001b[1;32mD:\\ANACONDA\\Lib\\site-packages\\uvicorn\\main.py:579\u001b[0m, in \u001b[0;36mrun\u001b[1;34m(app, host, port, uds, fd, loop, http, ws, ws_max_size, ws_max_queue, ws_ping_interval, ws_ping_timeout, ws_per_message_deflate, lifespan, interface, reload, reload_dirs, reload_includes, reload_excludes, reload_delay, workers, env_file, log_config, log_level, access_log, proxy_headers, server_header, date_header, forwarded_allow_ips, root_path, limit_concurrency, backlog, limit_max_requests, timeout_keep_alive, timeout_graceful_shutdown, ssl_keyfile, ssl_certfile, ssl_keyfile_password, ssl_version, ssl_cert_reqs, ssl_ca_certs, ssl_ciphers, headers, use_colors, app_dir, factory, h11_max_incomplete_event_size)\u001b[0m\n\u001b[0;32m    577\u001b[0m         Multiprocess(config, target\u001b[38;5;241m=\u001b[39mserver\u001b[38;5;241m.\u001b[39mrun, sockets\u001b[38;5;241m=\u001b[39m[sock])\u001b[38;5;241m.\u001b[39mrun()\n\u001b[0;32m    578\u001b[0m     \u001b[38;5;28;01melse\u001b[39;00m:\n\u001b[1;32m--> 579\u001b[0m         server\u001b[38;5;241m.\u001b[39mrun()\n\u001b[0;32m    580\u001b[0m \u001b[38;5;28;01mexcept\u001b[39;00m \u001b[38;5;167;01mKeyboardInterrupt\u001b[39;00m:\n\u001b[0;32m    581\u001b[0m     \u001b[38;5;28;01mpass\u001b[39;00m  \u001b[38;5;66;03m# pragma: full coverage\u001b[39;00m\n",
      "File \u001b[1;32mD:\\ANACONDA\\Lib\\site-packages\\uvicorn\\server.py:65\u001b[0m, in \u001b[0;36mServer.run\u001b[1;34m(self, sockets)\u001b[0m\n\u001b[0;32m     63\u001b[0m \u001b[38;5;28;01mdef\u001b[39;00m \u001b[38;5;21mrun\u001b[39m(\u001b[38;5;28mself\u001b[39m, sockets: \u001b[38;5;28mlist\u001b[39m[socket\u001b[38;5;241m.\u001b[39msocket] \u001b[38;5;241m|\u001b[39m \u001b[38;5;28;01mNone\u001b[39;00m \u001b[38;5;241m=\u001b[39m \u001b[38;5;28;01mNone\u001b[39;00m) \u001b[38;5;241m-\u001b[39m\u001b[38;5;241m>\u001b[39m \u001b[38;5;28;01mNone\u001b[39;00m:\n\u001b[0;32m     64\u001b[0m     \u001b[38;5;28mself\u001b[39m\u001b[38;5;241m.\u001b[39mconfig\u001b[38;5;241m.\u001b[39msetup_event_loop()\n\u001b[1;32m---> 65\u001b[0m     \u001b[38;5;28;01mreturn\u001b[39;00m asyncio\u001b[38;5;241m.\u001b[39mrun(\u001b[38;5;28mself\u001b[39m\u001b[38;5;241m.\u001b[39mserve(sockets\u001b[38;5;241m=\u001b[39msockets))\n",
      "File \u001b[1;32mD:\\ANACONDA\\Lib\\asyncio\\runners.py:190\u001b[0m, in \u001b[0;36mrun\u001b[1;34m(main, debug, loop_factory)\u001b[0m\n\u001b[0;32m    161\u001b[0m \u001b[38;5;250m\u001b[39m\u001b[38;5;124;03m\"\"\"Execute the coroutine and return the result.\u001b[39;00m\n\u001b[0;32m    162\u001b[0m \n\u001b[0;32m    163\u001b[0m \u001b[38;5;124;03mThis function runs the passed coroutine, taking care of\u001b[39;00m\n\u001b[1;32m   (...)\u001b[0m\n\u001b[0;32m    186\u001b[0m \u001b[38;5;124;03m    asyncio.run(main())\u001b[39;00m\n\u001b[0;32m    187\u001b[0m \u001b[38;5;124;03m\"\"\"\u001b[39;00m\n\u001b[0;32m    188\u001b[0m \u001b[38;5;28;01mif\u001b[39;00m events\u001b[38;5;241m.\u001b[39m_get_running_loop() \u001b[38;5;129;01mis\u001b[39;00m \u001b[38;5;129;01mnot\u001b[39;00m \u001b[38;5;28;01mNone\u001b[39;00m:\n\u001b[0;32m    189\u001b[0m     \u001b[38;5;66;03m# fail fast with short traceback\u001b[39;00m\n\u001b[1;32m--> 190\u001b[0m     \u001b[38;5;28;01mraise\u001b[39;00m \u001b[38;5;167;01mRuntimeError\u001b[39;00m(\n\u001b[0;32m    191\u001b[0m         \u001b[38;5;124m\"\u001b[39m\u001b[38;5;124masyncio.run() cannot be called from a running event loop\u001b[39m\u001b[38;5;124m\"\u001b[39m)\n\u001b[0;32m    193\u001b[0m \u001b[38;5;28;01mwith\u001b[39;00m Runner(debug\u001b[38;5;241m=\u001b[39mdebug, loop_factory\u001b[38;5;241m=\u001b[39mloop_factory) \u001b[38;5;28;01mas\u001b[39;00m runner:\n\u001b[0;32m    194\u001b[0m     \u001b[38;5;28;01mreturn\u001b[39;00m runner\u001b[38;5;241m.\u001b[39mrun(main)\n",
      "\u001b[1;31mRuntimeError\u001b[0m: asyncio.run() cannot be called from a running event loop"
     ]
    }
   ],
   "source": [
    "from fastapi import FastAPI, HTTPException\n",
    "from pydantic import BaseModel\n",
    "import openpyxl\n",
    "\n",
    "# Inisialisasi aplikasi FastAPI\n",
    "app = FastAPI()\n",
    "\n",
    "# Nama file Excel\n",
    "EXCEL_FILE = \"products.xlsx\"\n",
    "\n",
    "# Model Pydantic untuk validasi input\n",
    "class Product(BaseModel):\n",
    "    name: str\n",
    "    price: float\n",
    "    description: str = None\n",
    "\n",
    "# Fungsi untuk membaca data produk dari Excel\n",
    "def read_products_from_excel():\n",
    "    workbook = openpyxl.load_workbook(EXCEL_FILE)\n",
    "    sheet = workbook.active\n",
    "    products = {}\n",
    "    for row in sheet.iter_rows(min_row=2, values_only=True):  # Lewati header\n",
    "        product_id, name, price, description = row\n",
    "        products[product_id] = {\"name\": name, \"price\": price, \"description\": description}\n",
    "    return products\n",
    "# Fungsi untuk menulis data produk ke Excel\n",
    "def write_products_to_excel(products):\n",
    "    workbook = openpyxl.Workbook()\n",
    "    sheet = workbook.active\n",
    "    sheet.append([\"ID\", \"Name\", \"Price\", \"Description\"])  # Header\n",
    "    for product_id, product_data in products.items():\n",
    "        sheet.append([product_id, product_data[\"name\"], product_data[\"price\"], product_data.get(\"description\", \"\")])\n",
    "    workbook.save(EXCEL_FILE)\n",
    "\n",
    "# Inisialisasi database dari Excel\n",
    "try:\n",
    "    fake_products_db = read_products_from_excel()\n",
    "except FileNotFoundError:\n",
    "    # Jika file Excel tidak ditemukan, buat file baru dengan data awal\n",
    "    fake_products_db = {\n",
    "        1: {\"name\": \"Laptop\", \"price\": 15000, \"description\": \"Laptop gaming high-end\"},\n",
    "        2: {\"name\": \"Smartphone\", \"price\": 7000, \"description\": \"Smartphone terbaru dengan kamera bagus\"},\n",
    "    }\n",
    "    write_products_to_excel(fake_products_db)\n",
    "\n",
    "# Endpoint untuk menambahkan produk baru\n",
    "@app.post(\"/products/\")\n",
    "def create_product(product: Product):\n",
    "    new_id = max(fake_products_db.keys()) + 1\n",
    "    fake_products_db[new_id] = product.dict()\n",
    "    write_products_to_excel(fake_products_db)  # Simpan ke Excel\n",
    "    return {\"id\": new_id, \"product\": product}\n",
    "\n",
    "# Endpoint untuk menampilkan semua produk\n",
    "@app.get(\"/products/\")\n",
    "def get_products():\n",
    "    return fake_products_db\n",
    "\n",
    "# Endpoint untuk menampilkan produk berdasarkan ID\n",
    "@app.get(\"/products/{product_id}\")\n",
    "def read_product(product_id: int):\n",
    "    product = fake_products_db.get(product_id)\n",
    "    if product is None:\n",
    "        raise HTTPException(status_code=404, detail=\"Product not found\")\n",
    "    return product\n",
    "# Endpoint untuk memperbarui produk berdasarkan ID\n",
    "@app.put(\"/products/{product_id}\")\n",
    "def update_product(product_id: int, product: Product):\n",
    "    if product_id not in fake_products_db:\n",
    "        raise HTTPException(status_code=404, detail=\"Product not found\")\n",
    "    fake_products_db[product_id] = product.dict()\n",
    "    write_products_to_excel(fake_products_db)  # Simpan perubahan ke Excel\n",
    "    return {\"id\": product_id, \"product\": product}\n",
    "\n",
    "# Endpoint untuk menghapus produk berdasarkan ID\n",
    "@app.delete(\"/products/{product_id}\")\n",
    "def delete_product(product_id: int):\n",
    "    if product_id not in fake_products_db:\n",
    "        raise HTTPException(status_code=404, detail=\"Product not found\")\n",
    "    del fake_products_db[product_id]\n",
    "    write_products_to_excel(fake_products_db)  # Simpan perubahan ke Excel\n",
    "    return {\"message\": f\"Product {product_id} deleted successfully\"}\n",
    "\n",
    "# Jalankan server FastAPI menggunakan Uvicorn\n",
    "if __name__ == \"__main__\":\n",
    "    import uvicorn\n",
    "    uvicorn.run(app, host=\"127.0.0.1\", port=8000)"
   ]
  },
  {
   "cell_type": "code",
   "execution_count": null,
   "id": "5d104508-3e64-469f-96f8-bbc315d17199",
   "metadata": {},
   "outputs": [],
   "source": []
  }
 ],
 "metadata": {
  "kernelspec": {
   "display_name": "Python 3 (ipykernel)",
   "language": "python",
   "name": "python3"
  },
  "language_info": {
   "codemirror_mode": {
    "name": "ipython",
    "version": 3
   },
   "file_extension": ".py",
   "mimetype": "text/x-python",
   "name": "python",
   "nbconvert_exporter": "python",
   "pygments_lexer": "ipython3",
   "version": "3.12.4"
  }
 },
 "nbformat": 4,
 "nbformat_minor": 5
}
