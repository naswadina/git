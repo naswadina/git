{
 "cells": [
  {
   "cell_type": "code",
   "execution_count": 2,
   "id": "4f3d20e6-af49-4f2b-9c40-914449e08f54",
   "metadata": {},
   "outputs": [
    {
     "name": "stdout",
     "output_type": "stream",
     "text": [
      "{'detail': 'Not Found'}\n"
     ]
    }
   ],
   "source": [
    "import requests\n",
    "\n",
    "response = requests.get(\"http://127.0.0.1:8000/\")\n",
    "print(response.json())\n"
   ]
  },
  {
   "cell_type": "code",
   "execution_count": 10,
   "id": "a6c03c75-fe3e-4a94-b39e-7d1490e1cb67",
   "metadata": {},
   "outputs": [
    {
     "name": "stdout",
     "output_type": "stream",
     "text": [
      "{'id': 1, 'customer': {'name': 'John Doe', 'address': '123 Street', 'phone': '81234567890', 'age': 30}}\n"
     ]
    }
   ],
   "source": [
    "import requests\n",
    "\n",
    "# Data customer yang akan dikirimkan\n",
    "customer = {\n",
    "    \"ID\": \"1\",\n",
    "    \"name\": \"John Doe\",\n",
    "    \"address\": \"123 Street\",\n",
    "    \"phone\": \"81234567890\",\n",
    "    \"age\": 30\n",
    "}\n",
    "\n",
    "# Mengirim permintaan POST ke server FastAPI (pastikan URL sesuai dengan endpoint customer)\n",
    "response = requests.post(\"http://127.0.0.1:8000/customers/\", json=customer)\n",
    "\n",
    "# Menampilkan hasil respon dari server\n",
    "print(response.json())"
   ]
  },
  {
   "cell_type": "code",
   "execution_count": 12,
   "id": "5d749fab-5d3f-46f7-9f37-b2d076d64ca1",
   "metadata": {},
   "outputs": [
    {
     "name": "stdout",
     "output_type": "stream",
     "text": [
      "{'1': {'name': 'John Doe', 'address': '123 Street', 'phone': '81234567890', 'age': 30}}\n"
     ]
    }
   ],
   "source": [
    "response = requests.get(\"http://127.0.0.1:8000/customers/\")\n",
    "print(response.json())"
   ]
  },
  {
   "cell_type": "code",
   "execution_count": 14,
   "id": "f2d98834-3e4f-4d6c-b31d-9158ae35de68",
   "metadata": {},
   "outputs": [
    {
     "name": "stdout",
     "output_type": "stream",
     "text": [
      "{'name': 'John Doe', 'address': '123 Street', 'phone': '81234567890', 'age': 30}\n"
     ]
    }
   ],
   "source": [
    "response = requests.get(\"http://127.0.0.1:8000/customers/1\")\n",
    "print(response.json())"
   ]
  },
  {
   "cell_type": "code",
   "execution_count": 18,
   "id": "e2ab0405-545a-49a0-bb5e-c0c48994e918",
   "metadata": {},
   "outputs": [
    {
     "name": "stdout",
     "output_type": "stream",
     "text": [
      "{'id': 1, 'customer': {'name': 'John Doe', 'address': '123 Street', 'phone': '081234567890', 'age': 35}}\n"
     ]
    }
   ],
   "source": [
    "import requests\n",
    "\n",
    "# Data customer yang akan diperbarui\n",
    "updated_customer = {\n",
    "    \"name\": \"John Doe\",\n",
    "    \"address\": \"123 Street\",\n",
    "    \"phone\": \"081234567890\",\n",
    "    \"age\": 35  # Memperbarui umur\n",
    "}\n",
    "\n",
    "# Mengirim permintaan PUT untuk memperbarui customer dengan ID 1\n",
    "response = requests.put(\"http://127.0.0.1:8000/customers/1\", json=updated_customer)\n",
    "print(response.json())\n"
   ]
  },
  {
   "cell_type": "code",
   "execution_count": 20,
   "id": "14e49b91-752c-4e94-9537-269cc2cb0774",
   "metadata": {},
   "outputs": [
    {
     "name": "stdout",
     "output_type": "stream",
     "text": [
      "{'message': 'Customer 1 deleted successfully'}\n"
     ]
    }
   ],
   "source": [
    "response = requests.delete(\"http://127.0.0.1:8000/customers/1\")\n",
    "print(response.json())"
   ]
  },
  {
   "cell_type": "code",
   "execution_count": null,
   "id": "dd0706ba-3a80-46af-9033-3520220982f1",
   "metadata": {},
   "outputs": [],
   "source": []
  }
 ],
 "metadata": {
  "kernelspec": {
   "display_name": "Python 3 (ipykernel)",
   "language": "python",
   "name": "python3"
  },
  "language_info": {
   "codemirror_mode": {
    "name": "ipython",
    "version": 3
   },
   "file_extension": ".py",
   "mimetype": "text/x-python",
   "name": "python",
   "nbconvert_exporter": "python",
   "pygments_lexer": "ipython3",
   "version": "3.12.4"
  }
 },
 "nbformat": 4,
 "nbformat_minor": 5
}
