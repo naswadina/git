{
 "cells": [
  {
   "cell_type": "code",
   "execution_count": 1,
   "id": "ec21df20-d7d0-4947-973a-b82b62d0eeb8",
   "metadata": {},
   "outputs": [
    {
     "name": "stdout",
     "output_type": "stream",
     "text": [
      "Requirement already satisfied: fastapi in d:\\anaconda\\lib\\site-packages (0.115.0)\n",
      "Requirement already satisfied: uvicorn in d:\\anaconda\\lib\\site-packages (0.31.0)\n",
      "Requirement already satisfied: nest_asyncio in d:\\anaconda\\lib\\site-packages (1.6.0)\n",
      "Requirement already satisfied: starlette<0.39.0,>=0.37.2 in d:\\anaconda\\lib\\site-packages (from fastapi) (0.38.6)\n",
      "Requirement already satisfied: pydantic!=1.8,!=1.8.1,!=2.0.0,!=2.0.1,!=2.1.0,<3.0.0,>=1.7.4 in d:\\anaconda\\lib\\site-packages (from fastapi) (2.5.3)\n",
      "Requirement already satisfied: typing-extensions>=4.8.0 in d:\\anaconda\\lib\\site-packages (from fastapi) (4.11.0)\n",
      "Requirement already satisfied: click>=7.0 in d:\\anaconda\\lib\\site-packages (from uvicorn) (8.1.7)\n",
      "Requirement already satisfied: h11>=0.8 in d:\\anaconda\\lib\\site-packages (from uvicorn) (0.14.0)\n",
      "Requirement already satisfied: colorama in d:\\anaconda\\lib\\site-packages (from click>=7.0->uvicorn) (0.4.6)\n",
      "Requirement already satisfied: annotated-types>=0.4.0 in d:\\anaconda\\lib\\site-packages (from pydantic!=1.8,!=1.8.1,!=2.0.0,!=2.0.1,!=2.1.0,<3.0.0,>=1.7.4->fastapi) (0.6.0)\n",
      "Requirement already satisfied: pydantic-core==2.14.6 in d:\\anaconda\\lib\\site-packages (from pydantic!=1.8,!=1.8.1,!=2.0.0,!=2.0.1,!=2.1.0,<3.0.0,>=1.7.4->fastapi) (2.14.6)\n",
      "Requirement already satisfied: anyio<5,>=3.4.0 in d:\\anaconda\\lib\\site-packages (from starlette<0.39.0,>=0.37.2->fastapi) (4.2.0)\n",
      "Requirement already satisfied: idna>=2.8 in d:\\anaconda\\lib\\site-packages (from anyio<5,>=3.4.0->starlette<0.39.0,>=0.37.2->fastapi) (3.7)\n",
      "Requirement already satisfied: sniffio>=1.1 in d:\\anaconda\\lib\\site-packages (from anyio<5,>=3.4.0->starlette<0.39.0,>=0.37.2->fastapi) (1.3.0)\n"
     ]
    }
   ],
   "source": [
    "!pip install fastapi uvicorn nest_asyncio"
   ]
  },
  {
   "cell_type": "code",
   "execution_count": 2,
   "id": "ebb4a91c-2523-4720-9071-0e263ad2d8ab",
   "metadata": {},
   "outputs": [],
   "source": [
    "import nest_asyncio\n",
    "nest_asyncio.apply()"
   ]
  },
  {
   "cell_type": "code",
   "execution_count": 9,
   "id": "41fe243b-0afe-47bc-8c81-7c629fd02a21",
   "metadata": {},
   "outputs": [
    {
     "name": "stdout",
     "output_type": "stream",
     "text": [
      "Requirement already satisfied: openpyxl in d:\\anaconda\\lib\\site-packages (3.1.2)\n",
      "Requirement already satisfied: et-xmlfile in d:\\anaconda\\lib\\site-packages (from openpyxl) (1.1.0)\n",
      "Note: you may need to restart the kernel to use updated packages.\n"
     ]
    }
   ],
   "source": [
    "pip install openpyxl"
   ]
  },
  {
   "cell_type": "code",
   "execution_count": null,
   "id": "8af1e376-bdbe-4b1e-8967-7755dbc4e9eb",
   "metadata": {},
   "outputs": [
    {
     "name": "stderr",
     "output_type": "stream",
     "text": [
      "INFO:     Started server process [17240]\n",
      "INFO:     Waiting for application startup.\n",
      "INFO:     Application startup complete.\n",
      "INFO:     Uvicorn running on http://127.0.0.1:8000 (Press CTRL+C to quit)\n"
     ]
    },
    {
     "name": "stdout",
     "output_type": "stream",
     "text": [
      "INFO:     127.0.0.1:51386 - \"GET / HTTP/1.1\" 200 OK\n"
     ]
    }
   ],
   "source": [
    "from fastapi import FastAPI, HTTPException\n",
    "from pydantic import BaseModel\n",
    "import pandas as pd\n",
    "import uvicorn\n",
    "\n",
    "\n",
    "# Inisialisasi aplikasi FastAPI\n",
    "app = FastAPI()\n",
    "\n",
    "# Simpan data customer dalam memori menggunakan dictionary\n",
    "fake_customers_db = {\n",
    "    1: {\"name\": \"John Doe\", \"address\": \"123 Street\", \"phone\": \"081234567890\", \"age\": 30},\n",
    "    2: {\"name\": \"Jane Smith\", \"address\": \"456 Avenue\", \"phone\": \"089876543210\", \"age\": 25},\n",
    "}\n",
    "\n",
    "# Model Pydantic untuk validasi input customer\n",
    "class Customer(BaseModel):\n",
    "    name: str\n",
    "    address: str\n",
    "    phone: str\n",
    "    age: int\n",
    "\n",
    "# Fungsi untuk menyimpan data customer ke file Excel\n",
    "def save_customers_to_excel():\n",
    "    df = pd.DataFrame.from_dict(fake_customers_db, orient=\"index\")\n",
    "    df.to_excel(\"CustomersData.xlsx\", index_label=\"ID\")\n",
    "\n",
    "# Tambahkan route untuk root path\n",
    "@app.get(\"/\")\n",
    "def read_root():\n",
    "    return {\"message\": \"Welcome to the Customer API. Use /customers to interact with customers data.\"}\n",
    "\n",
    "# Bagian untuk menambahkan data customer baru\n",
    "@app.post(\"/customers/\")\n",
    "def create_customer(customer: Customer):\n",
    "    new_id = max(fake_customers_db.keys(), default=0) + 1\n",
    "    fake_customers_db[new_id] = customer.dict()\n",
    "    save_customers_to_excel()  # Simpan data ke Excel setelah perubahan\n",
    "    return {\"id\": new_id, \"customer\": customer}\n",
    "\n",
    "# Bagian untuk menampilkan daftar customer yang sudah ada\n",
    "@app.get(\"/customers/\")\n",
    "def get_customers():\n",
    "    return fake_customers_db\n",
    "\n",
    "# Bagian untuk menampilkan customer tertentu berdasarkan ID\n",
    "@app.get(\"/customers/{customer_id}\")\n",
    "def read_customer(customer_id: int):\n",
    "    customer = fake_customers_db.get(customer_id)\n",
    "    if customer is None:\n",
    "        raise HTTPException(status_code=404, detail=\"Customer not found\")\n",
    "    return customer\n",
    "\n",
    "# Bagian untuk memperbaiki data customer tertentu berdasarkan ID\n",
    "@app.put(\"/customers/{customer_id}\")\n",
    "def update_customer(customer_id: int, customer: Customer):\n",
    "    if customer_id not in fake_customers_db:\n",
    "        raise HTTPException(status_code=404, detail=\"Customer not found\")\n",
    "    fake_customers_db[customer_id] = customer.dict()\n",
    "    save_customers_to_excel()  # Simpan data ke Excel setelah perubahan\n",
    "    return {\"id\": customer_id, \"customer\": customer}\n",
    "\n",
    "# Bagian untuk menghapus data customer tertentu\n",
    "@app.delete(\"/customers/{customer_id}\")\n",
    "def delete_customer(customer_id: int):\n",
    "    if customer_id not in fake_customers_db:\n",
    "        raise HTTPException(status_code=404, detail=\"Customer not found\")\n",
    "    del fake_customers_db[customer_id]\n",
    "    save_customers_to_excel()  # Simpan data ke Excel setelah perubahan\n",
    "    return {\"message\": f\"Customer {customer_id} deleted successfully\"}\n",
    "\n",
    "# Jalankan server FastAPI menggunakan Uvicorn\n",
    "if __name__ == \"__main__\":\n",
    "    uvicorn.run(app, host=\"127.0.0.1\", port=8000)"
   ]
  },
  {
   "cell_type": "code",
   "execution_count": null,
   "id": "2fff576e-88e7-4d11-8169-d22e666949f0",
   "metadata": {},
   "outputs": [],
   "source": []
  }
 ],
 "metadata": {
  "kernelspec": {
   "display_name": "Python 3 (ipykernel)",
   "language": "python",
   "name": "python3"
  },
  "language_info": {
   "codemirror_mode": {
    "name": "ipython",
    "version": 3
   },
   "file_extension": ".py",
   "mimetype": "text/x-python",
   "name": "python",
   "nbconvert_exporter": "python",
   "pygments_lexer": "ipython3",
   "version": "3.12.4"
  }
 },
 "nbformat": 4,
 "nbformat_minor": 5
}
