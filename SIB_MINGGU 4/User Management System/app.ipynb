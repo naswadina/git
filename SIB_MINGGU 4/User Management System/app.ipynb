{
 "cells": [
  {
   "cell_type": "code",
   "execution_count": 1,
   "id": "a23f472f-cf64-4cb2-868a-6b3c9b50d91b",
   "metadata": {},
   "outputs": [
    {
     "name": "stdout",
     "output_type": "stream",
     "text": [
      "Requirement already satisfied: Flask in d:\\anaconda\\lib\\site-packages (3.0.3)\n",
      "Requirement already satisfied: Werkzeug>=3.0.0 in d:\\anaconda\\lib\\site-packages (from Flask) (3.0.3)\n",
      "Requirement already satisfied: Jinja2>=3.1.2 in d:\\anaconda\\lib\\site-packages (from Flask) (3.1.4)\n",
      "Requirement already satisfied: itsdangerous>=2.1.2 in d:\\anaconda\\lib\\site-packages (from Flask) (2.2.0)\n",
      "Requirement already satisfied: click>=8.1.3 in d:\\anaconda\\lib\\site-packages (from Flask) (8.1.7)\n",
      "Requirement already satisfied: blinker>=1.6.2 in d:\\anaconda\\lib\\site-packages (from Flask) (1.6.2)\n",
      "Requirement already satisfied: colorama in d:\\anaconda\\lib\\site-packages (from click>=8.1.3->Flask) (0.4.6)\n",
      "Requirement already satisfied: MarkupSafe>=2.0 in d:\\anaconda\\lib\\site-packages (from Jinja2>=3.1.2->Flask) (2.1.3)\n",
      "Note: you may need to restart the kernel to use updated packages.\n"
     ]
    }
   ],
   "source": [
    "pip install Flask"
   ]
  },
  {
   "cell_type": "code",
   "execution_count": 2,
   "id": "c9f801e1-289d-4730-8db3-ea37192c8f36",
   "metadata": {},
   "outputs": [
    {
     "name": "stdout",
     "output_type": "stream",
     "text": [
      "Requirement already satisfied: Flask-PyMongo in d:\\anaconda\\lib\\site-packages (2.3.0)\n",
      "Requirement already satisfied: Flask>=0.11 in d:\\anaconda\\lib\\site-packages (from Flask-PyMongo) (3.0.3)\n",
      "Requirement already satisfied: PyMongo>=3.3 in d:\\anaconda\\lib\\site-packages (from Flask-PyMongo) (4.10.1)\n",
      "Requirement already satisfied: Werkzeug>=3.0.0 in d:\\anaconda\\lib\\site-packages (from Flask>=0.11->Flask-PyMongo) (3.0.3)\n",
      "Requirement already satisfied: Jinja2>=3.1.2 in d:\\anaconda\\lib\\site-packages (from Flask>=0.11->Flask-PyMongo) (3.1.4)\n",
      "Requirement already satisfied: itsdangerous>=2.1.2 in d:\\anaconda\\lib\\site-packages (from Flask>=0.11->Flask-PyMongo) (2.2.0)\n",
      "Requirement already satisfied: click>=8.1.3 in d:\\anaconda\\lib\\site-packages (from Flask>=0.11->Flask-PyMongo) (8.1.7)\n",
      "Requirement already satisfied: blinker>=1.6.2 in d:\\anaconda\\lib\\site-packages (from Flask>=0.11->Flask-PyMongo) (1.6.2)\n",
      "Requirement already satisfied: dnspython<3.0.0,>=1.16.0 in d:\\anaconda\\lib\\site-packages (from PyMongo>=3.3->Flask-PyMongo) (2.6.1)\n",
      "Requirement already satisfied: colorama in d:\\anaconda\\lib\\site-packages (from click>=8.1.3->Flask>=0.11->Flask-PyMongo) (0.4.6)\n",
      "Requirement already satisfied: MarkupSafe>=2.0 in d:\\anaconda\\lib\\site-packages (from Jinja2>=3.1.2->Flask>=0.11->Flask-PyMongo) (2.1.3)\n",
      "Note: you may need to restart the kernel to use updated packages.\n"
     ]
    }
   ],
   "source": [
    "pip install Flask-PyMongo"
   ]
  },
  {
   "cell_type": "code",
   "execution_count": 3,
   "id": "9a8e821e-af33-4ad2-b42a-f797fec1ca43",
   "metadata": {},
   "outputs": [
    {
     "name": "stdout",
     "output_type": "stream",
     "text": [
      "Requirement already satisfied: Flask-Bcrypt in d:\\anaconda\\lib\\site-packages (1.0.1)\n",
      "Requirement already satisfied: Flask in d:\\anaconda\\lib\\site-packages (from Flask-Bcrypt) (3.0.3)\n",
      "Requirement already satisfied: bcrypt>=3.1.1 in d:\\anaconda\\lib\\site-packages (from Flask-Bcrypt) (3.2.0)\n",
      "Requirement already satisfied: cffi>=1.1 in d:\\anaconda\\lib\\site-packages (from bcrypt>=3.1.1->Flask-Bcrypt) (1.16.0)\n",
      "Requirement already satisfied: six>=1.4.1 in d:\\anaconda\\lib\\site-packages (from bcrypt>=3.1.1->Flask-Bcrypt) (1.16.0)\n",
      "Requirement already satisfied: Werkzeug>=3.0.0 in d:\\anaconda\\lib\\site-packages (from Flask->Flask-Bcrypt) (3.0.3)\n",
      "Requirement already satisfied: Jinja2>=3.1.2 in d:\\anaconda\\lib\\site-packages (from Flask->Flask-Bcrypt) (3.1.4)\n",
      "Requirement already satisfied: itsdangerous>=2.1.2 in d:\\anaconda\\lib\\site-packages (from Flask->Flask-Bcrypt) (2.2.0)\n",
      "Requirement already satisfied: click>=8.1.3 in d:\\anaconda\\lib\\site-packages (from Flask->Flask-Bcrypt) (8.1.7)\n",
      "Requirement already satisfied: blinker>=1.6.2 in d:\\anaconda\\lib\\site-packages (from Flask->Flask-Bcrypt) (1.6.2)\n",
      "Requirement already satisfied: pycparser in d:\\anaconda\\lib\\site-packages (from cffi>=1.1->bcrypt>=3.1.1->Flask-Bcrypt) (2.21)\n",
      "Requirement already satisfied: colorama in d:\\anaconda\\lib\\site-packages (from click>=8.1.3->Flask->Flask-Bcrypt) (0.4.6)\n",
      "Requirement already satisfied: MarkupSafe>=2.0 in d:\\anaconda\\lib\\site-packages (from Jinja2>=3.1.2->Flask->Flask-Bcrypt) (2.1.3)\n",
      "Note: you may need to restart the kernel to use updated packages.\n"
     ]
    }
   ],
   "source": [
    "pip install Flask-Bcrypt"
   ]
  },
  {
   "cell_type": "code",
   "execution_count": 4,
   "id": "e894c37f-dbd3-4466-91b2-2a0c1cc3fc00",
   "metadata": {},
   "outputs": [
    {
     "name": "stdout",
     "output_type": "stream",
     "text": [
      "Requirement already satisfied: Flask-Login in d:\\anaconda\\lib\\site-packages (0.6.3)\n",
      "Requirement already satisfied: Flask>=1.0.4 in d:\\anaconda\\lib\\site-packages (from Flask-Login) (3.0.3)\n",
      "Requirement already satisfied: Werkzeug>=1.0.1 in d:\\anaconda\\lib\\site-packages (from Flask-Login) (3.0.3)\n",
      "Requirement already satisfied: Jinja2>=3.1.2 in d:\\anaconda\\lib\\site-packages (from Flask>=1.0.4->Flask-Login) (3.1.4)\n",
      "Requirement already satisfied: itsdangerous>=2.1.2 in d:\\anaconda\\lib\\site-packages (from Flask>=1.0.4->Flask-Login) (2.2.0)\n",
      "Requirement already satisfied: click>=8.1.3 in d:\\anaconda\\lib\\site-packages (from Flask>=1.0.4->Flask-Login) (8.1.7)\n",
      "Requirement already satisfied: blinker>=1.6.2 in d:\\anaconda\\lib\\site-packages (from Flask>=1.0.4->Flask-Login) (1.6.2)\n",
      "Requirement already satisfied: MarkupSafe>=2.1.1 in d:\\anaconda\\lib\\site-packages (from Werkzeug>=1.0.1->Flask-Login) (2.1.3)\n",
      "Requirement already satisfied: colorama in d:\\anaconda\\lib\\site-packages (from click>=8.1.3->Flask>=1.0.4->Flask-Login) (0.4.6)\n",
      "Note: you may need to restart the kernel to use updated packages.\n"
     ]
    }
   ],
   "source": [
    "pip install Flask-Login"
   ]
  },
  {
   "cell_type": "code",
   "execution_count": 5,
   "id": "8696ece0-8b07-4114-9f2d-951004b12685",
   "metadata": {},
   "outputs": [
    {
     "name": "stdout",
     "output_type": "stream",
     "text": [
      " * Serving Flask app '__main__'\n",
      " * Debug mode: on\n"
     ]
    },
    {
     "name": "stderr",
     "output_type": "stream",
     "text": [
      "WARNING: This is a development server. Do not use it in a production deployment. Use a production WSGI server instead.\n",
      " * Running on http://127.0.0.1:5000\n",
      "Press CTRL+C to quit\n",
      "127.0.0.1 - - [04/Oct/2024 14:43:33] \"GET / HTTP/1.1\" 500 -\n",
      "Traceback (most recent call last):\n",
      "  File \"D:\\ANACONDA\\Lib\\site-packages\\flask\\app.py\", line 1498, in __call__\n",
      "    return self.wsgi_app(environ, start_response)\n",
      "           ^^^^^^^^^^^^^^^^^^^^^^^^^^^^^^^^^^^^^^\n",
      "  File \"D:\\ANACONDA\\Lib\\site-packages\\flask\\app.py\", line 1476, in wsgi_app\n",
      "    response = self.handle_exception(e)\n",
      "               ^^^^^^^^^^^^^^^^^^^^^^^^\n",
      "  File \"D:\\ANACONDA\\Lib\\site-packages\\flask\\app.py\", line 1473, in wsgi_app\n",
      "    response = self.full_dispatch_request()\n",
      "               ^^^^^^^^^^^^^^^^^^^^^^^^^^^^\n",
      "  File \"D:\\ANACONDA\\Lib\\site-packages\\flask\\app.py\", line 882, in full_dispatch_request\n",
      "    rv = self.handle_user_exception(e)\n",
      "         ^^^^^^^^^^^^^^^^^^^^^^^^^^^^^\n",
      "  File \"D:\\ANACONDA\\Lib\\site-packages\\flask\\app.py\", line 880, in full_dispatch_request\n",
      "    rv = self.dispatch_request()\n",
      "         ^^^^^^^^^^^^^^^^^^^^^^^\n",
      "  File \"D:\\ANACONDA\\Lib\\site-packages\\flask\\app.py\", line 865, in dispatch_request\n",
      "    return self.ensure_sync(self.view_functions[rule.endpoint])(**view_args)  # type: ignore[no-any-return]\n",
      "           ^^^^^^^^^^^^^^^^^^^^^^^^^^^^^^^^^^^^^^^^^^^^^^^^^^^^^^^^^^^^^^^^^^^^^^^^^^^^^^^^^^^^^^^^^^^^^^^^\n",
      "  File \"C:\\Users\\NASWA\\AppData\\Local\\Temp\\ipykernel_2556\\4085522392.py\", line 39, in home\n",
      "    return render_template('home.html')\n",
      "           ^^^^^^^^^^^^^^^^^^^^^^^^^^^^\n",
      "  File \"D:\\ANACONDA\\Lib\\site-packages\\flask\\templating.py\", line 149, in render_template\n",
      "    template = app.jinja_env.get_or_select_template(template_name_or_list)\n",
      "               ^^^^^^^^^^^^^^^^^^^^^^^^^^^^^^^^^^^^^^^^^^^^^^^^^^^^^^^^^^^\n",
      "  File \"D:\\ANACONDA\\Lib\\site-packages\\jinja2\\environment.py\", line 1084, in get_or_select_template\n",
      "    return self.get_template(template_name_or_list, parent, globals)\n",
      "           ^^^^^^^^^^^^^^^^^^^^^^^^^^^^^^^^^^^^^^^^^^^^^^^^^^^^^^^^^\n",
      "  File \"D:\\ANACONDA\\Lib\\site-packages\\jinja2\\environment.py\", line 1013, in get_template\n",
      "    return self._load_template(name, globals)\n",
      "           ^^^^^^^^^^^^^^^^^^^^^^^^^^^^^^^^^^\n",
      "  File \"D:\\ANACONDA\\Lib\\site-packages\\jinja2\\environment.py\", line 972, in _load_template\n",
      "    template = self.loader.load(self, name, self.make_globals(globals))\n",
      "               ^^^^^^^^^^^^^^^^^^^^^^^^^^^^^^^^^^^^^^^^^^^^^^^^^^^^^^^^\n",
      "  File \"D:\\ANACONDA\\Lib\\site-packages\\jinja2\\loaders.py\", line 126, in load\n",
      "    source, filename, uptodate = self.get_source(environment, name)\n",
      "                                 ^^^^^^^^^^^^^^^^^^^^^^^^^^^^^^^^^^\n",
      "  File \"D:\\ANACONDA\\Lib\\site-packages\\flask\\templating.py\", line 65, in get_source\n",
      "    return self._get_source_fast(environment, template)\n",
      "           ^^^^^^^^^^^^^^^^^^^^^^^^^^^^^^^^^^^^^^^^^^^^\n",
      "  File \"D:\\ANACONDA\\Lib\\site-packages\\flask\\templating.py\", line 99, in _get_source_fast\n",
      "    raise TemplateNotFound(template)\n",
      "jinja2.exceptions.TemplateNotFound: home.html\n",
      "127.0.0.1 - - [04/Oct/2024 14:43:33] \"GET /?__debugger__=yes&cmd=resource&f=style.css HTTP/1.1\" 304 -\n",
      "127.0.0.1 - - [04/Oct/2024 14:43:33] \"GET /?__debugger__=yes&cmd=resource&f=debugger.js HTTP/1.1\" 304 -\n",
      "127.0.0.1 - - [04/Oct/2024 14:43:33] \"GET /?__debugger__=yes&cmd=resource&f=console.png HTTP/1.1\" 304 -\n"
     ]
    }
   ],
   "source": [
    "from flask import Flask, render_template, redirect, url_for, request, flash\n",
    "from flask_pymongo import PyMongo\n",
    "from flask_bcrypt import Bcrypt\n",
    "from flask_login import LoginManager, UserMixin, login_user, login_required, logout_user, current_user\n",
    "from bson.objectid import ObjectId\n",
    "\n",
    "app = Flask(__name__)\n",
    "app.config['MONGO_URI'] = 'mongodb://localhost:27017/user_management'\n",
    "app.config['SECRET_KEY'] = 'secretkey'\n",
    "\n",
    "# Setup MongoDB, bcrypt, dan login manager\n",
    "mongo = PyMongo(app)\n",
    "bcrypt = Bcrypt(app)\n",
    "login_manager = LoginManager(app)\n",
    "login_manager.login_view = 'login'\n",
    "\n",
    "# User class untuk Flask-Login\n",
    "class User(UserMixin):\n",
    "    def __init__(self, user_data):\n",
    "        self.id = str(user_data[\"_id\"])\n",
    "        self.email = user_data[\"email\"]\n",
    "        self.name = user_data[\"name\"]\n",
    "        self.role = user_data[\"role\"]\n",
    "\n",
    "    def get_id(self):\n",
    "        return self.id\n",
    "\n",
    "# Mengambil data pengguna dari database dan mengubahnya menjadi User class\n",
    "@login_manager.user_loader\n",
    "def load_user(user_id):\n",
    "    user_data = mongo.db.users.find_one({\"_id\": ObjectId(user_id)})\n",
    "    if user_data:\n",
    "        return User(user_data)\n",
    "    return None\n",
    "\n",
    "# Halaman utama (home)\n",
    "@app.route('/')\n",
    "def home():\n",
    "    return render_template('home.html')\n",
    "\n",
    "# Route untuk registrasi pengguna\n",
    "@app.route('/register', methods=['GET', 'POST'])\n",
    "def register():\n",
    "    if request.method == 'POST':\n",
    "        name = request.form['name']\n",
    "        email = request.form['email']\n",
    "        password = request.form['password']\n",
    "        hashed_password = bcrypt.generate_password_hash(password).decode('utf-8')\n",
    "        role = 'user'\n",
    "\n",
    "        # Menyimpan data pengguna ke MongoDB\n",
    "        mongo.db.users.insert_one({\n",
    "            \"name\": name,\n",
    "            \"email\": email,\n",
    "            \"password\": hashed_password,\n",
    "            \"role\": role\n",
    "        })\n",
    "        flash('Registrasi berhasil! Silakan login.', 'success')\n",
    "        return redirect(url_for('login'))\n",
    "    return render_template('register.html')\n",
    "\n",
    "# Route untuk login pengguna\n",
    "@app.route('/login', methods=['GET', 'POST'])\n",
    "def login():\n",
    "    if request.method == 'POST':\n",
    "        email = request.form['email']\n",
    "        password = request.form['password']\n",
    "        user = mongo.db.users.find_one({\"email\": email})\n",
    "\n",
    "        if user and bcrypt.check_password_hash(user[\"password\"], password):\n",
    "            user_obj = User(user)\n",
    "            login_user(user_obj)\n",
    "            flash('Login berhasil!', 'success')\n",
    "            return redirect(url_for('profile'))\n",
    "        else:\n",
    "            flash('Login gagal. Coba lagi.', 'danger')\n",
    "    return render_template('login.html')\n",
    "\n",
    "# Route untuk logout\n",
    "@app.route('/logout')\n",
    "@login_required\n",
    "def logout():\n",
    "    logout_user()\n",
    "    flash('Anda berhasil logout.', 'success')\n",
    "    return redirect(url_for('login'))\n",
    "\n",
    "# Route untuk halaman profil\n",
    "@app.route('/profile')\n",
    "@login_required\n",
    "def profile():\n",
    "    return render_template('profile.html', name=current_user.name)\n",
    "\n",
    "# Route untuk menampilkan semua pengguna (admin only)\n",
    "@app.route('/users')\n",
    "@login_required\n",
    "def users():\n",
    "    if current_user.role != 'admin':\n",
    "        flash('Anda tidak memiliki izin untuk mengakses halaman ini.', 'danger')\n",
    "        return redirect(url_for('profile'))\n",
    "\n",
    "    users = mongo.db.users.find()\n",
    "    return render_template('users.html', users=users)\n",
    "\n",
    "# Route untuk edit pengguna (admin only)\n",
    "@app.route('/edit_user/<user_id>', methods=['GET', 'POST'])\n",
    "@login_required\n",
    "def edit_user(user_id):\n",
    "    if current_user.role != 'admin':\n",
    "        flash('Anda tidak memiliki izin untuk mengedit pengguna.', 'danger')\n",
    "        return redirect(url_for('profile'))\n",
    "\n",
    "    user = mongo.db.users.find_one({\"_id\": ObjectId(user_id)})\n",
    "    if request.method == 'POST':\n",
    "        mongo.db.users.update_one({\"_id\": ObjectId(user_id)}, {\n",
    "            \"$set\": {\n",
    "                \"name\": request.form['name'],\n",
    "                \"email\": request.form['email'],\n",
    "                \"role\": request.form['role']\n",
    "            }\n",
    "        })\n",
    "        flash('Pengguna berhasil diperbarui.', 'success')\n",
    "        return redirect(url_for('users'))\n",
    "    \n",
    "    return render_template('edit_user.html', user=user)\n",
    "\n",
    "if __name__ == '__main__':\n",
    "    app.run(debug=True, use_reloader=False)\n"
   ]
  },
  {
   "cell_type": "code",
   "execution_count": null,
   "id": "bf15b378-2622-4fc5-9525-0ead3b8877f0",
   "metadata": {},
   "outputs": [],
   "source": []
  }
 ],
 "metadata": {
  "kernelspec": {
   "display_name": "Python 3 (ipykernel)",
   "language": "python",
   "name": "python3"
  },
  "language_info": {
   "codemirror_mode": {
    "name": "ipython",
    "version": 3
   },
   "file_extension": ".py",
   "mimetype": "text/x-python",
   "name": "python",
   "nbconvert_exporter": "python",
   "pygments_lexer": "ipython3",
   "version": "3.12.4"
  }
 },
 "nbformat": 4,
 "nbformat_minor": 5
}
