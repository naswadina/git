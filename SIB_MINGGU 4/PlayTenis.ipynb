{
 "cells": [
  {
   "cell_type": "code",
   "execution_count": 3,
   "id": "06dd04e2-795a-446a-88f7-ac56d7f2d36d",
   "metadata": {},
   "outputs": [
    {
     "name": "stdout",
     "output_type": "stream",
     "text": [
      "     Outlook Temperature Humidity    Wind Play\n",
      "0      Sunny         Hot     High    Weak   No\n",
      "1      Sunny         Hot     High  Strong   No\n",
      "2   Overcast         Hot     High    Weak  Yes\n",
      "3       Rain        Mild   Normal    Weak  Yes\n",
      "4       Rain        Cool   Normal  Strong  Yes\n",
      "5       Rain        Cool     High    Weak   No\n",
      "6   Overcast        Mild   Normal    Weak  Yes\n",
      "7      Sunny        Mild   Normal    Weak   No\n",
      "8      Sunny        Cool     High  Strong  Yes\n",
      "9       Rain        Mild   Normal  Strong  Yes\n",
      "10     Sunny        Cool   Normal    Weak  Yes\n",
      "11  Overcast        Mild     High  Strong  Yes\n",
      "12  Overcast         Hot   Normal  Strong  Yes\n",
      "13      Rain        Mild   Normal    Weak   No\n"
     ]
    }
   ],
   "source": [
    "import pandas as pd\n",
    "\n",
    "# Membuat dataset Play Tennis\n",
    "data = {\n",
    "    'Outlook': ['Sunny', 'Sunny', 'Overcast', 'Rain', 'Rain', 'Rain', 'Overcast', 'Sunny', 'Sunny', 'Rain', 'Sunny', 'Overcast', 'Overcast', 'Rain'],\n",
    "    'Temperature': ['Hot', 'Hot', 'Hot', 'Mild', 'Cool', 'Cool', 'Mild', 'Mild', 'Cool', 'Mild', 'Cool', 'Mild', 'Hot', 'Mild'],\n",
    "    'Humidity': ['High', 'High', 'High', 'Normal', 'Normal', 'High', 'Normal', 'Normal', 'High', 'Normal', 'Normal', 'High', 'Normal', 'Normal'],\n",
    "    'Wind': ['Weak', 'Strong', 'Weak', 'Weak', 'Strong', 'Weak', 'Weak', 'Weak', 'Strong', 'Strong', 'Weak', 'Strong', 'Strong', 'Weak'],\n",
    "    'Play': ['No', 'No', 'Yes', 'Yes', 'Yes', 'No', 'Yes', 'No', 'Yes', 'Yes', 'Yes', 'Yes', 'Yes', 'No']\n",
    "}\n",
    "\n",
    "df = pd.DataFrame(data)\n",
    "print(df)"
   ]
  },
  {
   "cell_type": "code",
   "execution_count": 7,
   "id": "1f316ee8-4839-4be4-b61e-a99ee002d85d",
   "metadata": {},
   "outputs": [
    {
     "name": "stdout",
     "output_type": "stream",
     "text": [
      "    Outlook  Temperature  Humidity  Wind  Play\n",
      "0         2            1         0     1     0\n",
      "1         2            1         0     0     0\n",
      "2         0            1         0     1     1\n",
      "3         1            2         1     1     1\n",
      "4         1            0         1     0     1\n",
      "5         1            0         0     1     0\n",
      "6         0            2         1     1     1\n",
      "7         2            2         1     1     0\n",
      "8         2            0         0     0     1\n",
      "9         1            2         1     0     1\n",
      "10        2            0         1     1     1\n",
      "11        0            2         0     0     1\n",
      "12        0            1         1     0     1\n",
      "13        1            2         1     1     0\n"
     ]
    }
   ],
   "source": [
    "from sklearn.preprocessing import LabelEncoder\n",
    "\n",
    "#Menginisialisasi LabelEncoder\n",
    "# Mengubah teks menjadi numerik \n",
    "label_encoders ={}\n",
    "for column in df.columns:\n",
    "    le = LabelEncoder()\n",
    "    df[column] = le.fit_transform(df[column])\n",
    "    label_encoders [column] = le\n",
    "print (df)"
   ]
  },
  {
   "cell_type": "code",
   "execution_count": 11,
   "id": "b47dec4a-3aa8-47f1-9c1c-14f2ed43d8ae",
   "metadata": {},
   "outputs": [],
   "source": [
    "# Memisahkan Fitur dengan label\n",
    "X = df.drop('Play', axis=1) # Fitur\n",
    "y = df['Play'] # Label"
   ]
  },
  {
   "cell_type": "code",
   "execution_count": 15,
   "id": "0f0f8308-a34e-477d-8eb0-3897dfec8aa1",
   "metadata": {},
   "outputs": [
    {
     "data": {
      "text/plain": [
       "0     0\n",
       "1     0\n",
       "2     1\n",
       "3     1\n",
       "4     1\n",
       "5     0\n",
       "6     1\n",
       "7     0\n",
       "8     1\n",
       "9     1\n",
       "10    1\n",
       "11    1\n",
       "12    1\n",
       "13    0\n",
       "Name: Play, dtype: int32"
      ]
     },
     "execution_count": 15,
     "metadata": {},
     "output_type": "execute_result"
    }
   ],
   "source": [
    "y"
   ]
  },
  {
   "cell_type": "code",
   "execution_count": 25,
   "id": "f1d61d7f-d6e5-4b0c-9067-5070a06bb90b",
   "metadata": {},
   "outputs": [
    {
     "name": "stdout",
     "output_type": "stream",
     "text": [
      "Akurasi Decision Tree: 0.75\n",
      "              precision    recall  f1-score   support\n",
      "\n",
      "           0       0.50      1.00      0.67         1\n",
      "           1       1.00      0.67      0.80         3\n",
      "\n",
      "    accuracy                           0.75         4\n",
      "   macro avg       0.75      0.83      0.73         4\n",
      "weighted avg       0.88      0.75      0.77         4\n",
      "\n"
     ]
    }
   ],
   "source": [
    "#Proses pembuatan model\n",
    "from sklearn.model_selection import train_test_split\n",
    "from sklearn.tree import DecisionTreeClassifier\n",
    "from sklearn.metrics import accuracy_score, classification_report\n",
    "\n",
    "# Membagi data menjadi data latih dan data uji\n",
    "X_train, X_test, y_train, y_test = train_test_split(X, y, test_size=0.25, random_state=42)\n",
    "\n",
    "# Membangun model Decision Tree\n",
    "dt_model = DecisionTreeClassifier(random_state=42)\n",
    "dt_model.fit(X_train, y_train)\n",
    "\n",
    "# Memprediksi label untuk data uji \n",
    "y_pred_dt = dt_model.predict(X_test)\n",
    "\n",
    "# Evaluasi model\n",
    "print(\"Akurasi Decision Tree:\", accuracy_score(y_test, y_pred_dt))\n",
    "print(classification_report(y_test, y_pred_dt))"
   ]
  },
  {
   "cell_type": "code",
   "execution_count": 29,
   "id": "5ffe3388-0ab4-4a1d-bb38-7897e5007904",
   "metadata": {},
   "outputs": [
    {
     "name": "stdout",
     "output_type": "stream",
     "text": [
      "|--- Outlook <= 0.50\n",
      "|   |--- class: 1\n",
      "|--- Outlook >  0.50\n",
      "|   |--- Temperature <= 0.50\n",
      "|   |   |--- Wind <= 0.50\n",
      "|   |   |   |--- class: 1\n",
      "|   |   |--- Wind >  0.50\n",
      "|   |   |   |--- Humidity <= 0.50\n",
      "|   |   |   |   |--- class: 0\n",
      "|   |   |   |--- Humidity >  0.50\n",
      "|   |   |   |   |--- class: 1\n",
      "|   |--- Temperature >  0.50\n",
      "|   |   |--- Outlook <= 1.50\n",
      "|   |   |   |--- class: 0\n",
      "|   |   |--- Outlook >  1.50\n",
      "|   |   |   |--- class: 0\n",
      "\n"
     ]
    }
   ],
   "source": [
    "from sklearn.tree import export_text\n",
    "\n",
    "#Tampilkan representasi teks dalam Decision Tree\n",
    "tree_rules = export_text(dt_model, feature_names = list(X.columns))\n",
    "print(tree_rules)"
   ]
  },
  {
   "cell_type": "code",
   "execution_count": 39,
   "id": "0ff8e969-cfa9-4117-a3fa-5879a0992e9c",
   "metadata": {},
   "outputs": [
    {
     "name": "stdout",
     "output_type": "stream",
     "text": [
      "No\n",
      "Yes\n"
     ]
    },
    {
     "name": "stderr",
     "output_type": "stream",
     "text": [
      "D:\\ANACONDA\\Lib\\site-packages\\sklearn\\base.py:493: UserWarning: X does not have valid feature names, but DecisionTreeClassifier was fitted with feature names\n",
      "  warnings.warn(\n",
      "D:\\ANACONDA\\Lib\\site-packages\\sklearn\\base.py:493: UserWarning: X does not have valid feature names, but DecisionTreeClassifier was fitted with feature names\n",
      "  warnings.warn(\n"
     ]
    }
   ],
   "source": [
    "# Fungsi untuk memprediksi apakah akan bermain tenis berdasarkan fitur baru\n",
    "def predict_play_tennis (outlook, temperature, humidity, wind):   \n",
    "    # Encode input menggunakan LabelEncoder\n",
    "    outlook_encoded = label_encoders['Outlook'].transform([outlook])[0]\n",
    "    temperature_encoded = label_encoders['Temperature'].transform([temperature])[0]\n",
    "    humidity_encoded = label_encoders['Humidity'].transform([humidity])[0]\n",
    "    wind_encoded = label_encoders ['Wind'].transform([wind])[0]\n",
    "\n",
    "    # Buat array input\n",
    "    input_data = [[outlook_encoded, temperature_encoded, humidity_encoded, wind_encoded]]\n",
    "\n",
    "    # Lakukan prediksi\n",
    "    prediction = dt_model.predict(input_data)\n",
    "    return \"Yes\" if prediction [0] == 1 else \"No\"\n",
    "\n",
    "# Contoh prediksi\n",
    "print(predict_play_tennis (\"Sunny\", \"Cool\", \"High\", \"Weak\"))\n",
    "print(predict_play_tennis(\"Overcast\", \"Mild\", \"Normal\", \"Weak\"))"
   ]
  },
  {
   "cell_type": "code",
   "execution_count": null,
   "id": "da301463-65a9-4448-b971-6d3064bd5c91",
   "metadata": {},
   "outputs": [],
   "source": []
  }
 ],
 "metadata": {
  "kernelspec": {
   "display_name": "Python 3 (ipykernel)",
   "language": "python",
   "name": "python3"
  },
  "language_info": {
   "codemirror_mode": {
    "name": "ipython",
    "version": 3
   },
   "file_extension": ".py",
   "mimetype": "text/x-python",
   "name": "python",
   "nbconvert_exporter": "python",
   "pygments_lexer": "ipython3",
   "version": "3.12.4"
  }
 },
 "nbformat": 4,
 "nbformat_minor": 5
}
