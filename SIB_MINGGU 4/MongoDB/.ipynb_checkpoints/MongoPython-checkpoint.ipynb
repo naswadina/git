{
 "cells": [
  {
   "cell_type": "code",
   "execution_count": 3,
   "id": "919751e4-de6a-4817-bd39-d0a4dbbc5199",
   "metadata": {},
   "outputs": [
    {
     "name": "stdout",
     "output_type": "stream",
     "text": [
      "Collecting pymongo\n",
      "  Downloading pymongo-4.10.1-cp312-cp312-win_amd64.whl.metadata (22 kB)\n",
      "Collecting dnspython<3.0.0,>=1.16.0 (from pymongo)\n",
      "  Downloading dnspython-2.6.1-py3-none-any.whl.metadata (5.8 kB)\n",
      "Downloading pymongo-4.10.1-cp312-cp312-win_amd64.whl (926 kB)\n",
      "   ---------------------------------------- 0.0/926.7 kB ? eta -:--:--\n",
      "   -- ------------------------------------- 61.4/926.7 kB 1.6 MB/s eta 0:00:01\n",
      "   --------- ------------------------------ 225.3/926.7 kB 2.8 MB/s eta 0:00:01\n",
      "   -------------------- ------------------- 481.3/926.7 kB 3.8 MB/s eta 0:00:01\n",
      "   ----------------------------------- ---- 829.4/926.7 kB 4.8 MB/s eta 0:00:01\n",
      "   ---------------------------------------- 926.7/926.7 kB 4.5 MB/s eta 0:00:00\n",
      "Downloading dnspython-2.6.1-py3-none-any.whl (307 kB)\n",
      "   ---------------------------------------- 0.0/307.7 kB ? eta -:--:--\n",
      "   ---------------------------------------  307.2/307.7 kB 9.6 MB/s eta 0:00:01\n",
      "   ---------------------------------------- 307.7/307.7 kB 9.6 MB/s eta 0:00:00\n",
      "Installing collected packages: dnspython, pymongo\n",
      "Successfully installed dnspython-2.6.1 pymongo-4.10.1\n",
      "Note: you may need to restart the kernel to use updated packages.\n"
     ]
    }
   ],
   "source": [
    "pip install pymongo"
   ]
  },
  {
   "cell_type": "code",
   "execution_count": 51,
   "id": "73281f95-16b0-45d4-a72f-c344f20a2f0c",
   "metadata": {},
   "outputs": [
    {
     "name": "stdout",
     "output_type": "stream",
     "text": [
      "{'_id': ObjectId('66fe46c1f58b1f1421e92693'), 'ID_Buku': 'B002', 'Judul': 'Belajar Data', 'Penulis': 'Siti', 'Tahun_Terbit': 2015}\n",
      "{'_id': ObjectId('66fe476513914df2152214fc'), 'ID_Buku': 'B003', 'Judul': 'Python Dasar', 'Penulis': 'Aji Nugraha', 'Tahun_Terbit': '2020'}\n",
      "{'_id': ObjectId('66fe482113914df2152214fd'), 'ID_Buku': 'B001', 'Judul': 'Penambangan Data', 'Penulis': 'Budi Utomo', 'Tahun_Terbit': '2010'}\n"
     ]
    }
   ],
   "source": [
    "#LIHAT DATA\n",
    "from pymongo import MongoClient\n",
    "# Koneksi ke MongoDB\n",
    "client = MongoClient(\"mongodb://localhost:27017/\")  # Pastikan MongoDB berjalan secara lokal di port 27017\n",
    "# Pilih database\n",
    "db = client[\"Perpustakaan\"]  # Ganti dengan nama database Anda\n",
    "# Pilih collection\n",
    "collection = db[\"Buku\"]  # Ganti dengan nama koleksi yang ingin dibuka\n",
    "# Menampilkan isi collection\n",
    "documents = collection.find()  # Mengambil semua dokumen dari koleksi\n",
    "# Menampilkan isi dokumen\n",
    "for doc in documents:\n",
    "    print(doc)\n",
    "# Menutup koneksi\n",
    "client.close()"
   ]
  },
  {
   "cell_type": "code",
   "execution_count": 55,
   "id": "59b62ede-88d7-4602-b95d-9b35866c0009",
   "metadata": {},
   "outputs": [
    {
     "name": "stdout",
     "output_type": "stream",
     "text": [
      "Data berhasil ditambahkan dengan ID: 66fe48d0f58b1f1421e9269d\n"
     ]
    }
   ],
   "source": [
    "#TAMBAH DATA\n",
    "from pymongo import MongoClient\n",
    "# Koneksi ke MongoDB\n",
    "client = MongoClient(\"mongodb://localhost:27017/\")  # Ubah sesuai dengan host MongoDB Anda\n",
    "# Pilih database\n",
    "db = client[\"Perpustakaan\"]  # Ganti dengan nama database Anda\n",
    "# Pilih collection\n",
    "collection = db[\"Buku\"]  # Ganti dengan nama koleksi Anda\n",
    "# Data yang ingin ditambahkan\n",
    "data_baru = {\n",
    "    \"ID_Buku\": 'B004', \n",
    "    \"Judul\": 'Machine Learning',  \n",
    "    \"Penulis\": 'Ayu sinta',\n",
    "    \"Tahun_Terbit\": 2013\n",
    "}\n",
    "# Menambahkan data ke collection\n",
    "insert_result = collection.insert_one(data_baru)\n",
    "# Menampilkan ID dokumen yang baru ditambahkan\n",
    "print(f\"Data berhasil ditambahkan dengan ID: {insert_result.inserted_id}\")\n",
    "# Menutup koneksi\n",
    "client.close()"
   ]
  },
  {
   "cell_type": "code",
   "execution_count": 57,
   "id": "0222ec8c-619b-4215-ab97-6b204d72eb4b",
   "metadata": {},
   "outputs": [
    {
     "name": "stdout",
     "output_type": "stream",
     "text": [
      "1 dokumen berhasil diupdate.\n"
     ]
    }
   ],
   "source": [
    "from pymongo import MongoClient\n",
    "# Koneksi ke MongoDB\n",
    "client = MongoClient(\"mongodb://localhost:27017/\")  # Ubah sesuai dengan host MongoDB Anda\n",
    "# Pilih database\n",
    "db = client[\"Perpustakaan\"]  # Ganti dengan nama database Anda\n",
    "# Pilih collection\n",
    "collection = db[\"Buku\"]  # Ganti dengan nama koleksi Anda\n",
    "# Kriteria data yang ingin diedit (berdasarkan judul dalam array)\n",
    "kriteria = {\"Judul\": \"Belajar Data\"}\n",
    "# Data baru yang ingin diupdate\n",
    "data_baru = {\n",
    "    \"$set\": {\n",
    "        \"Tahun_Terbit\": 2021,  # Mengubah Tahun Terbit untuk elemen array yang cocok\n",
    "    }\n",
    "}\n",
    "# Melakukan update data\n",
    "update_result = collection.update_one(kriteria, data_baru)\n",
    "# Menampilkan hasil\n",
    "if update_result.matched_count > 0:\n",
    "    print(f\"{update_result.modified_count} dokumen berhasil diupdate.\")\n",
    "else:\n",
    "    print(\"Tidak ada data yang cocok untuk diupdate.\")\n",
    "# Menutup koneksi\n",
    "client.close()"
   ]
  },
  {
   "cell_type": "code",
   "execution_count": 59,
   "id": "96bc216c-f374-4a34-86eb-1e539e667f8d",
   "metadata": {},
   "outputs": [
    {
     "name": "stdout",
     "output_type": "stream",
     "text": [
      "Dokumen berhasil dihapus.\n"
     ]
    }
   ],
   "source": [
    "#HAPUS DATA\n",
    "from pymongo import MongoClient\n",
    "# Koneksi ke MongoDB\n",
    "client = MongoClient(\"mongodb://localhost:27017/\")  # Ubah sesuai dengan host MongoDB Anda\n",
    "# Pilih database\n",
    "db = client[\"Perpustakaan\"]  # Ganti dengan nama database Anda\n",
    "# Pilih collection\n",
    "collection = db[\"Buku\"]  # Ganti dengan nama koleksi Anda\n",
    "# Kriteria data yang ingin dihapus (misalnya berdasarkan nama)\n",
    "kriteria = {\"Judul\": \"Belajar Data\"}\n",
    "# Menghapus satu data yang sesuai dengan kriteria\n",
    "delete_result = collection.delete_one(kriteria)\n",
    "# Menampilkan hasil\n",
    "if delete_result.deleted_count > 0:\n",
    "    print(\"Dokumen berhasil dihapus.\")\n",
    "else:\n",
    "    print(\"Tidak ada data yang cocok untuk dihapus.\")\n",
    "# Menutup koneksi\n",
    "client.close()"
   ]
  },
  {
   "cell_type": "code",
   "execution_count": null,
   "id": "0e6a92b3-f06b-4dac-b001-984da8e90c79",
   "metadata": {},
   "outputs": [],
   "source": []
  }
 ],
 "metadata": {
  "kernelspec": {
   "display_name": "Python 3 (ipykernel)",
   "language": "python",
   "name": "python3"
  },
  "language_info": {
   "codemirror_mode": {
    "name": "ipython",
    "version": 3
   },
   "file_extension": ".py",
   "mimetype": "text/x-python",
   "name": "python",
   "nbconvert_exporter": "python",
   "pygments_lexer": "ipython3",
   "version": "3.12.4"
  }
 },
 "nbformat": 4,
 "nbformat_minor": 5
}
