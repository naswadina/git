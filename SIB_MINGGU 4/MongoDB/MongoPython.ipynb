{
 "cells": [
  {
   "cell_type": "code",
   "execution_count": 1,
   "id": "919751e4-de6a-4817-bd39-d0a4dbbc5199",
   "metadata": {},
   "outputs": [
    {
     "name": "stdout",
     "output_type": "stream",
     "text": [
      "Requirement already satisfied: pymongo in d:\\anaconda\\lib\\site-packages (4.10.1)\n",
      "Requirement already satisfied: dnspython<3.0.0,>=1.16.0 in d:\\anaconda\\lib\\site-packages (from pymongo) (2.6.1)\n",
      "Note: you may need to restart the kernel to use updated packages.\n"
     ]
    }
   ],
   "source": [
    "pip install pymongo"
   ]
  },
  {
   "cell_type": "code",
   "execution_count": 5,
   "id": "73281f95-16b0-45d4-a72f-c344f20a2f0c",
   "metadata": {},
   "outputs": [
    {
     "name": "stdout",
     "output_type": "stream",
     "text": [
      "{'_id': ObjectId('66ff888438f64f24da55a02b'), 'Alamat': 'Jl. Kenanga', 'ID_Anggota': 'A001', 'Nama': 'Irawan Wijaya', 'No_Telepon': '08900001234'}\n",
      "{'_id': ObjectId('66ff88f838f64f24da55a02c'), 'Alamat': 'Jl. Utama 1', 'ID_Anggota': 'A002', 'Nama': 'Puspita Sari', 'No_Telepon': '082176452309'}\n",
      "{'_id': ObjectId('66ff897c38f64f24da55a02d'), 'ID_Anggota': 'A003', 'Nama': 'Andi', 'Alamat': 'Jl. Merdeka', 'No_Telepon': '081234567890'}\n",
      "{'_id': ObjectId('66ff8a8f38f64f24da55a02e'), 'ID_Anggota': 'A004', 'Nama': 'Yusril Hidayat', 'Alamat': 'Jl. Ahmad Yani', 'No_Telepon': '081234098765'}\n",
      "{'_id': ObjectId('66ff8af038f64f24da55a02f'), 'ID_Anggota': 'A005', 'Nama': 'Claudia', 'Alamat': 'Jl. Mawar', 'No_Telepon': '084198765434'}\n",
      "{'_id': ObjectId('66ff8b3f38f64f24da55a030'), 'ID_Anggota': 'A006', 'Nama': 'Fani', 'Alamat': 'Jl. Kartini', 'No_Telepon': '082198765432'}\n",
      "{'_id': ObjectId('66ff8b9238f64f24da55a033'), 'ID_Anggota': 'A007', 'Nama': 'Gilang Pratama', 'Alamat': 'Jl. Gatot Subroto', 'No_Telepon': '083134567893'}\n",
      "{'_id': ObjectId('66ff8bbd38f64f24da55a034'), 'ID_Anggota': 'A008', 'Nama': 'Hani Fitria', 'Alamat': 'Jl. Pemuda', 'No_Telepon': '083198765433'}\n",
      "{'_id': ObjectId('66ff8bf138f64f24da55a035'), 'ID_Anggota': 'A009', 'Nama': 'Indra', 'Alamat': 'Jl. Adisucipto', 'No_Telepon': '084134567894'}\n",
      "{'_id': ObjectId('66ff8c3e38f64f24da55a036'), 'ID_Anggota': 'A010', 'Nama': 'Susan', 'Alamat': 'Jl. Pahlawan', 'No_Telepon': '082134567892'}\n"
     ]
    }
   ],
   "source": [
    "#LIHAT DATA\n",
    "from pymongo import MongoClient\n",
    "# Koneksi ke MongoDB\n",
    "client = MongoClient(\"mongodb://localhost:27017/\")  # Pastikan MongoDB berjalan secara lokal di port 27017\n",
    "# Pilih database\n",
    "db = client[\"Perpustakaan\"]  # Ganti dengan nama database Anda\n",
    "# Pilih collection\n",
    "collection = db[\"Anggota\"] # Ganti dengan nama koleksi yang ingin dibuka\n",
    "# Menampilkan isi collection\n",
    "documents = collection.find()  # Mengambil semua dokumen dari koleksi\n",
    "# Menampilkan isi dokumen\n",
    "for doc in documents:\n",
    "    print(doc)\n",
    "# Menutup koneksi\n",
    "client.close()"
   ]
  },
  {
   "cell_type": "code",
   "execution_count": 7,
   "id": "59b62ede-88d7-4602-b95d-9b35866c0009",
   "metadata": {},
   "outputs": [
    {
     "name": "stdout",
     "output_type": "stream",
     "text": [
      "Data berhasil ditambahkan dengan ID: 66ff95aa7dfdadb99c0a2e5a\n"
     ]
    }
   ],
   "source": [
    "#TAMBAH DATA\n",
    "from pymongo import MongoClient\n",
    "# Koneksi ke MongoDB\n",
    "client = MongoClient(\"mongodb://localhost:27017/\")  # Ubah sesuai dengan host MongoDB Anda\n",
    "# Pilih database\n",
    "db = client[\"Perpustakaan\"]  # Ganti dengan nama database Anda\n",
    "# Pilih collection\n",
    "collection = db[\"Anggota\"]  # Ganti dengan nama koleksi Anda\n",
    "# Data yang ingin ditambahkan\n",
    "data_baru = {\n",
    "        \"Alamat\": \"Jl. Melati\",\n",
    "        \"ID_Anggota\": \"A011\",\n",
    "        \"Nama\": \"Malik\",\n",
    "        \"No_Telepon\": \"08267423000\"\n",
    "}\n",
    "# Menambahkan data ke collection\n",
    "insert_result = collection.insert_one(data_baru)\n",
    "# Menampilkan ID dokumen yang baru ditambahkan\n",
    "print(f\"Data berhasil ditambahkan dengan ID: {insert_result.inserted_id}\")\n",
    "# Menutup koneksi\n",
    "client.close()"
   ]
  },
  {
   "cell_type": "code",
   "execution_count": 9,
   "id": "0222ec8c-619b-4215-ab97-6b204d72eb4b",
   "metadata": {},
   "outputs": [
    {
     "name": "stdout",
     "output_type": "stream",
     "text": [
      "1 dokumen berhasil diupdate.\n"
     ]
    }
   ],
   "source": [
    "# UBAH DATA\n",
    "from pymongo import MongoClient\n",
    "# Koneksi ke MongoDB\n",
    "client = MongoClient(\"mongodb://localhost:27017/\")  # Ubah sesuai dengan host MongoDB Anda\n",
    "# Pilih database\n",
    "db = client[\"Perpustakaan\"]  # Ganti dengan nama database Anda\n",
    "# Pilih collection\n",
    "collection = db[\"Anggota\"]  # Ganti dengan nama koleksi Anda\n",
    "# Kriteria data yang ingin diedit (berdasarkan judul dalam array)\n",
    "kriteria = {\"Nama\": \"Gilang Pratama\"}\n",
    "# Data baru yang ingin diupdate\n",
    "data_baru = {\n",
    "    \"$set\": {\n",
    "        \"No_Telepon\": \"08356091281\",  # Mengubah Tahun Terbit untuk elemen array yang cocok\n",
    "    }\n",
    "}\n",
    "# Melakukan update data\n",
    "update_result = collection.update_one(kriteria, data_baru)\n",
    "# Menampilkan hasil\n",
    "if update_result.matched_count > 0:\n",
    "    print(f\"{update_result.modified_count} dokumen berhasil diupdate.\")\n",
    "else:\n",
    "    print(\"Tidak ada data yang cocok untuk diupdate.\")\n",
    "# Menutup koneksi\n",
    "client.close()"
   ]
  },
  {
   "cell_type": "code",
   "execution_count": 11,
   "id": "96bc216c-f374-4a34-86eb-1e539e667f8d",
   "metadata": {},
   "outputs": [
    {
     "name": "stdout",
     "output_type": "stream",
     "text": [
      "Dokumen berhasil dihapus.\n"
     ]
    }
   ],
   "source": [
    "#HAPUS DATA\n",
    "from pymongo import MongoClient\n",
    "# Koneksi ke MongoDB\n",
    "client = MongoClient(\"mongodb://localhost:27017/\")  # Ubah sesuai dengan host MongoDB Anda\n",
    "# Pilih database\n",
    "db = client[\"Perpustakaan\"]  # Ganti dengan nama database Anda\n",
    "# Pilih collection\n",
    "collection = db[\"Anggota\"]  # Ganti dengan nama koleksi Anda\n",
    "# Kriteria data yang ingin dihapus (misalnya berdasarkan nama)\n",
    "kriteria = {\"Nama\": \"Andi\"}\n",
    "# Menghapus satu data yang sesuai dengan kriteria\n",
    "delete_result = collection.delete_one(kriteria)\n",
    "# Menampilkan hasil\n",
    "if delete_result.deleted_count > 0:\n",
    "    print(\"Dokumen berhasil dihapus.\")\n",
    "else:\n",
    "    print(\"Tidak ada data yang cocok untuk dihapus.\")\n",
    "# Menutup koneksi\n",
    "client.close()"
   ]
  },
  {
   "cell_type": "code",
   "execution_count": null,
   "id": "0e6a92b3-f06b-4dac-b001-984da8e90c79",
   "metadata": {},
   "outputs": [],
   "source": []
  }
 ],
 "metadata": {
  "kernelspec": {
   "display_name": "Python 3 (ipykernel)",
   "language": "python",
   "name": "python3"
  },
  "language_info": {
   "codemirror_mode": {
    "name": "ipython",
    "version": 3
   },
   "file_extension": ".py",
   "mimetype": "text/x-python",
   "name": "python",
   "nbconvert_exporter": "python",
   "pygments_lexer": "ipython3",
   "version": "3.12.4"
  }
 },
 "nbformat": 4,
 "nbformat_minor": 5
}
