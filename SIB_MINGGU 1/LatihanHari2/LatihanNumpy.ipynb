{
 "cells": [
  {
   "cell_type": "code",
   "execution_count": 3,
   "id": "52542df6-7bd0-43f8-92e9-5b7a7e8c918d",
   "metadata": {},
   "outputs": [],
   "source": [
    "import numpy as np"
   ]
  },
  {
   "cell_type": "code",
   "execution_count": 11,
   "id": "57425794-486e-4b8d-a329-f97a1a3e6c17",
   "metadata": {},
   "outputs": [
    {
     "name": "stdout",
     "output_type": "stream",
     "text": [
      "[1 2 3 4 5]\n",
      "[[1 2 3]\n",
      " [4 5 6]]\n"
     ]
    }
   ],
   "source": [
    "# Membuat array numpy 1D\n",
    "arr = np.array([1, 2, 3, 4, 5])\n",
    "print(arr)\n",
    "\n",
    "# Membuat array numpy 2D\n",
    "arr_2d = np.array([[1, 2, 3,], [4, 5, 6]])\n",
    "print(arr_2d)"
   ]
  },
  {
   "cell_type": "code",
   "execution_count": 17,
   "id": "579835fc-e90e-4ce2-86b4-f6123b0881c4",
   "metadata": {},
   "outputs": [
    {
     "name": "stdout",
     "output_type": "stream",
     "text": [
      "[6 7 8]\n",
      "[2 4 6]\n"
     ]
    }
   ],
   "source": [
    "#menjumlahkan/mengalikan array\n",
    "arr = np.array([1, 2, 3,])\n",
    "print(arr + 5)\n",
    "print(arr * 2)"
   ]
  },
  {
   "cell_type": "code",
   "execution_count": 23,
   "id": "7b13741d-d10d-4668-b7c0-53ef30d43583",
   "metadata": {},
   "outputs": [
    {
     "name": "stdout",
     "output_type": "stream",
     "text": [
      "15\n",
      "3.0\n",
      "5\n",
      "1\n"
     ]
    }
   ],
   "source": [
    "arr = np.array([1, 2, 3, 4, 5])\n",
    "print(np.sum(arr)) # menjumlahkan elemen \n",
    "print(np.mean(arr)) # rata - rata elemen \n",
    "print(np.max(arr)) # nilai maksimum\n",
    "print(np.min(arr)) # nilai minimum "
   ]
  },
  {
   "cell_type": "code",
   "execution_count": 27,
   "id": "ca624f35-9e6a-471e-b96b-bc48705dbf51",
   "metadata": {},
   "outputs": [
    {
     "name": "stdout",
     "output_type": "stream",
     "text": [
      "[0 2 4 6 8]\n"
     ]
    }
   ],
   "source": [
    "# cara lain membuat array\n",
    "arr = np.arange(0, 10, 2) #membuat array dari 0 hingga 9 dengan step 2\n",
    "print(arr)"
   ]
  },
  {
   "cell_type": "code",
   "execution_count": 29,
   "id": "a18e018d-1b33-4e74-b968-6d284ac5d550",
   "metadata": {},
   "outputs": [
    {
     "name": "stdout",
     "output_type": "stream",
     "text": [
      "[5 7 9]\n",
      "[ 6 15]\n"
     ]
    }
   ],
   "source": [
    "arr_2d = np.array([[1, 2, 3,], [4, 5, 6]])\n",
    "print(np.sum(arr_2d, axis=0)) #Menjumlahkan setiap kolom \n",
    "print(np.sum(arr_2d, axis=1)) #Menjumlahkan setiap baris"
   ]
  },
  {
   "cell_type": "code",
   "execution_count": 33,
   "id": "aafb4933-3bb1-4f39-a493-449dd04d431c",
   "metadata": {},
   "outputs": [
    {
     "name": "stdout",
     "output_type": "stream",
     "text": [
      "[ 1  2  3  4  5  6  7  8  9 10 11 12]\n",
      "[[ 1  2  3  4]\n",
      " [ 5  6  7  8]\n",
      " [ 9 10 11 12]]\n"
     ]
    }
   ],
   "source": [
    "#Mengubah array satu menjadi dua dimensi dengan reshape\n",
    "arr = np.arange(1,13)\n",
    "print(arr)\n",
    "arr_reshaped = arr.reshape(3,4) #Mengubah bentuk array menjadi 3x4\n",
    "print(arr_reshaped) "
   ]
  },
  {
   "cell_type": "code",
   "execution_count": 39,
   "id": "e2bffad5-6d77-4876-92dd-9f48a099cadf",
   "metadata": {},
   "outputs": [
    {
     "name": "stdout",
     "output_type": "stream",
     "text": [
      "[40 50]\n"
     ]
    }
   ],
   "source": [
    "#Menyeleksi array\n",
    "arr = np.array([10,20,30,40,50])\n",
    "mask = arr > 30\n",
    "print(arr[mask]) #Menampilkan elemen yang leboh besar dari 30"
   ]
  },
  {
   "cell_type": "code",
   "execution_count": 43,
   "id": "d23984ae-9877-40e1-976e-1dce69789b9a",
   "metadata": {},
   "outputs": [
    {
     "name": "stdout",
     "output_type": "stream",
     "text": [
      "[1 2 3 4 5 6]\n",
      "[array([1, 2, 3]), array([4, 5, 6])]\n"
     ]
    }
   ],
   "source": [
    "arr1 = np.array([1, 2, 3])\n",
    "arr2 = np.array([4, 5, 6])\n",
    "combined = np.concatenate ((arr1, arr2)) # Menggabungkan array\n",
    "print (combined)\n",
    "\n",
    "split = np.split(combined, 2) #Membagi array menjadi dua bagian\n",
    "print(split)"
   ]
  },
  {
   "cell_type": "code",
   "execution_count": 45,
   "id": "ac4b944f-6cd0-4032-9e5b-305f4179ac52",
   "metadata": {},
   "outputs": [
    {
     "name": "stdout",
     "output_type": "stream",
     "text": [
      "[[0.79928208 0.2421206  0.72798739]\n",
      " [0.37533121 0.49832307 0.87725316]\n",
      " [0.94203898 0.15623922 0.40629442]]\n",
      "[[7 2 3]\n",
      " [7 5 7]]\n"
     ]
    }
   ],
   "source": [
    "rand_arr= np.random.rand(3, 3) # Membuat array 3x3 dengan nilai random antara 0 dan 1 \n",
    "print(rand_arr)\n",
    "\n",
    "randint_arr = np.random.randint(1, 10, size=(2, 3)) # Membuat array 2x3 dengan angka integer random \n",
    "print(randint_arr)"
   ]
  },
  {
   "cell_type": "code",
   "execution_count": 47,
   "id": "55610ab6-f6f5-4ae0-80b2-df8008c51a56",
   "metadata": {},
   "outputs": [
    {
     "name": "stdout",
     "output_type": "stream",
     "text": [
      "[[11 12 13]\n",
      " [14 15 16]]\n"
     ]
    }
   ],
   "source": [
    "arr = np.array([[1, 2, 3], [4, 5, 6]])\n",
    "scalar = 10\n",
    "print(arr + scalar) # Broadcasting menambah semua elemen dengan scalar"
   ]
  },
  {
   "cell_type": "code",
   "execution_count": 51,
   "id": "6f413570-a7d4-46c3-ad62-d0406cdd6a0b",
   "metadata": {},
   "outputs": [
    {
     "name": "stdout",
     "output_type": "stream",
     "text": [
      "[[19 22]\n",
      " [43 50]]\n",
      "[[-2.   1. ]\n",
      " [ 1.5 -0.5]]\n"
     ]
    }
   ],
   "source": [
    "# Perkalian matriks\n",
    "A = np.array([[1, 2], [3, 4]])\n",
    "B= np.array([[5, 6], [7, 8]])\n",
    "result = np.dot (A, B) # Perkalian matriks\n",
    "print(result)\n",
    "\n",
    "# Invers matriks\n",
    "A_inv = np.linalg.inv(A)\n",
    "print(A_inv)"
   ]
  },
  {
   "cell_type": "code",
   "execution_count": 53,
   "id": "66a9045a-b2a9-4d57-9416-a7609284f08a",
   "metadata": {},
   "outputs": [
    {
     "name": "stdout",
     "output_type": "stream",
     "text": [
      "Eigenvalues: [ 3. -1.]\n",
      "Eigenvectors: [[ 0.70710678 -0.70710678]\n",
      " [ 0.70710678  0.70710678]]\n"
     ]
    }
   ],
   "source": [
    "matrix = np.array([[1, 2], [2, 1]])\n",
    "eigenvalues, eigenvectors = np.linalg.eig(matrix)\n",
    "print(\"Eigenvalues:\", eigenvalues)\n",
    "print(\"Eigenvectors:\", eigenvectors)"
   ]
  },
  {
   "cell_type": "code",
   "execution_count": 57,
   "id": "b676c1a9-7a9e-4a09-920d-27d111898073",
   "metadata": {},
   "outputs": [
    {
     "name": "stdout",
     "output_type": "stream",
     "text": [
      "[1 2 4 7]\n",
      "[3 1 0 2]\n"
     ]
    }
   ],
   "source": [
    "arr = np.array ([4, 2, 7, 1])\n",
    "sorted_arr= np.sort(arr) # Mengurutkan array \n",
    "print(sorted_arr)\n",
    "indices = np.argsort(arr) # Mendapatkan indeks array yang diurutkan \n",
    "print(indices)"
   ]
  },
  {
   "cell_type": "code",
   "execution_count": 59,
   "id": "999d26cc-c9b3-4574-a0e3-8866bf48fd2f",
   "metadata": {},
   "outputs": [
    {
     "name": "stdout",
     "output_type": "stream",
     "text": [
      "[ 1  1 30 40]\n"
     ]
    }
   ],
   "source": [
    "arr = np.array([10, 20, 30, 40])\n",
    "result = np.where(arr> 20, arr, 1) # Ganti elemen yang Lebih kecil dari 20 dengan -1 \n",
    "print(result)"
   ]
  },
  {
   "cell_type": "code",
   "execution_count": 65,
   "id": "3415b976-1c89-4a65-94a1-5c9be3726c05",
   "metadata": {},
   "outputs": [
    {
     "name": "stdout",
     "output_type": "stream",
     "text": [
      "[False False  True False False]\n",
      "[1. 2. 3. 4. 5.]\n"
     ]
    }
   ],
   "source": [
    "arr = np.array([1, 2, np.nan, 4, 5]) \n",
    "print(np.isnan(arr)) # Memeriksa elemen NaN\n",
    "\n",
    "#Mengisi nilai Nan dengan rata-rata elemen Lainnya \n",
    "arr[np.isnan(arr)] = np.nanmean(arr) \n",
    "print(arr)"
   ]
  },
  {
   "cell_type": "code",
   "execution_count": 67,
   "id": "bfb9572c-8a5b-4215-81fa-74aa72a091a8",
   "metadata": {},
   "outputs": [
    {
     "name": "stdout",
     "output_type": "stream",
     "text": [
      "[ 0.84147098  0.90929743  0.14112001 -0.7568025  -0.95892427]\n"
     ]
    }
   ],
   "source": [
    "arr = np.array ([1, 2, 3, 4, 5])\n",
    "result = np.sin(arr) # Menerapkan fungsi sinus pada setiap elemen array \n",
    "print(result)"
   ]
  },
  {
   "cell_type": "code",
   "execution_count": 77,
   "id": "5c89e086-19cb-4f35-a66e-ab89c855df17",
   "metadata": {},
   "outputs": [
    {
     "name": "stdout",
     "output_type": "stream",
     "text": [
      "Waktu dengan loop biasa: 0.009441852569580078\n",
      "Waktu dengan Numpy: 0.0019991397857666016\n"
     ]
    }
   ],
   "source": [
    "import time\n",
    "\n",
    "# Menggunakan Loop biasa\n",
    "start = time.time()\n",
    "result = [i**2 for i in range(100000)]\n",
    "end = time.time()\n",
    "print(\"Waktu dengan loop biasa:\", end - start)\n",
    "\n",
    "# Menggunakan Numpy\n",
    "start = time.time()\n",
    "arr = np.arange(100000)\n",
    "result = arr**2\n",
    "end = time.time()\n",
    "print(\"Waktu dengan Numpy:\", end - start)"
   ]
  },
  {
   "cell_type": "code",
   "execution_count": 91,
   "id": "9e7f01cc-7cc7-4ea8-864d-94ae5b23ace5",
   "metadata": {},
   "outputs": [
    {
     "name": "stdout",
     "output_type": "stream",
     "text": [
      "[ 1  2  3  4  5  6  7  8  9 10]\n",
      "\n",
      "------------------------------\n",
      "\n",
      "[ 3  6  9 12 15]\n",
      "\n",
      "------------------------------\n",
      "\n",
      "[[1. 0. 0.]\n",
      " [0. 1. 0.]\n",
      " [0. 0. 1.]]\n",
      "\n",
      "------------------------------\n",
      "\n",
      "[[0.59329526 0.72368762 0.04103326 0.84629991 0.94085228]\n",
      " [0.47167252 0.90332805 0.56122618 0.34573675 0.16324592]\n",
      " [0.09302034 0.94608073 0.54106191 0.46603515 0.20825885]\n",
      " [0.75128046 0.87206091 0.59807572 0.80621347 0.01975992]\n",
      " [0.55977471 0.97874407 0.36326518 0.20221308 0.87325328]]\n",
      "Nilai maksimum: 0.9787440742760533\n",
      "\n",
      "------------------------------\n",
      "\n",
      "[[1 2 3]\n",
      " [4 5 6]\n",
      " [7 8 9]]\n",
      "\n",
      "------------------------------\n",
      "\n",
      "[[ 30  24  18]\n",
      " [ 84  69  54]\n",
      " [138 114  90]]\n",
      "\n",
      "------------------------------\n",
      "\n",
      "[4 5 6 7 8]\n",
      "\n",
      "------------------------------\n",
      "\n",
      "[1 2 3 4 5 6]\n",
      "\n",
      "------------------------------\n",
      "\n",
      "[11 12 13 14]\n",
      "\n",
      "------------------------------\n",
      "\n",
      "Array acak: [0.6911308  0.39162551 0.48969839 0.36065095 0.89892598 0.26874169\n",
      " 0.03963329 0.27447588 0.88870595 0.33004876]\n",
      "Array setelah diurutkan: [0.03963329 0.26874169 0.27447588 0.33004876 0.36065095 0.39162551\n",
      " 0.48969839 0.6911308  0.88870595 0.89892598]\n"
     ]
    }
   ],
   "source": [
    "# Latihan : \n",
    "# Soal: Buatlah array Numpy berisi angka dari 1 sampai 10.\n",
    "array_1_to_10 = np.arange(1, 11)\n",
    "print(array_1_to_10)\n",
    "\n",
    "print(\"\\n\" + \"-\"*30 + \"\\n\")\n",
    "\n",
    "# Soal 2 : Buat array dari 1 hingga 5, lalu kalikan setiap elemennya dengan 3.\n",
    "array_1_to_5 = np.arange(1, 6)\n",
    "array_multiplied = array_1_to_5 * 3  # Mengalikan setiap elemen dengan 3\n",
    "print(array_multiplied)\n",
    "\n",
    "print(\"\\n\" + \"-\"*30 + \"\\n\")\n",
    "\n",
    "# Soal 3 : Buatlah matriks identitas berukuran 3x3.\n",
    "identity_matrix = np.eye(3)\n",
    "print(identity_matrix)\n",
    "\n",
    "print(\"\\n\" + \"-\"*30 + \"\\n\")\n",
    "\n",
    "#Soal 4 : Buat array acak berukuran 5x5, lalu cari nilai maksimum dalam array tersebut.\n",
    "random_array = np.random.rand(5, 5)\n",
    "max_value = np.max(random_array)   # Mencari nilai maksimum dalam array\n",
    "print(random_array)\n",
    "print(\"Nilai maksimum:\", max_value)\n",
    "\n",
    "print(\"\\n\" + \"-\"*30 + \"\\n\")\n",
    "\n",
    "#Soal 5 : Buat array 1D dengan 9 elemen, lalu ubah menjadi array 2D dengan ukuran 3x3.\n",
    "array_1d = np.arange(1, 10)\n",
    "array_2d = array_1d.reshape(3, 3)  # Mengubah menjadi array 2D ukuran 3x3\n",
    "print(array_2d)\n",
    "\n",
    "print(\"\\n\" + \"-\"*30 + \"\\n\")\n",
    "\n",
    "#Soal 6 : Berikan dua matriks 3x3, hitung hasil perkalian dot product kedua matriks tersebut.\n",
    "matrix_a = np.array([[1, 2, 3], [4, 5, 6], [7, 8, 9]])\n",
    "matrix_b = np.array([[9, 8, 7], [6, 5, 4], [3, 2, 1]])\n",
    "dot_product = np.dot(matrix_a, matrix_b) # Menghitung dot product dari kedua matriks\n",
    "print(dot_product)\n",
    "\n",
    "print(\"\\n\" + \"-\"*30 + \"\\n\")\n",
    "\n",
    "#Soal 7 : Buat array 1D dari 1 hingga 10, kemudian ambil elemen pada indeks 3 sampai 7.\n",
    "array_1d = np.arange(1, 11)\n",
    "sliced_array = array_1d[3:8]  # Index 3 hingga 7 (Python slicing tidak termasuk indeks terakhir)\n",
    "print(sliced_array)\n",
    "\n",
    "print(\"\\n\" + \"-\"*30 + \"\\n\")\n",
    "\n",
    "#Soal 8 : Gabungkan dua array a = [1, 2, 3] dan b = [4, 5, 6] menjadi satu array.\n",
    "a = np.array([1, 2, 3])\n",
    "b = np.array([4, 5, 6])\n",
    "concatenated_array = np.concatenate((a, b)) # Menggabungkan kedua array\n",
    "print(concatenated_array)\n",
    "\n",
    "print(\"\\n\" + \"-\"*30 + \"\\n\")\n",
    "\n",
    "#Soal 9 : Buat array berisi angka 1 hingga 4, kemudian tambahkan 10 ke setiap elemen array tersebut dengan menggunakan broadcasting.\n",
    "array_broadcast = np.array([1, 2, 3, 4])\n",
    "array_broadcast = array_broadcast + 10 # Menambahkan 10 ke setiap elemen menggunakan broadcasting\n",
    "print(array_broadcast)\n",
    "\n",
    "print(\"\\n\" + \"-\"*30 + \"\\n\")\n",
    "\n",
    "#Soal 10 : Buat array acak berisi 10 elemen, lalu urutkan array tersebut.\n",
    "random_array = np.random.rand(10)\n",
    "sorted_array = np.sort(random_array) # Mengurutkan array\n",
    "print(\"Array acak:\", random_array)\n",
    "print(\"Array setelah diurutkan:\", sorted_array)"
   ]
  },
  {
   "cell_type": "code",
   "execution_count": null,
   "id": "5342eee4-8571-44d5-b8ba-f493feac15a1",
   "metadata": {},
   "outputs": [],
   "source": []
  }
 ],
 "metadata": {
  "kernelspec": {
   "display_name": "Python 3 (ipykernel)",
   "language": "python",
   "name": "python3"
  },
  "language_info": {
   "codemirror_mode": {
    "name": "ipython",
    "version": 3
   },
   "file_extension": ".py",
   "mimetype": "text/x-python",
   "name": "python",
   "nbconvert_exporter": "python",
   "pygments_lexer": "ipython3",
   "version": "3.12.4"
  }
 },
 "nbformat": 4,
 "nbformat_minor": 5
}
