{
 "cells": [
  {
   "cell_type": "markdown",
   "metadata": {
    "id": "fRZNh4mpxCHo"
   },
   "source": [
    "# ***EXAM WEEK 1***"
   ]
  },
  {
   "cell_type": "markdown",
   "metadata": {
    "id": "a2NWwjUqxIsG"
   },
   "source": [
    "## ***Dasar-dasar Python***"
   ]
  },
  {
   "cell_type": "markdown",
   "metadata": {
    "id": "Feu9kzIG0CyQ"
   },
   "source": [
    "### ***Soal No 1***"
   ]
  },
  {
   "cell_type": "code",
   "execution_count": 1,
   "metadata": {
    "colab": {
     "base_uri": "https://localhost:8080/"
    },
    "id": "0pP-d0zq0d-4",
    "outputId": "e8b2891a-ec59-4dd3-c47b-0145b7b6d2b9"
   },
   "outputs": [
    {
     "name": "stdin",
     "output_type": "stream",
     "text": [
      "Masukkan Nilai Faktorial :  5\n"
     ]
    },
    {
     "name": "stdout",
     "output_type": "stream",
     "text": [
      "Hasil Mengembalikan nilai faktorial :  120\n"
     ]
    }
   ],
   "source": [
    "n = int(input(\"Masukkan Nilai Faktorial : \"))\n",
    "faktorial = 1\n",
    "for i in range(1, n + 1):\n",
    "    faktorial *= i\n",
    "\n",
    "# Contoh penggunaan\n",
    "print(\"Hasil Mengembalikan nilai faktorial : \", faktorial)\n"
   ]
  },
  {
   "cell_type": "markdown",
   "metadata": {
    "id": "TviaLfpy08bX"
   },
   "source": [
    "### ***Soal No 2***"
   ]
  },
  {
   "cell_type": "code",
   "execution_count": 3,
   "metadata": {
    "colab": {
     "base_uri": "https://localhost:8080/"
    },
    "id": "l3QFYZdH07be",
    "outputId": "16117cd9-2f19-4dc0-8859-f34eaa09f06e"
   },
   "outputs": [
    {
     "name": "stdin",
     "output_type": "stream",
     "text": [
      "Masukkan kalimat :  belajar Python\n"
     ]
    },
    {
     "name": "stdout",
     "output_type": "stream",
     "text": [
      "{'a': 2, 'e': 1, 'o': 1}\n"
     ]
    }
   ],
   "source": [
    "# input kalimat\n",
    "kalimat = input(\"Masukkan kalimat : \")\n",
    "\n",
    "# Membuat dictionary untuk menyimpan jumlah vokal\n",
    "vokal_count = {'a': 0,\n",
    "               'e': 0,\n",
    "               'i': 0,\n",
    "               'o': 0,\n",
    "               'u': 0}\n",
    "\n",
    "# Mengubah kalimat menjadi huruf kecil (lowercase)\n",
    "kalimat = kalimat.lower()\n",
    "\n",
    "# Menghitung jumlah setiap vokal\n",
    "# Menggunakan perulangan untuk memeriksa setiap huruf dalam kalimat\n",
    "for huruf in kalimat:\n",
    "    if huruf in vokal_count:\n",
    "        vokal_count[huruf] += 1\n",
    "\n",
    "# Mengeluarkan hasil dalam bentuk Huruf Vokal\n",
    "print({vokal: count for vokal, count in vokal_count.items() if count > 0})\n"
   ]
  },
  {
   "cell_type": "markdown",
   "metadata": {
    "id": "FLD7ejUs_6QF"
   },
   "source": [
    "### ***Soal No 3***"
   ]
  },
  {
   "cell_type": "code",
   "execution_count": 5,
   "metadata": {
    "colab": {
     "base_uri": "https://localhost:8080/"
    },
    "id": "7pweREyiE0el",
    "outputId": "c9f2f544-b0d9-4dfd-aa7f-d08b429d97d3"
   },
   "outputs": [
    {
     "name": "stdout",
     "output_type": "stream",
     "text": [
      "[2, 4, 6, 8, 10, 12, 14, 16, 18, 20, 22, 24, 26, 28, 30, 32, 34, 36, 38, 40, 42, 44, 46, 48, 50, 52, 54, 56, 58, 60, 62, 64, 66, 68, 70, 72, 74, 76, 78, 80, 82, 84, 86, 88, 90, 92, 94, 96, 98, 100]\n"
     ]
    }
   ],
   "source": [
    "#List comprehension digunakan untuk membuat daftar angka genap.\n",
    "# Syaratnya adalah angka % 2 == 0,\n",
    "# yang berarti angka tersebut habis dibagi 2 (genap)\n",
    "angka_genap = [angka for angka in range(1, 101) if angka % 2 == 0]\n",
    "\n",
    "# Menampilkan hasil\n",
    "print(angka_genap)"
   ]
  },
  {
   "cell_type": "markdown",
   "metadata": {
    "id": "DGbcAI4bF9S2"
   },
   "source": [
    "### ***Soal No 4***"
   ]
  },
  {
   "cell_type": "code",
   "execution_count": 7,
   "metadata": {
    "colab": {
     "base_uri": "https://localhost:8080/"
    },
    "id": "-RJ-Ke9SGA2I",
    "outputId": "f2731b57-b56c-4119-a8ce-adb95a60442f"
   },
   "outputs": [
    {
     "name": "stdin",
     "output_type": "stream",
     "text": [
      "Masukkan sebuah string:  madam\n"
     ]
    },
    {
     "name": "stdout",
     "output_type": "stream",
     "text": [
      "String tersebut adalah palindrome.\n"
     ]
    }
   ],
   "source": [
    "# Meminta input dari pengguna\n",
    "string = input(\"Masukkan sebuah string: \")\n",
    "\n",
    "# Menghapus spasi dan mengubah string menjadi huruf kecil\n",
    "string = string.replace(\" \", \"\").lower()\n",
    "\n",
    "# Memeriksa apakah string adalah palindrome\n",
    "is_palindrome = string == string[::-1]\n",
    "\n",
    "# Menampilkan hasil\n",
    "if is_palindrome:\n",
    "    print(\"String tersebut adalah palindrome.\")\n",
    "else:\n",
    "    print(\"String tersebut bukan palindrome.\")"
   ]
  },
  {
   "cell_type": "markdown",
   "metadata": {
    "id": "JZXRv8ofJN6g"
   },
   "source": [
    "### ***Soal No 5***"
   ]
  },
  {
   "cell_type": "code",
   "execution_count": 9,
   "metadata": {
    "colab": {
     "base_uri": "https://localhost:8080/"
    },
    "id": "B1eg1sgUJRTT",
    "outputId": "807e9e16-5abe-43ad-a6cf-eb5745587dfe"
   },
   "outputs": [
    {
     "name": "stdin",
     "output_type": "stream",
     "text": [
      "Masukkan daftar tuple:  (1, 2), (3, 1), (5, 0)\n"
     ]
    },
    {
     "name": "stdout",
     "output_type": "stream",
     "text": [
      "[(5, 0), (3, 1), (1, 2)]\n"
     ]
    }
   ],
   "source": [
    "# Meminta input dari pengguna dan mengonversinya menjadi daftar tuple\n",
    "input_string = input(\"Masukkan daftar tuple: \")\n",
    "daftar_tuple = eval(input_string)\n",
    "\n",
    "# Mengurutkan daftar berdasarkan elemen kedua setiap tuple\n",
    "daftar_tuple_terurut = sorted(daftar_tuple, key=lambda x: x[1])\n",
    "\n",
    "# Menampilkan hasil\n",
    "print(daftar_tuple_terurut)"
   ]
  },
  {
   "cell_type": "markdown",
   "metadata": {
    "id": "btwb7udPKkUO"
   },
   "source": [
    "## ***Bagian 2: NumPy***"
   ]
  },
  {
   "cell_type": "markdown",
   "metadata": {
    "id": "qePKbSFCKmz9"
   },
   "source": [
    "### ***Soal No 1***"
   ]
  },
  {
   "cell_type": "code",
   "execution_count": 11,
   "metadata": {
    "colab": {
     "base_uri": "https://localhost:8080/"
    },
    "id": "STubJYMbKrAT",
    "outputId": "46bab546-5489-4825-de96-528c071f856b"
   },
   "outputs": [
    {
     "name": "stdout",
     "output_type": "stream",
     "text": [
      "Array: [ 45 870 842 970 364 384 442 404 346 209  54 835 649 216 466 761 988 904\n",
      " 104 442 489  27 762 355 147 825 283 770 383  45 720 624 240 885 617  41\n",
      " 613  49 917 799 603 806  51 776  19 437 919 315 942  71 621 887 277 820\n",
      " 212 911 125 141 952 235 424 134 167 587 107 512 986 670 760 762 548 858\n",
      " 496 558 673 728 791 172 399 599 814 599  46 512 365 771 161 517 847 749\n",
      " 116 153 171 420 981  33 914 850 497 764]\n",
      "Nilai rata-rata: 512.17\n",
      "Median: 514.5\n",
      "Standar deviasi: 303.20359677945777\n",
      "Jumlah nilai yang lebih besar dari 500: 52\n"
     ]
    }
   ],
   "source": [
    "import numpy as np\n",
    "\n",
    "# Membuat array NumPy 1D dari 100 angka acak antara 1 dan 1000\n",
    "array = np.random.randint(1, 1001, size=100)\n",
    "\n",
    "# Menghitung nilai rata-rata\n",
    "mean = np.mean(array)\n",
    "\n",
    "# Menghitung median\n",
    "median = np.median(array)\n",
    "\n",
    "# Menghitung standar deviasi\n",
    "std_dev = np.std(array)\n",
    "\n",
    "# Menghitung jumlah nilai yang lebih besar dari 500\n",
    "count_greater_than_500 = np.sum(array > 500)\n",
    "\n",
    "# Menampilkan hasil\n",
    "print(\"Array:\", array)\n",
    "print(\"Nilai rata-rata:\", mean)\n",
    "print(\"Median:\", median)\n",
    "print(\"Standar deviasi:\", std_dev)\n",
    "print(\"Jumlah nilai yang lebih besar dari 500:\", count_greater_than_500)"
   ]
  },
  {
   "cell_type": "markdown",
   "metadata": {
    "id": "JoMR_nh2QPay"
   },
   "source": [
    "### ***Soal No 2***"
   ]
  },
  {
   "cell_type": "code",
   "execution_count": 13,
   "metadata": {
    "colab": {
     "base_uri": "https://localhost:8080/"
    },
    "id": "GMz6NusDKq8-",
    "outputId": "22a50522-1da3-4c70-9db3-6dd59845f537"
   },
   "outputs": [
    {
     "name": "stdout",
     "output_type": "stream",
     "text": [
      "Matriks asli:\n",
      "[[ 5  9  5  3]\n",
      " [ 8  6 10  6]\n",
      " [10  2  0  1]\n",
      " [ 3  2  9  7]]\n",
      "\n",
      "Transpose matriks:\n",
      "[[ 5  8 10  3]\n",
      " [ 9  6  2  2]\n",
      " [ 5 10  0  9]\n",
      " [ 3  6  1  7]]\n",
      "\n",
      "Determinan matriks:\n",
      "1146.0000000000005\n",
      "\n",
      "Invers matriks:\n",
      "[[-0.05759162  0.07591623  0.08376963 -0.05235602]\n",
      " [ 0.17626527 -0.09598604 -0.01396161  0.008726  ]\n",
      " [-0.19371728  0.43717277 -0.17277487 -0.26701571]\n",
      " [ 0.22338569 -0.56719023  0.19022688  0.5061082 ]]\n"
     ]
    }
   ],
   "source": [
    "import numpy as np\n",
    "\n",
    "# Membuat matriks 4x4 dengan angka acak antara 0 dan 10\n",
    "matriks = np.random.randint(0, 11, size=(4, 4))\n",
    "\n",
    "# Mencetak matriks asli\n",
    "print(\"Matriks asli:\")\n",
    "print(matriks)\n",
    "\n",
    "# Mencari transpose dari matriks\n",
    "transpose_matriks = np.transpose(matriks)\n",
    "print(\"\\nTranspose matriks:\")\n",
    "print(transpose_matriks)\n",
    "\n",
    "# Mencari determinan dari matriks\n",
    "determinant = np.linalg.det(matriks)\n",
    "print(\"\\nDeterminan matriks:\")\n",
    "print(determinant)\n",
    "\n",
    "# Menghitung invers matriks jika ada\n",
    "if determinant != 0:\n",
    "    invers_matriks = np.linalg.inv(matriks)\n",
    "    print(\"\\nInvers matriks:\")\n",
    "    print(invers_matriks)\n",
    "else:\n",
    "    print(\"\\nMatriks tidak memiliki invers karena determinan 0.\")"
   ]
  },
  {
   "cell_type": "markdown",
   "metadata": {
    "id": "i2um8RCTQ8lt"
   },
   "source": [
    "### ***Soal No 3***"
   ]
  },
  {
   "cell_type": "code",
   "execution_count": 15,
   "metadata": {
    "colab": {
     "base_uri": "https://localhost:8080/"
    },
    "id": "N0DWTyTCRAPZ",
    "outputId": "f4218104-fedf-4b25-ba69-b8727bd0a9c8"
   },
   "outputs": [
    {
     "name": "stdout",
     "output_type": "stream",
     "text": [
      "Matriks 4x5:\n",
      "[[ 1  2  3  4  5]\n",
      " [ 6  7  8  9 10]\n",
      " [11 12 13 14 15]\n",
      " [16 17 18 19 20]]\n",
      "\n",
      "Nilai maksimum dari setiap baris:\n",
      "[ 5 10 15 20]\n",
      "\n",
      "Nilai maksimum dari setiap kolom:\n",
      "[16 17 18 19 20]\n"
     ]
    }
   ],
   "source": [
    "import numpy as np\n",
    "\n",
    "# Membuat array 1D dengan angka dari 1 hingga 20\n",
    "arr_1d = np.arange(1, 21)\n",
    "\n",
    "# Mengubah array 1D menjadi matriks 4x5\n",
    "matriks = arr_1d.reshape(4, 5)\n",
    "\n",
    "# Mencetak matriks\n",
    "print(\"Matriks 4x5:\")\n",
    "print(matriks)\n",
    "\n",
    "# Menghitung nilai maksimum dari setiap baris\n",
    "max_per_baris = np.max(matriks, axis=1)\n",
    "print(\"\\nNilai maksimum dari setiap baris:\")\n",
    "print(max_per_baris)\n",
    "\n",
    "# Menghitung nilai maksimum dari setiap kolom\n",
    "max_per_kolom = np.max(matriks, axis=0)\n",
    "print(\"\\nNilai maksimum dari setiap kolom:\")\n",
    "print(max_per_kolom)\n"
   ]
  },
  {
   "cell_type": "markdown",
   "metadata": {
    "id": "RY1-kvgvRf_o"
   },
   "source": [
    "### ***Soal No 4***"
   ]
  },
  {
   "cell_type": "code",
   "execution_count": 17,
   "metadata": {
    "colab": {
     "base_uri": "https://localhost:8080/"
    },
    "id": "2fRnKKEWRaBR",
    "outputId": "22da3179-8230-4cd4-efd2-b76800bd179d"
   },
   "outputs": [
    {
     "name": "stdout",
     "output_type": "stream",
     "text": [
      "Matriks 1:\n",
      "[[4 2 8]\n",
      " [6 4 1]\n",
      " [1 0 6]]\n",
      "\n",
      "Matriks 2:\n",
      "[[ 5  5  1]\n",
      " [ 0  7  6]\n",
      " [ 8 10  1]]\n",
      "\n",
      "Hasil penjumlahan matriks:\n",
      "[[ 9  7  9]\n",
      " [ 6 11  7]\n",
      " [ 9 10  7]]\n",
      "\n",
      "Hasil perkalian element-wise matriks:\n",
      "[[20 10  8]\n",
      " [ 0 28  6]\n",
      " [ 8  0  6]]\n",
      "\n",
      "Hasil perkalian matriks (dot product):\n",
      "[[ 84 114  24]\n",
      " [ 38  68  31]\n",
      " [ 53  65   7]]\n"
     ]
    }
   ],
   "source": [
    "import numpy as np\n",
    "\n",
    "# Membuat dua matriks 3x3 dengan angka acak antara 0 dan 10\n",
    "matriks1 = np.random.randint(0, 11, size=(3, 3))\n",
    "matriks2 = np.random.randint(0, 11, size=(3, 3))\n",
    "\n",
    "# Mencetak matriks asli\n",
    "print(\"Matriks 1:\")\n",
    "print(matriks1)\n",
    "print(\"\\nMatriks 2:\")\n",
    "print(matriks2)\n",
    "\n",
    "# Menambahkan kedua matriks\n",
    "matriks_tambah = matriks1 + matriks2\n",
    "print(\"\\nHasil penjumlahan matriks:\")\n",
    "print(matriks_tambah)\n",
    "\n",
    "# Mengalikan kedua matriks secara element-wise\n",
    "matriks_kali_elementwise = matriks1 * matriks2\n",
    "print(\"\\nHasil perkalian element-wise matriks:\")\n",
    "print(matriks_kali_elementwise)\n",
    "\n",
    "# Menghitung perkalian matriks (dot product)\n",
    "matriks_dot_product = np.dot(matriks1, matriks2)\n",
    "print(\"\\nHasil perkalian matriks (dot product):\")\n",
    "print(matriks_dot_product)\n"
   ]
  },
  {
   "cell_type": "markdown",
   "metadata": {
    "id": "WtHF7KhaSPTi"
   },
   "source": [
    "## ***Bagian 3: Pandas***"
   ]
  },
  {
   "cell_type": "markdown",
   "metadata": {
    "id": "nfByX00CSICW"
   },
   "source": [
    "### ***Soal No 1***"
   ]
  },
  {
   "cell_type": "code",
   "execution_count": 19,
   "metadata": {
    "id": "GkpIKI7ISMEY"
   },
   "outputs": [],
   "source": [
    "import pandas as pd\n",
    "import numpy as np\n",
    "import matplotlib.pyplot as plt"
   ]
  },
  {
   "cell_type": "code",
   "execution_count": 25,
   "metadata": {
    "id": "pJ7TWMRZSydQ"
   },
   "outputs": [],
   "source": [
    "data = pd.read_excel('Sample_Superstore.xlsx')"
   ]
  },
  {
   "cell_type": "code",
   "execution_count": 29,
   "metadata": {
    "colab": {
     "base_uri": "https://localhost:8080/",
     "height": 585
    },
    "id": "KylP6zu-TGOZ",
    "outputId": "f76535bc-896c-4b20-fdf7-3c4ff94bffa9"
   },
   "outputs": [
    {
     "data": {
      "text/html": [
       "<div>\n",
       "<style scoped>\n",
       "    .dataframe tbody tr th:only-of-type {\n",
       "        vertical-align: middle;\n",
       "    }\n",
       "\n",
       "    .dataframe tbody tr th {\n",
       "        vertical-align: top;\n",
       "    }\n",
       "\n",
       "    .dataframe thead th {\n",
       "        text-align: right;\n",
       "    }\n",
       "</style>\n",
       "<table border=\"1\" class=\"dataframe\">\n",
       "  <thead>\n",
       "    <tr style=\"text-align: right;\">\n",
       "      <th></th>\n",
       "      <th>Row ID</th>\n",
       "      <th>Order ID</th>\n",
       "      <th>Order Date</th>\n",
       "      <th>Ship Date</th>\n",
       "      <th>Ship Mode</th>\n",
       "      <th>Customer ID</th>\n",
       "      <th>Customer Name</th>\n",
       "      <th>Segment</th>\n",
       "      <th>Country</th>\n",
       "      <th>City</th>\n",
       "      <th>...</th>\n",
       "      <th>Postal Code</th>\n",
       "      <th>Region</th>\n",
       "      <th>Product ID</th>\n",
       "      <th>Category</th>\n",
       "      <th>Sub-Category</th>\n",
       "      <th>Product Name</th>\n",
       "      <th>Sales</th>\n",
       "      <th>Quantity</th>\n",
       "      <th>Discount</th>\n",
       "      <th>Profit</th>\n",
       "    </tr>\n",
       "  </thead>\n",
       "  <tbody>\n",
       "    <tr>\n",
       "      <th>0</th>\n",
       "      <td>1</td>\n",
       "      <td>CA-2016-152156</td>\n",
       "      <td>2016-11-08</td>\n",
       "      <td>2016-11-11</td>\n",
       "      <td>Second Class</td>\n",
       "      <td>CG-12520</td>\n",
       "      <td>Claire Gute</td>\n",
       "      <td>Consumer</td>\n",
       "      <td>United States</td>\n",
       "      <td>Henderson</td>\n",
       "      <td>...</td>\n",
       "      <td>42420</td>\n",
       "      <td>South</td>\n",
       "      <td>FUR-BO-10001798</td>\n",
       "      <td>Furniture</td>\n",
       "      <td>Bookcases</td>\n",
       "      <td>Bush Somerset Collection Bookcase</td>\n",
       "      <td>261.9600</td>\n",
       "      <td>2</td>\n",
       "      <td>0.00</td>\n",
       "      <td>41.9136</td>\n",
       "    </tr>\n",
       "    <tr>\n",
       "      <th>1</th>\n",
       "      <td>2</td>\n",
       "      <td>CA-2016-152156</td>\n",
       "      <td>2016-11-08</td>\n",
       "      <td>2016-11-11</td>\n",
       "      <td>Second Class</td>\n",
       "      <td>CG-12520</td>\n",
       "      <td>Claire Gute</td>\n",
       "      <td>Consumer</td>\n",
       "      <td>United States</td>\n",
       "      <td>Henderson</td>\n",
       "      <td>...</td>\n",
       "      <td>42420</td>\n",
       "      <td>South</td>\n",
       "      <td>FUR-CH-10000454</td>\n",
       "      <td>Furniture</td>\n",
       "      <td>Chairs</td>\n",
       "      <td>Hon Deluxe Fabric Upholstered Stacking Chairs,...</td>\n",
       "      <td>731.9400</td>\n",
       "      <td>3</td>\n",
       "      <td>0.00</td>\n",
       "      <td>219.5820</td>\n",
       "    </tr>\n",
       "    <tr>\n",
       "      <th>2</th>\n",
       "      <td>3</td>\n",
       "      <td>CA-2016-138688</td>\n",
       "      <td>2016-06-12</td>\n",
       "      <td>2016-06-16</td>\n",
       "      <td>Second Class</td>\n",
       "      <td>DV-13045</td>\n",
       "      <td>Darrin Van Huff</td>\n",
       "      <td>Corporate</td>\n",
       "      <td>United States</td>\n",
       "      <td>Los Angeles</td>\n",
       "      <td>...</td>\n",
       "      <td>90036</td>\n",
       "      <td>West</td>\n",
       "      <td>OFF-LA-10000240</td>\n",
       "      <td>Office Supplies</td>\n",
       "      <td>Labels</td>\n",
       "      <td>Self-Adhesive Address Labels for Typewriters b...</td>\n",
       "      <td>14.6200</td>\n",
       "      <td>2</td>\n",
       "      <td>0.00</td>\n",
       "      <td>6.8714</td>\n",
       "    </tr>\n",
       "    <tr>\n",
       "      <th>3</th>\n",
       "      <td>4</td>\n",
       "      <td>US-2015-108966</td>\n",
       "      <td>2015-10-11</td>\n",
       "      <td>2015-10-18</td>\n",
       "      <td>Standard Class</td>\n",
       "      <td>SO-20335</td>\n",
       "      <td>Sean O'Donnell</td>\n",
       "      <td>Consumer</td>\n",
       "      <td>United States</td>\n",
       "      <td>Fort Lauderdale</td>\n",
       "      <td>...</td>\n",
       "      <td>33311</td>\n",
       "      <td>South</td>\n",
       "      <td>FUR-TA-10000577</td>\n",
       "      <td>Furniture</td>\n",
       "      <td>Tables</td>\n",
       "      <td>Bretford CR4500 Series Slim Rectangular Table</td>\n",
       "      <td>957.5775</td>\n",
       "      <td>5</td>\n",
       "      <td>0.45</td>\n",
       "      <td>-383.0310</td>\n",
       "    </tr>\n",
       "    <tr>\n",
       "      <th>4</th>\n",
       "      <td>5</td>\n",
       "      <td>US-2015-108966</td>\n",
       "      <td>2015-10-11</td>\n",
       "      <td>2015-10-18</td>\n",
       "      <td>Standard Class</td>\n",
       "      <td>SO-20335</td>\n",
       "      <td>Sean O'Donnell</td>\n",
       "      <td>Consumer</td>\n",
       "      <td>United States</td>\n",
       "      <td>Fort Lauderdale</td>\n",
       "      <td>...</td>\n",
       "      <td>33311</td>\n",
       "      <td>South</td>\n",
       "      <td>OFF-ST-10000760</td>\n",
       "      <td>Office Supplies</td>\n",
       "      <td>Storage</td>\n",
       "      <td>Eldon Fold 'N Roll Cart System</td>\n",
       "      <td>22.3680</td>\n",
       "      <td>2</td>\n",
       "      <td>0.20</td>\n",
       "      <td>2.5164</td>\n",
       "    </tr>\n",
       "  </tbody>\n",
       "</table>\n",
       "<p>5 rows × 21 columns</p>\n",
       "</div>"
      ],
      "text/plain": [
       "   Row ID        Order ID Order Date  Ship Date       Ship Mode Customer ID  \\\n",
       "0       1  CA-2016-152156 2016-11-08 2016-11-11    Second Class    CG-12520   \n",
       "1       2  CA-2016-152156 2016-11-08 2016-11-11    Second Class    CG-12520   \n",
       "2       3  CA-2016-138688 2016-06-12 2016-06-16    Second Class    DV-13045   \n",
       "3       4  US-2015-108966 2015-10-11 2015-10-18  Standard Class    SO-20335   \n",
       "4       5  US-2015-108966 2015-10-11 2015-10-18  Standard Class    SO-20335   \n",
       "\n",
       "     Customer Name    Segment        Country             City  ...  \\\n",
       "0      Claire Gute   Consumer  United States        Henderson  ...   \n",
       "1      Claire Gute   Consumer  United States        Henderson  ...   \n",
       "2  Darrin Van Huff  Corporate  United States      Los Angeles  ...   \n",
       "3   Sean O'Donnell   Consumer  United States  Fort Lauderdale  ...   \n",
       "4   Sean O'Donnell   Consumer  United States  Fort Lauderdale  ...   \n",
       "\n",
       "  Postal Code  Region       Product ID         Category Sub-Category  \\\n",
       "0       42420   South  FUR-BO-10001798        Furniture    Bookcases   \n",
       "1       42420   South  FUR-CH-10000454        Furniture       Chairs   \n",
       "2       90036    West  OFF-LA-10000240  Office Supplies       Labels   \n",
       "3       33311   South  FUR-TA-10000577        Furniture       Tables   \n",
       "4       33311   South  OFF-ST-10000760  Office Supplies      Storage   \n",
       "\n",
       "                                        Product Name     Sales  Quantity  \\\n",
       "0                  Bush Somerset Collection Bookcase  261.9600         2   \n",
       "1  Hon Deluxe Fabric Upholstered Stacking Chairs,...  731.9400         3   \n",
       "2  Self-Adhesive Address Labels for Typewriters b...   14.6200         2   \n",
       "3      Bretford CR4500 Series Slim Rectangular Table  957.5775         5   \n",
       "4                     Eldon Fold 'N Roll Cart System   22.3680         2   \n",
       "\n",
       "   Discount    Profit  \n",
       "0      0.00   41.9136  \n",
       "1      0.00  219.5820  \n",
       "2      0.00    6.8714  \n",
       "3      0.45 -383.0310  \n",
       "4      0.20    2.5164  \n",
       "\n",
       "[5 rows x 21 columns]"
      ]
     },
     "execution_count": 29,
     "metadata": {},
     "output_type": "execute_result"
    }
   ],
   "source": [
    "# Menampilkan 5 data teratas\n",
    "data.head()"
   ]
  },
  {
   "cell_type": "code",
   "execution_count": 31,
   "metadata": {
    "colab": {
     "base_uri": "https://localhost:8080/",
     "height": 742
    },
    "id": "XXsITma4TU_I",
    "outputId": "f7120042-2a23-42b6-b800-bbba9abd637a"
   },
   "outputs": [
    {
     "data": {
      "text/plain": [
       "Row ID                    int64\n",
       "Order ID                 object\n",
       "Order Date       datetime64[ns]\n",
       "Ship Date        datetime64[ns]\n",
       "Ship Mode                object\n",
       "Customer ID              object\n",
       "Customer Name            object\n",
       "Segment                  object\n",
       "Country                  object\n",
       "City                     object\n",
       "State                    object\n",
       "Postal Code               int64\n",
       "Region                   object\n",
       "Product ID               object\n",
       "Category                 object\n",
       "Sub-Category             object\n",
       "Product Name             object\n",
       "Sales                   float64\n",
       "Quantity                  int64\n",
       "Discount                float64\n",
       "Profit                  float64\n",
       "dtype: object"
      ]
     },
     "execution_count": 31,
     "metadata": {},
     "output_type": "execute_result"
    }
   ],
   "source": [
    "#Tipe data setiap kolom\n",
    "data.dtypes"
   ]
  },
  {
   "cell_type": "code",
   "execution_count": 33,
   "metadata": {
    "colab": {
     "base_uri": "https://localhost:8080/",
     "height": 125
    },
    "id": "RxvmH-03Tkq0",
    "outputId": "14991b41-a38a-4cd6-dd15-f8ed14d0d708"
   },
   "outputs": [
    {
     "name": "stdout",
     "output_type": "stream",
     "text": [
      "Total Sales dan Profit untuk setiap Category: \n",
      "\n"
     ]
    },
    {
     "data": {
      "text/html": [
       "<div>\n",
       "<style scoped>\n",
       "    .dataframe tbody tr th:only-of-type {\n",
       "        vertical-align: middle;\n",
       "    }\n",
       "\n",
       "    .dataframe tbody tr th {\n",
       "        vertical-align: top;\n",
       "    }\n",
       "\n",
       "    .dataframe thead th {\n",
       "        text-align: right;\n",
       "    }\n",
       "</style>\n",
       "<table border=\"1\" class=\"dataframe\">\n",
       "  <thead>\n",
       "    <tr style=\"text-align: right;\">\n",
       "      <th></th>\n",
       "      <th>Category</th>\n",
       "      <th>Sales</th>\n",
       "      <th>Profit</th>\n",
       "    </tr>\n",
       "  </thead>\n",
       "  <tbody>\n",
       "    <tr>\n",
       "      <th>0</th>\n",
       "      <td>Furniture</td>\n",
       "      <td>741999.7953</td>\n",
       "      <td>18451.2728</td>\n",
       "    </tr>\n",
       "    <tr>\n",
       "      <th>1</th>\n",
       "      <td>Office Supplies</td>\n",
       "      <td>719047.0320</td>\n",
       "      <td>122490.8008</td>\n",
       "    </tr>\n",
       "    <tr>\n",
       "      <th>2</th>\n",
       "      <td>Technology</td>\n",
       "      <td>836154.0330</td>\n",
       "      <td>145454.9481</td>\n",
       "    </tr>\n",
       "  </tbody>\n",
       "</table>\n",
       "</div>"
      ],
      "text/plain": [
       "          Category        Sales       Profit\n",
       "0        Furniture  741999.7953   18451.2728\n",
       "1  Office Supplies  719047.0320  122490.8008\n",
       "2       Technology  836154.0330  145454.9481"
      ]
     },
     "metadata": {},
     "output_type": "display_data"
    }
   ],
   "source": [
    "# total Sales dan Profit untuk setiap Category\n",
    "# Mengelompokkan data berdasarkan 'Category' dan menghitung total 'Sales' dan 'Profit'\n",
    "total = data.groupby('Category').agg({'Sales': 'sum', 'Profit': 'sum'}).reset_index()\n",
    "\n",
    "# Menampilkan hasil\n",
    "print(\"Total Sales dan Profit untuk setiap Category: \\n\")\n",
    "display(total)"
   ]
  },
  {
   "cell_type": "code",
   "execution_count": 35,
   "metadata": {
    "colab": {
     "base_uri": "https://localhost:8080/",
     "height": 564
    },
    "id": "u9-tWDT7T9Zp",
    "outputId": "14c8c59c-12d6-459b-d598-c3b39bcbfc30"
   },
   "outputs": [
    {
     "data": {
      "image/png": "[encoded data removed]",
      "text/plain": [
       "<Figure size 1000x600 with 1 Axes>"
      ]
     },
     "metadata": {},
     "output_type": "display_data"
    }
   ],
   "source": [
    "# Membuat Visualisasi data (Diagram Batang)\n",
    "# Mengelompokkan data berdasarkan region dan menghitung total sales\n",
    "total_sales_by_region = data.groupby('Region')['Sales'].sum().reset_index()\n",
    "\n",
    "# Membuat grafik batang\n",
    "plt.figure(figsize=(10, 6))\n",
    "plt.bar(total_sales_by_region['Region'], total_sales_by_region['Sales'], color='lightgreen')\n",
    "\n",
    "# Menambahkan judul dan label\n",
    "plt.title('Total Sales untuk Setiap Region')\n",
    "plt.xlabel('Region')\n",
    "plt.ylabel('Total Sales')\n",
    "\n",
    "# Menampilkan grafik\n",
    "plt.show()"
   ]
  },
  {
   "cell_type": "markdown",
   "metadata": {
    "id": "Dhl5kTiAUuRw"
   },
   "source": [
    "### ***Soal No 2***"
   ]
  },
  {
   "cell_type": "code",
   "execution_count": 37,
   "metadata": {
    "colab": {
     "base_uri": "https://localhost:8080/",
     "height": 1000
    },
    "id": "WtFAubGCUxn7",
    "outputId": "4ac32d15-6cbc-4e6e-f2e9-e221ff15807b"
   },
   "outputs": [
    {
     "name": "stdout",
     "output_type": "stream",
     "text": [
      "Penjualan dari California: \n",
      "\n"
     ]
    },
    {
     "data": {
      "text/html": [
       "<div>\n",
       "<style scoped>\n",
       "    .dataframe tbody tr th:only-of-type {\n",
       "        vertical-align: middle;\n",
       "    }\n",
       "\n",
       "    .dataframe tbody tr th {\n",
       "        vertical-align: top;\n",
       "    }\n",
       "\n",
       "    .dataframe thead th {\n",
       "        text-align: right;\n",
       "    }\n",
       "</style>\n",
       "<table border=\"1\" class=\"dataframe\">\n",
       "  <thead>\n",
       "    <tr style=\"text-align: right;\">\n",
       "      <th></th>\n",
       "      <th>Row ID</th>\n",
       "      <th>Order ID</th>\n",
       "      <th>Order Date</th>\n",
       "      <th>Ship Date</th>\n",
       "      <th>Ship Mode</th>\n",
       "      <th>Customer ID</th>\n",
       "      <th>Customer Name</th>\n",
       "      <th>Segment</th>\n",
       "      <th>Country</th>\n",
       "      <th>City</th>\n",
       "      <th>...</th>\n",
       "      <th>Postal Code</th>\n",
       "      <th>Region</th>\n",
       "      <th>Product ID</th>\n",
       "      <th>Category</th>\n",
       "      <th>Sub-Category</th>\n",
       "      <th>Product Name</th>\n",
       "      <th>Sales</th>\n",
       "      <th>Quantity</th>\n",
       "      <th>Discount</th>\n",
       "      <th>Profit</th>\n",
       "    </tr>\n",
       "  </thead>\n",
       "  <tbody>\n",
       "    <tr>\n",
       "      <th>2</th>\n",
       "      <td>3</td>\n",
       "      <td>CA-2016-138688</td>\n",
       "      <td>2016-06-12</td>\n",
       "      <td>2016-06-16</td>\n",
       "      <td>Second Class</td>\n",
       "      <td>DV-13045</td>\n",
       "      <td>Darrin Van Huff</td>\n",
       "      <td>Corporate</td>\n",
       "      <td>United States</td>\n",
       "      <td>Los Angeles</td>\n",
       "      <td>...</td>\n",
       "      <td>90036</td>\n",
       "      <td>West</td>\n",
       "      <td>OFF-LA-10000240</td>\n",
       "      <td>Office Supplies</td>\n",
       "      <td>Labels</td>\n",
       "      <td>Self-Adhesive Address Labels for Typewriters b...</td>\n",
       "      <td>14.620</td>\n",
       "      <td>2</td>\n",
       "      <td>0.0</td>\n",
       "      <td>6.8714</td>\n",
       "    </tr>\n",
       "    <tr>\n",
       "      <th>5</th>\n",
       "      <td>6</td>\n",
       "      <td>CA-2014-115812</td>\n",
       "      <td>2014-06-09</td>\n",
       "      <td>2014-06-14</td>\n",
       "      <td>Standard Class</td>\n",
       "      <td>BH-11710</td>\n",
       "      <td>Brosina Hoffman</td>\n",
       "      <td>Consumer</td>\n",
       "      <td>United States</td>\n",
       "      <td>Los Angeles</td>\n",
       "      <td>...</td>\n",
       "      <td>90032</td>\n",
       "      <td>West</td>\n",
       "      <td>FUR-FU-10001487</td>\n",
       "      <td>Furniture</td>\n",
       "      <td>Furnishings</td>\n",
       "      <td>Eldon Expressions Wood and Plastic Desk Access...</td>\n",
       "      <td>48.860</td>\n",
       "      <td>7</td>\n",
       "      <td>0.0</td>\n",
       "      <td>14.1694</td>\n",
       "    </tr>\n",
       "    <tr>\n",
       "      <th>6</th>\n",
       "      <td>7</td>\n",
       "      <td>CA-2014-115812</td>\n",
       "      <td>2014-06-09</td>\n",
       "      <td>2014-06-14</td>\n",
       "      <td>Standard Class</td>\n",
       "      <td>BH-11710</td>\n",
       "      <td>Brosina Hoffman</td>\n",
       "      <td>Consumer</td>\n",
       "      <td>United States</td>\n",
       "      <td>Los Angeles</td>\n",
       "      <td>...</td>\n",
       "      <td>90032</td>\n",
       "      <td>West</td>\n",
       "      <td>OFF-AR-10002833</td>\n",
       "      <td>Office Supplies</td>\n",
       "      <td>Art</td>\n",
       "      <td>Newell 322</td>\n",
       "      <td>7.280</td>\n",
       "      <td>4</td>\n",
       "      <td>0.0</td>\n",
       "      <td>1.9656</td>\n",
       "    </tr>\n",
       "    <tr>\n",
       "      <th>7</th>\n",
       "      <td>8</td>\n",
       "      <td>CA-2014-115812</td>\n",
       "      <td>2014-06-09</td>\n",
       "      <td>2014-06-14</td>\n",
       "      <td>Standard Class</td>\n",
       "      <td>BH-11710</td>\n",
       "      <td>Brosina Hoffman</td>\n",
       "      <td>Consumer</td>\n",
       "      <td>United States</td>\n",
       "      <td>Los Angeles</td>\n",
       "      <td>...</td>\n",
       "      <td>90032</td>\n",
       "      <td>West</td>\n",
       "      <td>TEC-PH-10002275</td>\n",
       "      <td>Technology</td>\n",
       "      <td>Phones</td>\n",
       "      <td>Mitel 5320 IP Phone VoIP phone</td>\n",
       "      <td>907.152</td>\n",
       "      <td>6</td>\n",
       "      <td>0.2</td>\n",
       "      <td>90.7152</td>\n",
       "    </tr>\n",
       "    <tr>\n",
       "      <th>8</th>\n",
       "      <td>9</td>\n",
       "      <td>CA-2014-115812</td>\n",
       "      <td>2014-06-09</td>\n",
       "      <td>2014-06-14</td>\n",
       "      <td>Standard Class</td>\n",
       "      <td>BH-11710</td>\n",
       "      <td>Brosina Hoffman</td>\n",
       "      <td>Consumer</td>\n",
       "      <td>United States</td>\n",
       "      <td>Los Angeles</td>\n",
       "      <td>...</td>\n",
       "      <td>90032</td>\n",
       "      <td>West</td>\n",
       "      <td>OFF-BI-10003910</td>\n",
       "      <td>Office Supplies</td>\n",
       "      <td>Binders</td>\n",
       "      <td>DXL Angle-View Binders with Locking Rings by S...</td>\n",
       "      <td>18.504</td>\n",
       "      <td>3</td>\n",
       "      <td>0.2</td>\n",
       "      <td>5.7825</td>\n",
       "    </tr>\n",
       "    <tr>\n",
       "      <th>...</th>\n",
       "      <td>...</td>\n",
       "      <td>...</td>\n",
       "      <td>...</td>\n",
       "      <td>...</td>\n",
       "      <td>...</td>\n",
       "      <td>...</td>\n",
       "      <td>...</td>\n",
       "      <td>...</td>\n",
       "      <td>...</td>\n",
       "      <td>...</td>\n",
       "      <td>...</td>\n",
       "      <td>...</td>\n",
       "      <td>...</td>\n",
       "      <td>...</td>\n",
       "      <td>...</td>\n",
       "      <td>...</td>\n",
       "      <td>...</td>\n",
       "      <td>...</td>\n",
       "      <td>...</td>\n",
       "      <td>...</td>\n",
       "      <td>...</td>\n",
       "    </tr>\n",
       "    <tr>\n",
       "      <th>9986</th>\n",
       "      <td>9987</td>\n",
       "      <td>CA-2016-125794</td>\n",
       "      <td>2016-09-29</td>\n",
       "      <td>2016-10-03</td>\n",
       "      <td>Standard Class</td>\n",
       "      <td>ML-17410</td>\n",
       "      <td>Maris LaWare</td>\n",
       "      <td>Consumer</td>\n",
       "      <td>United States</td>\n",
       "      <td>Los Angeles</td>\n",
       "      <td>...</td>\n",
       "      <td>90008</td>\n",
       "      <td>West</td>\n",
       "      <td>TEC-AC-10003399</td>\n",
       "      <td>Technology</td>\n",
       "      <td>Accessories</td>\n",
       "      <td>Memorex Mini Travel Drive 64 GB USB 2.0 Flash ...</td>\n",
       "      <td>36.240</td>\n",
       "      <td>1</td>\n",
       "      <td>0.0</td>\n",
       "      <td>15.2208</td>\n",
       "    </tr>\n",
       "    <tr>\n",
       "      <th>9990</th>\n",
       "      <td>9991</td>\n",
       "      <td>CA-2017-121258</td>\n",
       "      <td>2017-02-26</td>\n",
       "      <td>2017-03-03</td>\n",
       "      <td>Standard Class</td>\n",
       "      <td>DB-13060</td>\n",
       "      <td>Dave Brooks</td>\n",
       "      <td>Consumer</td>\n",
       "      <td>United States</td>\n",
       "      <td>Costa Mesa</td>\n",
       "      <td>...</td>\n",
       "      <td>92627</td>\n",
       "      <td>West</td>\n",
       "      <td>FUR-FU-10000747</td>\n",
       "      <td>Furniture</td>\n",
       "      <td>Furnishings</td>\n",
       "      <td>Tenex B1-RE Series Chair Mats for Low Pile Car...</td>\n",
       "      <td>91.960</td>\n",
       "      <td>2</td>\n",
       "      <td>0.0</td>\n",
       "      <td>15.6332</td>\n",
       "    </tr>\n",
       "    <tr>\n",
       "      <th>9991</th>\n",
       "      <td>9992</td>\n",
       "      <td>CA-2017-121258</td>\n",
       "      <td>2017-02-26</td>\n",
       "      <td>2017-03-03</td>\n",
       "      <td>Standard Class</td>\n",
       "      <td>DB-13060</td>\n",
       "      <td>Dave Brooks</td>\n",
       "      <td>Consumer</td>\n",
       "      <td>United States</td>\n",
       "      <td>Costa Mesa</td>\n",
       "      <td>...</td>\n",
       "      <td>92627</td>\n",
       "      <td>West</td>\n",
       "      <td>TEC-PH-10003645</td>\n",
       "      <td>Technology</td>\n",
       "      <td>Phones</td>\n",
       "      <td>Aastra 57i VoIP phone</td>\n",
       "      <td>258.576</td>\n",
       "      <td>2</td>\n",
       "      <td>0.2</td>\n",
       "      <td>19.3932</td>\n",
       "    </tr>\n",
       "    <tr>\n",
       "      <th>9992</th>\n",
       "      <td>9993</td>\n",
       "      <td>CA-2017-121258</td>\n",
       "      <td>2017-02-26</td>\n",
       "      <td>2017-03-03</td>\n",
       "      <td>Standard Class</td>\n",
       "      <td>DB-13060</td>\n",
       "      <td>Dave Brooks</td>\n",
       "      <td>Consumer</td>\n",
       "      <td>United States</td>\n",
       "      <td>Costa Mesa</td>\n",
       "      <td>...</td>\n",
       "      <td>92627</td>\n",
       "      <td>West</td>\n",
       "      <td>OFF-PA-10004041</td>\n",
       "      <td>Office Supplies</td>\n",
       "      <td>Paper</td>\n",
       "      <td>It's Hot Message Books with Stickers, 2 3/4\" x 5\"</td>\n",
       "      <td>29.600</td>\n",
       "      <td>4</td>\n",
       "      <td>0.0</td>\n",
       "      <td>13.3200</td>\n",
       "    </tr>\n",
       "    <tr>\n",
       "      <th>9993</th>\n",
       "      <td>9994</td>\n",
       "      <td>CA-2017-119914</td>\n",
       "      <td>2017-05-04</td>\n",
       "      <td>2017-05-09</td>\n",
       "      <td>Second Class</td>\n",
       "      <td>CC-12220</td>\n",
       "      <td>Chris Cortes</td>\n",
       "      <td>Consumer</td>\n",
       "      <td>United States</td>\n",
       "      <td>Westminster</td>\n",
       "      <td>...</td>\n",
       "      <td>92683</td>\n",
       "      <td>West</td>\n",
       "      <td>OFF-AP-10002684</td>\n",
       "      <td>Office Supplies</td>\n",
       "      <td>Appliances</td>\n",
       "      <td>Acco 7-Outlet Masterpiece Power Center, Wihtou...</td>\n",
       "      <td>243.160</td>\n",
       "      <td>2</td>\n",
       "      <td>0.0</td>\n",
       "      <td>72.9480</td>\n",
       "    </tr>\n",
       "  </tbody>\n",
       "</table>\n",
       "<p>2001 rows × 21 columns</p>\n",
       "</div>"
      ],
      "text/plain": [
       "      Row ID        Order ID Order Date  Ship Date       Ship Mode  \\\n",
       "2          3  CA-2016-138688 2016-06-12 2016-06-16    Second Class   \n",
       "5          6  CA-2014-115812 2014-06-09 2014-06-14  Standard Class   \n",
       "6          7  CA-2014-115812 2014-06-09 2014-06-14  Standard Class   \n",
       "7          8  CA-2014-115812 2014-06-09 2014-06-14  Standard Class   \n",
       "8          9  CA-2014-115812 2014-06-09 2014-06-14  Standard Class   \n",
       "...      ...             ...        ...        ...             ...   \n",
       "9986    9987  CA-2016-125794 2016-09-29 2016-10-03  Standard Class   \n",
       "9990    9991  CA-2017-121258 2017-02-26 2017-03-03  Standard Class   \n",
       "9991    9992  CA-2017-121258 2017-02-26 2017-03-03  Standard Class   \n",
       "9992    9993  CA-2017-121258 2017-02-26 2017-03-03  Standard Class   \n",
       "9993    9994  CA-2017-119914 2017-05-04 2017-05-09    Second Class   \n",
       "\n",
       "     Customer ID    Customer Name    Segment        Country         City  ...  \\\n",
       "2       DV-13045  Darrin Van Huff  Corporate  United States  Los Angeles  ...   \n",
       "5       BH-11710  Brosina Hoffman   Consumer  United States  Los Angeles  ...   \n",
       "6       BH-11710  Brosina Hoffman   Consumer  United States  Los Angeles  ...   \n",
       "7       BH-11710  Brosina Hoffman   Consumer  United States  Los Angeles  ...   \n",
       "8       BH-11710  Brosina Hoffman   Consumer  United States  Los Angeles  ...   \n",
       "...          ...              ...        ...            ...          ...  ...   \n",
       "9986    ML-17410     Maris LaWare   Consumer  United States  Los Angeles  ...   \n",
       "9990    DB-13060      Dave Brooks   Consumer  United States   Costa Mesa  ...   \n",
       "9991    DB-13060      Dave Brooks   Consumer  United States   Costa Mesa  ...   \n",
       "9992    DB-13060      Dave Brooks   Consumer  United States   Costa Mesa  ...   \n",
       "9993    CC-12220     Chris Cortes   Consumer  United States  Westminster  ...   \n",
       "\n",
       "     Postal Code  Region       Product ID         Category Sub-Category  \\\n",
       "2          90036    West  OFF-LA-10000240  Office Supplies       Labels   \n",
       "5          90032    West  FUR-FU-10001487        Furniture  Furnishings   \n",
       "6          90032    West  OFF-AR-10002833  Office Supplies          Art   \n",
       "7          90032    West  TEC-PH-10002275       Technology       Phones   \n",
       "8          90032    West  OFF-BI-10003910  Office Supplies      Binders   \n",
       "...          ...     ...              ...              ...          ...   \n",
       "9986       90008    West  TEC-AC-10003399       Technology  Accessories   \n",
       "9990       92627    West  FUR-FU-10000747        Furniture  Furnishings   \n",
       "9991       92627    West  TEC-PH-10003645       Technology       Phones   \n",
       "9992       92627    West  OFF-PA-10004041  Office Supplies        Paper   \n",
       "9993       92683    West  OFF-AP-10002684  Office Supplies   Appliances   \n",
       "\n",
       "                                           Product Name    Sales  Quantity  \\\n",
       "2     Self-Adhesive Address Labels for Typewriters b...   14.620         2   \n",
       "5     Eldon Expressions Wood and Plastic Desk Access...   48.860         7   \n",
       "6                                            Newell 322    7.280         4   \n",
       "7                        Mitel 5320 IP Phone VoIP phone  907.152         6   \n",
       "8     DXL Angle-View Binders with Locking Rings by S...   18.504         3   \n",
       "...                                                 ...      ...       ...   \n",
       "9986  Memorex Mini Travel Drive 64 GB USB 2.0 Flash ...   36.240         1   \n",
       "9990  Tenex B1-RE Series Chair Mats for Low Pile Car...   91.960         2   \n",
       "9991                              Aastra 57i VoIP phone  258.576         2   \n",
       "9992  It's Hot Message Books with Stickers, 2 3/4\" x 5\"   29.600         4   \n",
       "9993  Acco 7-Outlet Masterpiece Power Center, Wihtou...  243.160         2   \n",
       "\n",
       "      Discount   Profit  \n",
       "2          0.0   6.8714  \n",
       "5          0.0  14.1694  \n",
       "6          0.0   1.9656  \n",
       "7          0.2  90.7152  \n",
       "8          0.2   5.7825  \n",
       "...        ...      ...  \n",
       "9986       0.0  15.2208  \n",
       "9990       0.0  15.6332  \n",
       "9991       0.2  19.3932  \n",
       "9992       0.0  13.3200  \n",
       "9993       0.0  72.9480  \n",
       "\n",
       "[2001 rows x 21 columns]"
      ]
     },
     "metadata": {},
     "output_type": "display_data"
    }
   ],
   "source": [
    "# Menampilkan penjualan hanya dari negara \"California\"\n",
    "# Memfilter data untuk negara bagian 'California'\n",
    "negara = data.loc[data['State'] == 'California']\n",
    "\n",
    "# Menampilkan hasil\n",
    "print(\"Penjualan dari California: \\n\")\n",
    "display(negara)"
   ]
  },
  {
   "cell_type": "code",
   "execution_count": 39,
   "metadata": {
    "colab": {
     "base_uri": "https://localhost:8080/"
    },
    "id": "QUoqCi1nVVPJ",
    "outputId": "f34f637a-0114-49b7-c683-db57a0200861"
   },
   "outputs": [
    {
     "name": "stdout",
     "output_type": "stream",
     "text": [
      "Rata-rata Profit untuk kategori 'Office Supplies' di California:\n",
      "31.5095030884808\n"
     ]
    }
   ],
   "source": [
    "#Rata - rata profit untuk kategori \"Office Supplies\" di California\n",
    "# Memfilter data untuk kategori 'Office Supplies' di California\n",
    "data = data[(data['State'] == 'California') & (data['Category'] == 'Office Supplies')]\n",
    "\n",
    "# Menghitung rata-rata Profit\n",
    "profit = data['Profit'].mean()\n",
    "print(\"Rata-rata Profit untuk kategori 'Office Supplies' di California:\")\n",
    "print(profit)"
   ]
  },
  {
   "cell_type": "code",
   "execution_count": 41,
   "metadata": {
    "colab": {
     "base_uri": "https://localhost:8080/",
     "height": 1000
    },
    "id": "dF7L8jF_XEOd",
    "outputId": "60998bca-4638-4a1f-b122-afb3970f2975"
   },
   "outputs": [
    {
     "name": "stdout",
     "output_type": "stream",
     "text": [
      "Data yang sudah diurutkan berdasarkan Order Date: \n",
      "\n"
     ]
    },
    {
     "data": {
      "text/html": [
       "<div>\n",
       "<style scoped>\n",
       "    .dataframe tbody tr th:only-of-type {\n",
       "        vertical-align: middle;\n",
       "    }\n",
       "\n",
       "    .dataframe tbody tr th {\n",
       "        vertical-align: top;\n",
       "    }\n",
       "\n",
       "    .dataframe thead th {\n",
       "        text-align: right;\n",
       "    }\n",
       "</style>\n",
       "<table border=\"1\" class=\"dataframe\">\n",
       "  <thead>\n",
       "    <tr style=\"text-align: right;\">\n",
       "      <th></th>\n",
       "      <th>Row ID</th>\n",
       "      <th>Order ID</th>\n",
       "      <th>Order Date</th>\n",
       "      <th>Ship Date</th>\n",
       "      <th>Ship Mode</th>\n",
       "      <th>Customer ID</th>\n",
       "      <th>Customer Name</th>\n",
       "      <th>Segment</th>\n",
       "      <th>Country</th>\n",
       "      <th>City</th>\n",
       "      <th>...</th>\n",
       "      <th>Postal Code</th>\n",
       "      <th>Region</th>\n",
       "      <th>Product ID</th>\n",
       "      <th>Category</th>\n",
       "      <th>Sub-Category</th>\n",
       "      <th>Product Name</th>\n",
       "      <th>Sales</th>\n",
       "      <th>Quantity</th>\n",
       "      <th>Discount</th>\n",
       "      <th>Profit</th>\n",
       "    </tr>\n",
       "  </thead>\n",
       "  <tbody>\n",
       "    <tr>\n",
       "      <th>5327</th>\n",
       "      <td>5328</td>\n",
       "      <td>CA-2014-130813</td>\n",
       "      <td>2014-01-06</td>\n",
       "      <td>2014-01-08</td>\n",
       "      <td>Second Class</td>\n",
       "      <td>LS-17230</td>\n",
       "      <td>Lycoris Saunders</td>\n",
       "      <td>Consumer</td>\n",
       "      <td>United States</td>\n",
       "      <td>Los Angeles</td>\n",
       "      <td>...</td>\n",
       "      <td>90049</td>\n",
       "      <td>West</td>\n",
       "      <td>OFF-PA-10002005</td>\n",
       "      <td>Office Supplies</td>\n",
       "      <td>Paper</td>\n",
       "      <td>Xerox 225</td>\n",
       "      <td>19.440</td>\n",
       "      <td>3</td>\n",
       "      <td>0.0</td>\n",
       "      <td>9.3312</td>\n",
       "    </tr>\n",
       "    <tr>\n",
       "      <th>4939</th>\n",
       "      <td>4940</td>\n",
       "      <td>CA-2014-157147</td>\n",
       "      <td>2014-01-13</td>\n",
       "      <td>2014-01-18</td>\n",
       "      <td>Standard Class</td>\n",
       "      <td>BD-11605</td>\n",
       "      <td>Brian Dahlen</td>\n",
       "      <td>Consumer</td>\n",
       "      <td>United States</td>\n",
       "      <td>San Francisco</td>\n",
       "      <td>...</td>\n",
       "      <td>94109</td>\n",
       "      <td>West</td>\n",
       "      <td>OFF-AR-10003514</td>\n",
       "      <td>Office Supplies</td>\n",
       "      <td>Art</td>\n",
       "      <td>4009 Highlighters by Sanford</td>\n",
       "      <td>19.900</td>\n",
       "      <td>5</td>\n",
       "      <td>0.0</td>\n",
       "      <td>6.5670</td>\n",
       "    </tr>\n",
       "    <tr>\n",
       "      <th>4937</th>\n",
       "      <td>4938</td>\n",
       "      <td>CA-2014-157147</td>\n",
       "      <td>2014-01-13</td>\n",
       "      <td>2014-01-18</td>\n",
       "      <td>Standard Class</td>\n",
       "      <td>BD-11605</td>\n",
       "      <td>Brian Dahlen</td>\n",
       "      <td>Consumer</td>\n",
       "      <td>United States</td>\n",
       "      <td>San Francisco</td>\n",
       "      <td>...</td>\n",
       "      <td>94109</td>\n",
       "      <td>West</td>\n",
       "      <td>OFF-ST-10000078</td>\n",
       "      <td>Office Supplies</td>\n",
       "      <td>Storage</td>\n",
       "      <td>Tennsco 6- and 18-Compartment Lockers</td>\n",
       "      <td>1325.850</td>\n",
       "      <td>5</td>\n",
       "      <td>0.0</td>\n",
       "      <td>238.6530</td>\n",
       "    </tr>\n",
       "    <tr>\n",
       "      <th>5736</th>\n",
       "      <td>5737</td>\n",
       "      <td>CA-2014-148614</td>\n",
       "      <td>2014-01-20</td>\n",
       "      <td>2014-01-25</td>\n",
       "      <td>Standard Class</td>\n",
       "      <td>MV-17485</td>\n",
       "      <td>Mark Van Huff</td>\n",
       "      <td>Consumer</td>\n",
       "      <td>United States</td>\n",
       "      <td>Los Angeles</td>\n",
       "      <td>...</td>\n",
       "      <td>90049</td>\n",
       "      <td>West</td>\n",
       "      <td>OFF-PA-10002893</td>\n",
       "      <td>Office Supplies</td>\n",
       "      <td>Paper</td>\n",
       "      <td>Wirebound Service Call Books, 5 1/2\" x 4\"</td>\n",
       "      <td>19.360</td>\n",
       "      <td>2</td>\n",
       "      <td>0.0</td>\n",
       "      <td>9.2928</td>\n",
       "    </tr>\n",
       "    <tr>\n",
       "      <th>3794</th>\n",
       "      <td>3795</td>\n",
       "      <td>US-2014-117163</td>\n",
       "      <td>2014-01-27</td>\n",
       "      <td>2014-02-02</td>\n",
       "      <td>Standard Class</td>\n",
       "      <td>EJ-13720</td>\n",
       "      <td>Ed Jacobs</td>\n",
       "      <td>Consumer</td>\n",
       "      <td>United States</td>\n",
       "      <td>San Diego</td>\n",
       "      <td>...</td>\n",
       "      <td>92037</td>\n",
       "      <td>West</td>\n",
       "      <td>OFF-ST-10003692</td>\n",
       "      <td>Office Supplies</td>\n",
       "      <td>Storage</td>\n",
       "      <td>Recycled Steel Personal File for Hanging File ...</td>\n",
       "      <td>57.230</td>\n",
       "      <td>1</td>\n",
       "      <td>0.0</td>\n",
       "      <td>14.3075</td>\n",
       "    </tr>\n",
       "    <tr>\n",
       "      <th>...</th>\n",
       "      <td>...</td>\n",
       "      <td>...</td>\n",
       "      <td>...</td>\n",
       "      <td>...</td>\n",
       "      <td>...</td>\n",
       "      <td>...</td>\n",
       "      <td>...</td>\n",
       "      <td>...</td>\n",
       "      <td>...</td>\n",
       "      <td>...</td>\n",
       "      <td>...</td>\n",
       "      <td>...</td>\n",
       "      <td>...</td>\n",
       "      <td>...</td>\n",
       "      <td>...</td>\n",
       "      <td>...</td>\n",
       "      <td>...</td>\n",
       "      <td>...</td>\n",
       "      <td>...</td>\n",
       "      <td>...</td>\n",
       "      <td>...</td>\n",
       "    </tr>\n",
       "    <tr>\n",
       "      <th>6075</th>\n",
       "      <td>6076</td>\n",
       "      <td>CA-2017-121398</td>\n",
       "      <td>2017-12-25</td>\n",
       "      <td>2017-12-29</td>\n",
       "      <td>Standard Class</td>\n",
       "      <td>FH-14365</td>\n",
       "      <td>Fred Hopkins</td>\n",
       "      <td>Corporate</td>\n",
       "      <td>United States</td>\n",
       "      <td>Los Angeles</td>\n",
       "      <td>...</td>\n",
       "      <td>90008</td>\n",
       "      <td>West</td>\n",
       "      <td>OFF-ST-10002756</td>\n",
       "      <td>Office Supplies</td>\n",
       "      <td>Storage</td>\n",
       "      <td>Tennsco Stur-D-Stor Boltless Shelving, 5 Shelv...</td>\n",
       "      <td>270.620</td>\n",
       "      <td>2</td>\n",
       "      <td>0.0</td>\n",
       "      <td>2.7062</td>\n",
       "    </tr>\n",
       "    <tr>\n",
       "      <th>6074</th>\n",
       "      <td>6075</td>\n",
       "      <td>CA-2017-121398</td>\n",
       "      <td>2017-12-25</td>\n",
       "      <td>2017-12-29</td>\n",
       "      <td>Standard Class</td>\n",
       "      <td>FH-14365</td>\n",
       "      <td>Fred Hopkins</td>\n",
       "      <td>Corporate</td>\n",
       "      <td>United States</td>\n",
       "      <td>Los Angeles</td>\n",
       "      <td>...</td>\n",
       "      <td>90008</td>\n",
       "      <td>West</td>\n",
       "      <td>OFF-BI-10001718</td>\n",
       "      <td>Office Supplies</td>\n",
       "      <td>Binders</td>\n",
       "      <td>GBC DocuBind P50 Personal Binding Machine</td>\n",
       "      <td>153.552</td>\n",
       "      <td>3</td>\n",
       "      <td>0.2</td>\n",
       "      <td>51.8238</td>\n",
       "    </tr>\n",
       "    <tr>\n",
       "      <th>270</th>\n",
       "      <td>271</td>\n",
       "      <td>CA-2017-163979</td>\n",
       "      <td>2017-12-28</td>\n",
       "      <td>2018-01-02</td>\n",
       "      <td>Second Class</td>\n",
       "      <td>KH-16690</td>\n",
       "      <td>Kristen Hastings</td>\n",
       "      <td>Corporate</td>\n",
       "      <td>United States</td>\n",
       "      <td>San Francisco</td>\n",
       "      <td>...</td>\n",
       "      <td>94110</td>\n",
       "      <td>West</td>\n",
       "      <td>OFF-ST-10003208</td>\n",
       "      <td>Office Supplies</td>\n",
       "      <td>Storage</td>\n",
       "      <td>Adjustable Depth Letter/Legal Cart</td>\n",
       "      <td>725.840</td>\n",
       "      <td>4</td>\n",
       "      <td>0.0</td>\n",
       "      <td>210.4936</td>\n",
       "    </tr>\n",
       "    <tr>\n",
       "      <th>1297</th>\n",
       "      <td>1298</td>\n",
       "      <td>CA-2017-115427</td>\n",
       "      <td>2017-12-30</td>\n",
       "      <td>2018-01-03</td>\n",
       "      <td>Standard Class</td>\n",
       "      <td>EB-13975</td>\n",
       "      <td>Erica Bern</td>\n",
       "      <td>Corporate</td>\n",
       "      <td>United States</td>\n",
       "      <td>Fairfield</td>\n",
       "      <td>...</td>\n",
       "      <td>94533</td>\n",
       "      <td>West</td>\n",
       "      <td>OFF-BI-10004632</td>\n",
       "      <td>Office Supplies</td>\n",
       "      <td>Binders</td>\n",
       "      <td>GBC Binding covers</td>\n",
       "      <td>20.720</td>\n",
       "      <td>2</td>\n",
       "      <td>0.2</td>\n",
       "      <td>6.4750</td>\n",
       "    </tr>\n",
       "    <tr>\n",
       "      <th>1296</th>\n",
       "      <td>1297</td>\n",
       "      <td>CA-2017-115427</td>\n",
       "      <td>2017-12-30</td>\n",
       "      <td>2018-01-03</td>\n",
       "      <td>Standard Class</td>\n",
       "      <td>EB-13975</td>\n",
       "      <td>Erica Bern</td>\n",
       "      <td>Corporate</td>\n",
       "      <td>United States</td>\n",
       "      <td>Fairfield</td>\n",
       "      <td>...</td>\n",
       "      <td>94533</td>\n",
       "      <td>West</td>\n",
       "      <td>OFF-BI-10002103</td>\n",
       "      <td>Office Supplies</td>\n",
       "      <td>Binders</td>\n",
       "      <td>Cardinal Slant-D Ring Binder, Heavy Gauge Vinyl</td>\n",
       "      <td>13.904</td>\n",
       "      <td>2</td>\n",
       "      <td>0.2</td>\n",
       "      <td>4.5188</td>\n",
       "    </tr>\n",
       "  </tbody>\n",
       "</table>\n",
       "<p>1198 rows × 21 columns</p>\n",
       "</div>"
      ],
      "text/plain": [
       "      Row ID        Order ID Order Date  Ship Date       Ship Mode  \\\n",
       "5327    5328  CA-2014-130813 2014-01-06 2014-01-08    Second Class   \n",
       "4939    4940  CA-2014-157147 2014-01-13 2014-01-18  Standard Class   \n",
       "4937    4938  CA-2014-157147 2014-01-13 2014-01-18  Standard Class   \n",
       "5736    5737  CA-2014-148614 2014-01-20 2014-01-25  Standard Class   \n",
       "3794    3795  US-2014-117163 2014-01-27 2014-02-02  Standard Class   \n",
       "...      ...             ...        ...        ...             ...   \n",
       "6075    6076  CA-2017-121398 2017-12-25 2017-12-29  Standard Class   \n",
       "6074    6075  CA-2017-121398 2017-12-25 2017-12-29  Standard Class   \n",
       "270      271  CA-2017-163979 2017-12-28 2018-01-02    Second Class   \n",
       "1297    1298  CA-2017-115427 2017-12-30 2018-01-03  Standard Class   \n",
       "1296    1297  CA-2017-115427 2017-12-30 2018-01-03  Standard Class   \n",
       "\n",
       "     Customer ID     Customer Name    Segment        Country           City  \\\n",
       "5327    LS-17230  Lycoris Saunders   Consumer  United States    Los Angeles   \n",
       "4939    BD-11605      Brian Dahlen   Consumer  United States  San Francisco   \n",
       "4937    BD-11605      Brian Dahlen   Consumer  United States  San Francisco   \n",
       "5736    MV-17485     Mark Van Huff   Consumer  United States    Los Angeles   \n",
       "3794    EJ-13720         Ed Jacobs   Consumer  United States      San Diego   \n",
       "...          ...               ...        ...            ...            ...   \n",
       "6075    FH-14365      Fred Hopkins  Corporate  United States    Los Angeles   \n",
       "6074    FH-14365      Fred Hopkins  Corporate  United States    Los Angeles   \n",
       "270     KH-16690  Kristen Hastings  Corporate  United States  San Francisco   \n",
       "1297    EB-13975        Erica Bern  Corporate  United States      Fairfield   \n",
       "1296    EB-13975        Erica Bern  Corporate  United States      Fairfield   \n",
       "\n",
       "      ... Postal Code  Region       Product ID         Category Sub-Category  \\\n",
       "5327  ...       90049    West  OFF-PA-10002005  Office Supplies        Paper   \n",
       "4939  ...       94109    West  OFF-AR-10003514  Office Supplies          Art   \n",
       "4937  ...       94109    West  OFF-ST-10000078  Office Supplies      Storage   \n",
       "5736  ...       90049    West  OFF-PA-10002893  Office Supplies        Paper   \n",
       "3794  ...       92037    West  OFF-ST-10003692  Office Supplies      Storage   \n",
       "...   ...         ...     ...              ...              ...          ...   \n",
       "6075  ...       90008    West  OFF-ST-10002756  Office Supplies      Storage   \n",
       "6074  ...       90008    West  OFF-BI-10001718  Office Supplies      Binders   \n",
       "270   ...       94110    West  OFF-ST-10003208  Office Supplies      Storage   \n",
       "1297  ...       94533    West  OFF-BI-10004632  Office Supplies      Binders   \n",
       "1296  ...       94533    West  OFF-BI-10002103  Office Supplies      Binders   \n",
       "\n",
       "                                           Product Name     Sales  Quantity  \\\n",
       "5327                                          Xerox 225    19.440         3   \n",
       "4939                       4009 Highlighters by Sanford    19.900         5   \n",
       "4937              Tennsco 6- and 18-Compartment Lockers  1325.850         5   \n",
       "5736          Wirebound Service Call Books, 5 1/2\" x 4\"    19.360         2   \n",
       "3794  Recycled Steel Personal File for Hanging File ...    57.230         1   \n",
       "...                                                 ...       ...       ...   \n",
       "6075  Tennsco Stur-D-Stor Boltless Shelving, 5 Shelv...   270.620         2   \n",
       "6074          GBC DocuBind P50 Personal Binding Machine   153.552         3   \n",
       "270                  Adjustable Depth Letter/Legal Cart   725.840         4   \n",
       "1297                                 GBC Binding covers    20.720         2   \n",
       "1296    Cardinal Slant-D Ring Binder, Heavy Gauge Vinyl    13.904         2   \n",
       "\n",
       "      Discount    Profit  \n",
       "5327       0.0    9.3312  \n",
       "4939       0.0    6.5670  \n",
       "4937       0.0  238.6530  \n",
       "5736       0.0    9.2928  \n",
       "3794       0.0   14.3075  \n",
       "...        ...       ...  \n",
       "6075       0.0    2.7062  \n",
       "6074       0.2   51.8238  \n",
       "270        0.0  210.4936  \n",
       "1297       0.2    6.4750  \n",
       "1296       0.2    4.5188  \n",
       "\n",
       "[1198 rows x 21 columns]"
      ]
     },
     "metadata": {},
     "output_type": "display_data"
    }
   ],
   "source": [
    "# Mengurutkan data berdasarkan Order Date dalam urutan menaik\n",
    "df_sorted = data.sort_values(by='Order Date')\n",
    "\n",
    "# Menampilkan data yang sudah diurutkan\n",
    "print(\"Data yang sudah diurutkan berdasarkan Order Date: \\n\")\n",
    "display(df_sorted)"
   ]
  },
  {
   "cell_type": "markdown",
   "metadata": {
    "id": "GVOR91lZYFhR"
   },
   "source": [
    "### ***Soal No 3***"
   ]
  },
  {
   "cell_type": "code",
   "execution_count": 45,
   "metadata": {
    "colab": {
     "base_uri": "https://localhost:8080/",
     "height": 130
    },
    "id": "zucBidK-YLuj",
    "outputId": "19f2b617-5eb0-43a0-e549-c27ab097a4a2"
   },
   "outputs": [
    {
     "name": "stdout",
     "output_type": "stream",
     "text": [
      "Total Sales berdasarkan Region dan Segment:\n"
     ]
    },
    {
     "data": {
      "text/html": [
       "<div>\n",
       "<style scoped>\n",
       "    .dataframe tbody tr th:only-of-type {\n",
       "        vertical-align: middle;\n",
       "    }\n",
       "\n",
       "    .dataframe tbody tr th {\n",
       "        vertical-align: top;\n",
       "    }\n",
       "\n",
       "    .dataframe thead th {\n",
       "        text-align: right;\n",
       "    }\n",
       "</style>\n",
       "<table border=\"1\" class=\"dataframe\">\n",
       "  <thead>\n",
       "    <tr style=\"text-align: right;\">\n",
       "      <th>Segment</th>\n",
       "      <th>Consumer</th>\n",
       "      <th>Corporate</th>\n",
       "      <th>Home Office</th>\n",
       "    </tr>\n",
       "    <tr>\n",
       "      <th>Region</th>\n",
       "      <th></th>\n",
       "      <th></th>\n",
       "      <th></th>\n",
       "    </tr>\n",
       "  </thead>\n",
       "  <tbody>\n",
       "    <tr>\n",
       "      <th>West</th>\n",
       "      <td>71060.914</td>\n",
       "      <td>51952.192</td>\n",
       "      <td>19338.842</td>\n",
       "    </tr>\n",
       "  </tbody>\n",
       "</table>\n",
       "</div>"
      ],
      "text/plain": [
       "Segment   Consumer  Corporate  Home Office\n",
       "Region                                    \n",
       "West     71060.914  51952.192    19338.842"
      ]
     },
     "metadata": {},
     "output_type": "display_data"
    }
   ],
   "source": [
    "import matplotlib.pyplot as plt\n",
    "\n",
    "# Membuat pivot table dari dataset\n",
    "# Membuat pivot table untuk total Sales berdasarkan Region dan Segment\n",
    "pivot_sales = pd.pivot_table(\n",
    "    data,\n",
    "    values='Sales',\n",
    "    index='Region',\n",
    "    columns='Segment',\n",
    "    aggfunc='sum',\n",
    "    fill_value=0\n",
    ")\n",
    "# Tampilkan pivot table untuk total Sales\n",
    "print(\"Total Sales berdasarkan Region dan Segment:\")\n",
    "display(pivot_sales)"
   ]
  },
  {
   "cell_type": "code",
   "execution_count": 47,
   "metadata": {
    "colab": {
     "base_uri": "https://localhost:8080/",
     "height": 148
    },
    "id": "O0KuEnhUb84R",
    "outputId": "887a85e4-a99f-4dca-bb7f-6c3078cbe2e1"
   },
   "outputs": [
    {
     "name": "stdout",
     "output_type": "stream",
     "text": [
      "\n",
      "Total Profit berdasarkan Category dan Sub-Category:\n"
     ]
    },
    {
     "data": {
      "text/html": [
       "<div>\n",
       "<style scoped>\n",
       "    .dataframe tbody tr th:only-of-type {\n",
       "        vertical-align: middle;\n",
       "    }\n",
       "\n",
       "    .dataframe tbody tr th {\n",
       "        vertical-align: top;\n",
       "    }\n",
       "\n",
       "    .dataframe thead th {\n",
       "        text-align: right;\n",
       "    }\n",
       "</style>\n",
       "<table border=\"1\" class=\"dataframe\">\n",
       "  <thead>\n",
       "    <tr style=\"text-align: right;\">\n",
       "      <th>Sub-Category</th>\n",
       "      <th>Appliances</th>\n",
       "      <th>Art</th>\n",
       "      <th>Binders</th>\n",
       "      <th>Envelopes</th>\n",
       "      <th>Fasteners</th>\n",
       "      <th>Labels</th>\n",
       "      <th>Paper</th>\n",
       "      <th>Storage</th>\n",
       "      <th>Supplies</th>\n",
       "    </tr>\n",
       "    <tr>\n",
       "      <th>Category</th>\n",
       "      <th></th>\n",
       "      <th></th>\n",
       "      <th></th>\n",
       "      <th></th>\n",
       "      <th></th>\n",
       "      <th></th>\n",
       "      <th></th>\n",
       "      <th></th>\n",
       "      <th></th>\n",
       "    </tr>\n",
       "  </thead>\n",
       "  <tbody>\n",
       "    <tr>\n",
       "      <th>Office Supplies</th>\n",
       "      <td>6992.2318</td>\n",
       "      <td>1614.8365</td>\n",
       "      <td>10002.1537</td>\n",
       "      <td>1529.4161</td>\n",
       "      <td>195.7505</td>\n",
       "      <td>1370.1191</td>\n",
       "      <td>7977.5395</td>\n",
       "      <td>7204.1372</td>\n",
       "      <td>862.2003</td>\n",
       "    </tr>\n",
       "  </tbody>\n",
       "</table>\n",
       "</div>"
      ],
      "text/plain": [
       "Sub-Category     Appliances        Art     Binders  Envelopes  Fasteners  \\\n",
       "Category                                                                   \n",
       "Office Supplies   6992.2318  1614.8365  10002.1537  1529.4161   195.7505   \n",
       "\n",
       "Sub-Category        Labels      Paper    Storage  Supplies  \n",
       "Category                                                    \n",
       "Office Supplies  1370.1191  7977.5395  7204.1372  862.2003  "
      ]
     },
     "metadata": {},
     "output_type": "display_data"
    }
   ],
   "source": [
    "# Membuat pivot table untuk total Profit berdasarkan Category dan Sub-Category\n",
    "pivot_profit = pd.pivot_table(\n",
    "    data,\n",
    "    values='Profit',\n",
    "    index='Category',\n",
    "    columns='Sub-Category',\n",
    "    aggfunc='sum',\n",
    "    fill_value=0\n",
    ")\n",
    "# Tampilkan pivot table untuk total Profit\n",
    "print(\"\\nTotal Profit berdasarkan Category dan Sub-Category:\")\n",
    "display(pivot_profit)"
   ]
  },
  {
   "cell_type": "markdown",
   "metadata": {
    "id": "0vdYlN0Zd1wH"
   },
   "source": [
    "### ***Soal No 4***"
   ]
  },
  {
   "cell_type": "code",
   "execution_count": 49,
   "metadata": {
    "id": "fny-MJ3Yd85L"
   },
   "outputs": [],
   "source": [
    "import pandas as pd"
   ]
  },
  {
   "cell_type": "code",
   "execution_count": 51,
   "metadata": {
    "id": "Vu6Phr3Eeqp_"
   },
   "outputs": [],
   "source": [
    "data = pd.read_csv(\"hw_200.csv\")"
   ]
  },
  {
   "cell_type": "code",
   "execution_count": 53,
   "metadata": {
    "colab": {
     "base_uri": "https://localhost:8080/",
     "height": 206
    },
    "id": "waI0tOcxewdu",
    "outputId": "50b0a839-955f-4af6-a440-d84c313ca177"
   },
   "outputs": [
    {
     "data": {
      "text/html": [
       "<div>\n",
       "<style scoped>\n",
       "    .dataframe tbody tr th:only-of-type {\n",
       "        vertical-align: middle;\n",
       "    }\n",
       "\n",
       "    .dataframe tbody tr th {\n",
       "        vertical-align: top;\n",
       "    }\n",
       "\n",
       "    .dataframe thead th {\n",
       "        text-align: right;\n",
       "    }\n",
       "</style>\n",
       "<table border=\"1\" class=\"dataframe\">\n",
       "  <thead>\n",
       "    <tr style=\"text-align: right;\">\n",
       "      <th></th>\n",
       "      <th>Index</th>\n",
       "      <th>Height(Inches)\"</th>\n",
       "      <th>\"Weight(Pounds)\"</th>\n",
       "    </tr>\n",
       "  </thead>\n",
       "  <tbody>\n",
       "    <tr>\n",
       "      <th>0</th>\n",
       "      <td>1</td>\n",
       "      <td>65.78</td>\n",
       "      <td>112.99</td>\n",
       "    </tr>\n",
       "    <tr>\n",
       "      <th>1</th>\n",
       "      <td>2</td>\n",
       "      <td>71.52</td>\n",
       "      <td>136.49</td>\n",
       "    </tr>\n",
       "    <tr>\n",
       "      <th>2</th>\n",
       "      <td>3</td>\n",
       "      <td>69.40</td>\n",
       "      <td>153.03</td>\n",
       "    </tr>\n",
       "    <tr>\n",
       "      <th>3</th>\n",
       "      <td>4</td>\n",
       "      <td>68.22</td>\n",
       "      <td>142.34</td>\n",
       "    </tr>\n",
       "    <tr>\n",
       "      <th>4</th>\n",
       "      <td>5</td>\n",
       "      <td>67.79</td>\n",
       "      <td>144.30</td>\n",
       "    </tr>\n",
       "  </tbody>\n",
       "</table>\n",
       "</div>"
      ],
      "text/plain": [
       "   Index   Height(Inches)\"   \"Weight(Pounds)\"\n",
       "0      1             65.78             112.99\n",
       "1      2             71.52             136.49\n",
       "2      3             69.40             153.03\n",
       "3      4             68.22             142.34\n",
       "4      5             67.79             144.30"
      ]
     },
     "execution_count": 53,
     "metadata": {},
     "output_type": "execute_result"
    }
   ],
   "source": [
    "data.head()"
   ]
  },
  {
   "cell_type": "code",
   "execution_count": 55,
   "metadata": {
    "colab": {
     "base_uri": "https://localhost:8080/",
     "height": 242
    },
    "id": "re_Wp8h8ezeh",
    "outputId": "8617373d-0c7e-4132-bb21-d61862a17f8f"
   },
   "outputs": [
    {
     "name": "stdout",
     "output_type": "stream",
     "text": [
      "\n",
      "DataFrame Setelah Mengubah Nama Kolom dengan Mengatur Atribut columns:\n"
     ]
    },
    {
     "data": {
      "text/html": [
       "<div>\n",
       "<style scoped>\n",
       "    .dataframe tbody tr th:only-of-type {\n",
       "        vertical-align: middle;\n",
       "    }\n",
       "\n",
       "    .dataframe tbody tr th {\n",
       "        vertical-align: top;\n",
       "    }\n",
       "\n",
       "    .dataframe thead th {\n",
       "        text-align: right;\n",
       "    }\n",
       "</style>\n",
       "<table border=\"1\" class=\"dataframe\">\n",
       "  <thead>\n",
       "    <tr style=\"text-align: right;\">\n",
       "      <th></th>\n",
       "      <th>Index</th>\n",
       "      <th>Height(Inches)</th>\n",
       "      <th>Weight(Pounds)</th>\n",
       "    </tr>\n",
       "  </thead>\n",
       "  <tbody>\n",
       "    <tr>\n",
       "      <th>0</th>\n",
       "      <td>1</td>\n",
       "      <td>65.78</td>\n",
       "      <td>112.99</td>\n",
       "    </tr>\n",
       "    <tr>\n",
       "      <th>1</th>\n",
       "      <td>2</td>\n",
       "      <td>71.52</td>\n",
       "      <td>136.49</td>\n",
       "    </tr>\n",
       "    <tr>\n",
       "      <th>2</th>\n",
       "      <td>3</td>\n",
       "      <td>69.40</td>\n",
       "      <td>153.03</td>\n",
       "    </tr>\n",
       "    <tr>\n",
       "      <th>3</th>\n",
       "      <td>4</td>\n",
       "      <td>68.22</td>\n",
       "      <td>142.34</td>\n",
       "    </tr>\n",
       "    <tr>\n",
       "      <th>4</th>\n",
       "      <td>5</td>\n",
       "      <td>67.79</td>\n",
       "      <td>144.30</td>\n",
       "    </tr>\n",
       "  </tbody>\n",
       "</table>\n",
       "</div>"
      ],
      "text/plain": [
       "   Index  Height(Inches)  Weight(Pounds)\n",
       "0      1           65.78          112.99\n",
       "1      2           71.52          136.49\n",
       "2      3           69.40          153.03\n",
       "3      4           68.22          142.34\n",
       "4      5           67.79          144.30"
      ]
     },
     "execution_count": 55,
     "metadata": {},
     "output_type": "execute_result"
    }
   ],
   "source": [
    "# Mengubah nama kolom\n",
    "data.columns = ['Index', 'Height(Inches)', 'Weight(Pounds)']\n",
    "\n",
    "print(\"\\nDataFrame Setelah Mengubah Nama Kolom dengan Mengatur Atribut columns:\")\n",
    "data.head()"
   ]
  },
  {
   "cell_type": "code",
   "execution_count": 57,
   "metadata": {
    "colab": {
     "base_uri": "https://localhost:8080/",
     "height": 242
    },
    "id": "djpjG7NQfy6G",
    "outputId": "4c88732f-3499-444b-f2ba-104abd8bf375"
   },
   "outputs": [
    {
     "name": "stdout",
     "output_type": "stream",
     "text": [
      "DataFrame Setelah Menambahkan Kolom BMI: \n",
      "\n"
     ]
    },
    {
     "data": {
      "text/html": [
       "<div>\n",
       "<style scoped>\n",
       "    .dataframe tbody tr th:only-of-type {\n",
       "        vertical-align: middle;\n",
       "    }\n",
       "\n",
       "    .dataframe tbody tr th {\n",
       "        vertical-align: top;\n",
       "    }\n",
       "\n",
       "    .dataframe thead th {\n",
       "        text-align: right;\n",
       "    }\n",
       "</style>\n",
       "<table border=\"1\" class=\"dataframe\">\n",
       "  <thead>\n",
       "    <tr style=\"text-align: right;\">\n",
       "      <th></th>\n",
       "      <th>Index</th>\n",
       "      <th>Height(Inches)</th>\n",
       "      <th>Weight(Pounds)</th>\n",
       "      <th>Height(Meters)</th>\n",
       "      <th>Weight(Kilograms)</th>\n",
       "      <th>BMI</th>\n",
       "    </tr>\n",
       "  </thead>\n",
       "  <tbody>\n",
       "    <tr>\n",
       "      <th>0</th>\n",
       "      <td>1</td>\n",
       "      <td>65.78</td>\n",
       "      <td>112.99</td>\n",
       "      <td>1.670812</td>\n",
       "      <td>51.251360</td>\n",
       "      <td>18.359051</td>\n",
       "    </tr>\n",
       "    <tr>\n",
       "      <th>1</th>\n",
       "      <td>2</td>\n",
       "      <td>71.52</td>\n",
       "      <td>136.49</td>\n",
       "      <td>1.816608</td>\n",
       "      <td>61.910772</td>\n",
       "      <td>18.760473</td>\n",
       "    </tr>\n",
       "    <tr>\n",
       "      <th>2</th>\n",
       "      <td>3</td>\n",
       "      <td>69.40</td>\n",
       "      <td>153.03</td>\n",
       "      <td>1.762760</td>\n",
       "      <td>69.413184</td>\n",
       "      <td>22.338581</td>\n",
       "    </tr>\n",
       "    <tr>\n",
       "      <th>3</th>\n",
       "      <td>4</td>\n",
       "      <td>68.22</td>\n",
       "      <td>142.34</td>\n",
       "      <td>1.732788</td>\n",
       "      <td>64.564285</td>\n",
       "      <td>21.503120</td>\n",
       "    </tr>\n",
       "    <tr>\n",
       "      <th>4</th>\n",
       "      <td>5</td>\n",
       "      <td>67.79</td>\n",
       "      <td>144.30</td>\n",
       "      <td>1.721866</td>\n",
       "      <td>65.453326</td>\n",
       "      <td>22.076642</td>\n",
       "    </tr>\n",
       "  </tbody>\n",
       "</table>\n",
       "</div>"
      ],
      "text/plain": [
       "   Index  Height(Inches)  Weight(Pounds)  Height(Meters)  Weight(Kilograms)  \\\n",
       "0      1           65.78          112.99        1.670812          51.251360   \n",
       "1      2           71.52          136.49        1.816608          61.910772   \n",
       "2      3           69.40          153.03        1.762760          69.413184   \n",
       "3      4           68.22          142.34        1.732788          64.564285   \n",
       "4      5           67.79          144.30        1.721866          65.453326   \n",
       "\n",
       "         BMI  \n",
       "0  18.359051  \n",
       "1  18.760473  \n",
       "2  22.338581  \n",
       "3  21.503120  \n",
       "4  22.076642  "
      ]
     },
     "execution_count": 57,
     "metadata": {},
     "output_type": "execute_result"
    }
   ],
   "source": [
    "# Menambahkan kolom baru bernama 'BMI'\n",
    "# Mengkonversi Tinggi dari Inci ke Meter\n",
    "data['Height(Meters)'] = data['Height(Inches)'] * 0.0254 #1 inci = 0.0254\n",
    "\n",
    "# Mengkonversi Berat dari Pound ke Kilogram\n",
    "data['Weight(Kilograms)'] = data['Weight(Pounds)'] * 0.453592  #1 pound = 0.453592 kilogram\n",
    "\n",
    "# Menghitung BMI\n",
    "data['BMI'] = data['Weight(Kilograms)'] / (data['Height(Meters)'] ** 2)\n",
    "\n",
    "# Menampilkan DataFrame dengan kolom BMI\n",
    "print(\"DataFrame Setelah Menambahkan Kolom BMI: \\n\")\n",
    "data.head()"
   ]
  },
  {
   "cell_type": "code",
   "execution_count": 59,
   "metadata": {
    "colab": {
     "base_uri": "https://localhost:8080/"
    },
    "id": "Llaakxz1hNTT",
    "outputId": "76d4f3b0-a31f-4292-d5b1-aa33fae1a9eb"
   },
   "outputs": [
    {
     "name": "stdout",
     "output_type": "stream",
     "text": [
      "Rata-rata BMI dari seluruh data: 19.36\n"
     ]
    }
   ],
   "source": [
    "# Menghitung BMI\n",
    "data['BMI'] = data['Weight(Kilograms)'] / (data['Height(Meters)'] ** 2)\n",
    "\n",
    "# Menghitung rata-rata BMI\n",
    "average_bmi = data['BMI'].mean()\n",
    "\n",
    "print(f\"Rata-rata BMI dari seluruh data: {average_bmi:.2f}\")\n",
    "#{average_bmi:.2f} adalah sintaks format string dalam Python\n",
    "#yang digunakan untuk memformat angka dengan presisi tertentu"
   ]
  },
  {
   "cell_type": "markdown",
   "metadata": {
    "id": "Rg_N9gXWhx_O"
   },
   "source": [
    "## ***Bagian 4: Studi Kasus Mini***"
   ]
  },
  {
   "cell_type": "code",
   "execution_count": 61,
   "metadata": {
    "id": "P0tIz9OZh1-q"
   },
   "outputs": [],
   "source": [
    "import pandas as pd\n",
    "import matplotlib.pyplot as plt"
   ]
  },
  {
   "cell_type": "code",
   "execution_count": 63,
   "metadata": {
    "id": "OmLHNo2iiIB_"
   },
   "outputs": [],
   "source": [
    "data = pd.read_excel(\"Sample_Superstore.xlsx\")"
   ]
  },
  {
   "cell_type": "code",
   "execution_count": 65,
   "metadata": {
    "colab": {
     "base_uri": "https://localhost:8080/",
     "height": 585
    },
    "id": "lO8S-GB5iZLd",
    "outputId": "cb6c6e74-4601-46fa-dfc5-ec99a3bccff7"
   },
   "outputs": [
    {
     "data": {
      "text/html": [
       "<div>\n",
       "<style scoped>\n",
       "    .dataframe tbody tr th:only-of-type {\n",
       "        vertical-align: middle;\n",
       "    }\n",
       "\n",
       "    .dataframe tbody tr th {\n",
       "        vertical-align: top;\n",
       "    }\n",
       "\n",
       "    .dataframe thead th {\n",
       "        text-align: right;\n",
       "    }\n",
       "</style>\n",
       "<table border=\"1\" class=\"dataframe\">\n",
       "  <thead>\n",
       "    <tr style=\"text-align: right;\">\n",
       "      <th></th>\n",
       "      <th>Row ID</th>\n",
       "      <th>Order ID</th>\n",
       "      <th>Order Date</th>\n",
       "      <th>Ship Date</th>\n",
       "      <th>Ship Mode</th>\n",
       "      <th>Customer ID</th>\n",
       "      <th>Customer Name</th>\n",
       "      <th>Segment</th>\n",
       "      <th>Country</th>\n",
       "      <th>City</th>\n",
       "      <th>...</th>\n",
       "      <th>Postal Code</th>\n",
       "      <th>Region</th>\n",
       "      <th>Product ID</th>\n",
       "      <th>Category</th>\n",
       "      <th>Sub-Category</th>\n",
       "      <th>Product Name</th>\n",
       "      <th>Sales</th>\n",
       "      <th>Quantity</th>\n",
       "      <th>Discount</th>\n",
       "      <th>Profit</th>\n",
       "    </tr>\n",
       "  </thead>\n",
       "  <tbody>\n",
       "    <tr>\n",
       "      <th>0</th>\n",
       "      <td>1</td>\n",
       "      <td>CA-2016-152156</td>\n",
       "      <td>2016-11-08</td>\n",
       "      <td>2016-11-11</td>\n",
       "      <td>Second Class</td>\n",
       "      <td>CG-12520</td>\n",
       "      <td>Claire Gute</td>\n",
       "      <td>Consumer</td>\n",
       "      <td>United States</td>\n",
       "      <td>Henderson</td>\n",
       "      <td>...</td>\n",
       "      <td>42420</td>\n",
       "      <td>South</td>\n",
       "      <td>FUR-BO-10001798</td>\n",
       "      <td>Furniture</td>\n",
       "      <td>Bookcases</td>\n",
       "      <td>Bush Somerset Collection Bookcase</td>\n",
       "      <td>261.9600</td>\n",
       "      <td>2</td>\n",
       "      <td>0.00</td>\n",
       "      <td>41.9136</td>\n",
       "    </tr>\n",
       "    <tr>\n",
       "      <th>1</th>\n",
       "      <td>2</td>\n",
       "      <td>CA-2016-152156</td>\n",
       "      <td>2016-11-08</td>\n",
       "      <td>2016-11-11</td>\n",
       "      <td>Second Class</td>\n",
       "      <td>CG-12520</td>\n",
       "      <td>Claire Gute</td>\n",
       "      <td>Consumer</td>\n",
       "      <td>United States</td>\n",
       "      <td>Henderson</td>\n",
       "      <td>...</td>\n",
       "      <td>42420</td>\n",
       "      <td>South</td>\n",
       "      <td>FUR-CH-10000454</td>\n",
       "      <td>Furniture</td>\n",
       "      <td>Chairs</td>\n",
       "      <td>Hon Deluxe Fabric Upholstered Stacking Chairs,...</td>\n",
       "      <td>731.9400</td>\n",
       "      <td>3</td>\n",
       "      <td>0.00</td>\n",
       "      <td>219.5820</td>\n",
       "    </tr>\n",
       "    <tr>\n",
       "      <th>2</th>\n",
       "      <td>3</td>\n",
       "      <td>CA-2016-138688</td>\n",
       "      <td>2016-06-12</td>\n",
       "      <td>2016-06-16</td>\n",
       "      <td>Second Class</td>\n",
       "      <td>DV-13045</td>\n",
       "      <td>Darrin Van Huff</td>\n",
       "      <td>Corporate</td>\n",
       "      <td>United States</td>\n",
       "      <td>Los Angeles</td>\n",
       "      <td>...</td>\n",
       "      <td>90036</td>\n",
       "      <td>West</td>\n",
       "      <td>OFF-LA-10000240</td>\n",
       "      <td>Office Supplies</td>\n",
       "      <td>Labels</td>\n",
       "      <td>Self-Adhesive Address Labels for Typewriters b...</td>\n",
       "      <td>14.6200</td>\n",
       "      <td>2</td>\n",
       "      <td>0.00</td>\n",
       "      <td>6.8714</td>\n",
       "    </tr>\n",
       "    <tr>\n",
       "      <th>3</th>\n",
       "      <td>4</td>\n",
       "      <td>US-2015-108966</td>\n",
       "      <td>2015-10-11</td>\n",
       "      <td>2015-10-18</td>\n",
       "      <td>Standard Class</td>\n",
       "      <td>SO-20335</td>\n",
       "      <td>Sean O'Donnell</td>\n",
       "      <td>Consumer</td>\n",
       "      <td>United States</td>\n",
       "      <td>Fort Lauderdale</td>\n",
       "      <td>...</td>\n",
       "      <td>33311</td>\n",
       "      <td>South</td>\n",
       "      <td>FUR-TA-10000577</td>\n",
       "      <td>Furniture</td>\n",
       "      <td>Tables</td>\n",
       "      <td>Bretford CR4500 Series Slim Rectangular Table</td>\n",
       "      <td>957.5775</td>\n",
       "      <td>5</td>\n",
       "      <td>0.45</td>\n",
       "      <td>-383.0310</td>\n",
       "    </tr>\n",
       "    <tr>\n",
       "      <th>4</th>\n",
       "      <td>5</td>\n",
       "      <td>US-2015-108966</td>\n",
       "      <td>2015-10-11</td>\n",
       "      <td>2015-10-18</td>\n",
       "      <td>Standard Class</td>\n",
       "      <td>SO-20335</td>\n",
       "      <td>Sean O'Donnell</td>\n",
       "      <td>Consumer</td>\n",
       "      <td>United States</td>\n",
       "      <td>Fort Lauderdale</td>\n",
       "      <td>...</td>\n",
       "      <td>33311</td>\n",
       "      <td>South</td>\n",
       "      <td>OFF-ST-10000760</td>\n",
       "      <td>Office Supplies</td>\n",
       "      <td>Storage</td>\n",
       "      <td>Eldon Fold 'N Roll Cart System</td>\n",
       "      <td>22.3680</td>\n",
       "      <td>2</td>\n",
       "      <td>0.20</td>\n",
       "      <td>2.5164</td>\n",
       "    </tr>\n",
       "  </tbody>\n",
       "</table>\n",
       "<p>5 rows × 21 columns</p>\n",
       "</div>"
      ],
      "text/plain": [
       "   Row ID        Order ID Order Date  Ship Date       Ship Mode Customer ID  \\\n",
       "0       1  CA-2016-152156 2016-11-08 2016-11-11    Second Class    CG-12520   \n",
       "1       2  CA-2016-152156 2016-11-08 2016-11-11    Second Class    CG-12520   \n",
       "2       3  CA-2016-138688 2016-06-12 2016-06-16    Second Class    DV-13045   \n",
       "3       4  US-2015-108966 2015-10-11 2015-10-18  Standard Class    SO-20335   \n",
       "4       5  US-2015-108966 2015-10-11 2015-10-18  Standard Class    SO-20335   \n",
       "\n",
       "     Customer Name    Segment        Country             City  ...  \\\n",
       "0      Claire Gute   Consumer  United States        Henderson  ...   \n",
       "1      Claire Gute   Consumer  United States        Henderson  ...   \n",
       "2  Darrin Van Huff  Corporate  United States      Los Angeles  ...   \n",
       "3   Sean O'Donnell   Consumer  United States  Fort Lauderdale  ...   \n",
       "4   Sean O'Donnell   Consumer  United States  Fort Lauderdale  ...   \n",
       "\n",
       "  Postal Code  Region       Product ID         Category Sub-Category  \\\n",
       "0       42420   South  FUR-BO-10001798        Furniture    Bookcases   \n",
       "1       42420   South  FUR-CH-10000454        Furniture       Chairs   \n",
       "2       90036    West  OFF-LA-10000240  Office Supplies       Labels   \n",
       "3       33311   South  FUR-TA-10000577        Furniture       Tables   \n",
       "4       33311   South  OFF-ST-10000760  Office Supplies      Storage   \n",
       "\n",
       "                                        Product Name     Sales  Quantity  \\\n",
       "0                  Bush Somerset Collection Bookcase  261.9600         2   \n",
       "1  Hon Deluxe Fabric Upholstered Stacking Chairs,...  731.9400         3   \n",
       "2  Self-Adhesive Address Labels for Typewriters b...   14.6200         2   \n",
       "3      Bretford CR4500 Series Slim Rectangular Table  957.5775         5   \n",
       "4                     Eldon Fold 'N Roll Cart System   22.3680         2   \n",
       "\n",
       "   Discount    Profit  \n",
       "0      0.00   41.9136  \n",
       "1      0.00  219.5820  \n",
       "2      0.00    6.8714  \n",
       "3      0.45 -383.0310  \n",
       "4      0.20    2.5164  \n",
       "\n",
       "[5 rows x 21 columns]"
      ]
     },
     "execution_count": 65,
     "metadata": {},
     "output_type": "execute_result"
    }
   ],
   "source": [
    "data.head()"
   ]
  },
  {
   "cell_type": "code",
   "execution_count": 67,
   "metadata": {
    "colab": {
     "base_uri": "https://localhost:8080/",
     "height": 1000
    },
    "id": "DJWCXNmMic15",
    "outputId": "ffc2ff6a-3b42-4f0a-8d49-73e639ec80f2"
   },
   "outputs": [
    {
     "name": "stdout",
     "output_type": "stream",
     "text": [
      "Top 10 produk berdasarkan total Sales:\n",
      "Sub-Category\n",
      "Phones         330007.0540\n",
      "Chairs         328449.1030\n",
      "Storage        223843.6080\n",
      "Tables         206965.5320\n",
      "Binders        203412.7330\n",
      "Machines       189238.6310\n",
      "Accessories    167380.3180\n",
      "Copiers        149528.0300\n",
      "Bookcases      114879.9963\n",
      "Appliances     107532.1610\n",
      "Name: Sales, dtype: float64\n"
     ]
    },
    {
     "data": {
      "image/png": "[encoded data removed]",
      "text/plain": [
       "<Figure size 1200x800 with 1 Axes>"
      ]
     },
     "metadata": {},
     "output_type": "display_data"
    }
   ],
   "source": [
    "#Top 10 produk berdasarkan total Sales.\n",
    "# Mengelompokkan data berdasarkan produk dan menghitung total Sales\n",
    "top_products = data.groupby('Sub-Category')['Sales'].sum()\n",
    "\n",
    "# Mengurutkan produk berdasarkan total Sales secara menurun dan mengambil 10 teratas\n",
    "top_products = top_products.sort_values(ascending=False).head(10)\n",
    "\n",
    "# Menampilkan Top 10 produk berdasarkan total Sales\n",
    "print(\"Top 10 produk berdasarkan total Sales:\")\n",
    "print(top_products)\n",
    "\n",
    "# Membuat bar plot\n",
    "plt.figure(figsize=(12, 8))\n",
    "top_products.plot(kind='bar', color='Blue')\n",
    "plt.title('Top 10 produk berdasarkan total penjualan')\n",
    "plt.xlabel('Kategori')\n",
    "plt.ylabel('Total Penjualan')\n",
    "plt.xticks(rotation=45, ha='right')\n",
    "plt.grid(axis='y')\n",
    "\n",
    "# Menampilkan plot\n",
    "plt.show()"
   ]
  },
  {
   "cell_type": "code",
   "execution_count": 69,
   "metadata": {
    "colab": {
     "base_uri": "https://localhost:8080/",
     "height": 933
    },
    "id": "hJnKHDOQmxo9",
    "outputId": "8821666d-e913-4a1f-d6d9-91037c07c16b"
   },
   "outputs": [
    {
     "name": "stdout",
     "output_type": "stream",
     "text": [
      "Top 5 pelanggan dengan pembelian tertinggi:\n",
      "Customer Name\n",
      "Sean Miller      25043.050\n",
      "Tamara Chand     19052.218\n",
      "Raymond Buch     15117.339\n",
      "Tom Ashbrook     14595.620\n",
      "Adrian Barton    14473.571\n",
      "Name: Sales, dtype: float64\n"
     ]
    },
    {
     "data": {
      "image/png": "[encoded data removed]",
      "text/plain": [
       "<Figure size 1200x800 with 1 Axes>"
      ]
     },
     "metadata": {},
     "output_type": "display_data"
    }
   ],
   "source": [
    "# Mengelompokkan data berdasarkan pelanggan dan menghitung total Sales\n",
    "top_customers = data.groupby('Customer Name')['Sales'].sum()\n",
    "\n",
    "# Mengurutkan pelanggan berdasarkan total Sales secara menurun dan mengambil 5 teratas\n",
    "top_customers = top_customers.sort_values(ascending=False).head(5)\n",
    "\n",
    "# Menampilkan Top 5 pelanggan berdasarkan total Sales\n",
    "print(\"Top 5 pelanggan dengan pembelian tertinggi:\")\n",
    "print(top_customers)\n",
    "\n",
    "# Membuat bar plot\n",
    "plt.figure(figsize=(12, 8))\n",
    "top_customers.plot(kind='bar', color='Pink')\n",
    "plt.title('Top 5 Pelanggan dengan pembelian tertinggi')\n",
    "plt.xlabel('Pelanggan')\n",
    "plt.ylabel('Total Sales')\n",
    "plt.xticks(rotation=45, ha='right')\n",
    "plt.grid(axis='y')\n",
    "\n",
    "# Menampilkan plot\n",
    "plt.show()"
   ]
  },
  {
   "cell_type": "code",
   "execution_count": 71,
   "metadata": {
    "colab": {
     "base_uri": "https://localhost:8080/"
    },
    "id": "1AdZmlQhoBa1",
    "outputId": "4f3c08c9-79c5-44e1-d679-4c9b96802f64"
   },
   "outputs": [
    {
     "name": "stdout",
     "output_type": "stream",
     "text": [
      "Kota dengan rata-rata Profit tertinggi: Jamestown\n",
      "Rata-rata Profit tertinggi: 642.89\n"
     ]
    }
   ],
   "source": [
    "# Mengelompokkan data berdasarkan kota dan menghitung rata-rata Profit\n",
    "average_profit_per_city = data.groupby('City')['Profit'].mean()\n",
    "\n",
    "# Menemukan kota dengan rata-rata Profit tertinggi\n",
    "city_with_highest_avg_profit = average_profit_per_city.idxmax()\n",
    "highest_avg_profit = average_profit_per_city.max()\n",
    "\n",
    "# Menampilkan kota dengan rata-rata Profit tertinggi\n",
    "print(f\"Kota dengan rata-rata Profit tertinggi: {city_with_highest_avg_profit}\")\n",
    "print(f\"Rata-rata Profit tertinggi: {highest_avg_profit:.2f}\")"
   ]
  },
  {
   "cell_type": "markdown",
   "metadata": {
    "id": "V4wiXyyJwFUj"
   },
   "source": [
    "### ***Analisis regresi linier sederhana***"
   ]
  },
  {
   "cell_type": "code",
   "execution_count": 75,
   "metadata": {
    "colab": {
     "base_uri": "https://localhost:8080/",
     "height": 636
    },
    "id": "vZAcbF3QoFwR",
    "outputId": "14a41ef0-4e4a-452a-a079-0447b5e82cec"
   },
   "outputs": [
    {
     "name": "stdout",
     "output_type": "stream",
     "text": [
      "Koefisien: -64.41\n",
      "Intercept: 235.09\n",
      "Mean Squared Error: 489257.03\n",
      "R^2 Score: 0.00\n"
     ]
    },
    {
     "data": {
      "image/png": "[encoded data removed]",
      "text/plain": [
       "<Figure size 1000x600 with 1 Axes>"
      ]
     },
     "metadata": {},
     "output_type": "display_data"
    }
   ],
   "source": [
    "import pandas as pd\n",
    "import matplotlib.pyplot as plt\n",
    "from sklearn.linear_model import LinearRegression\n",
    "from sklearn.model_selection import train_test_split\n",
    "from sklearn.metrics import mean_squared_error, r2_score\n",
    "\n",
    "data = pd.read_excel(\"Sample_Superstore.xlsx\")\n",
    "\n",
    "# Memilih kolom Sales dan Discount\n",
    "data = data[['Sales', 'Discount']]\n",
    "\n",
    "# Menghapus baris dengan nilai hilang\n",
    "data = data.dropna()\n",
    "\n",
    "# Menyiapkan variabel independen (X) dan dependen (y)\n",
    "X = data[['Discount']]\n",
    "y = data['Sales']\n",
    "\n",
    "# Membagi data menjadi data latih dan data uji\n",
    "X_train, X_test, y_train, y_test = train_test_split(X, y, test_size=0.2, random_state=0)\n",
    "\n",
    "# Membuat dan melatih model regresi linier\n",
    "model = LinearRegression()\n",
    "model.fit(X_train, y_train)\n",
    "\n",
    "# Melakukan prediksi\n",
    "y_pred = model.predict(X_test)\n",
    "\n",
    "# Menampilkan koefisien dan intercept\n",
    "print(f'Koefisien: {model.coef_[0]:.2f}')\n",
    "print(f'Intercept: {model.intercept_:.2f}')\n",
    "\n",
    "# Menghitung dan menampilkan metrik evaluasi\n",
    "mse = mean_squared_error(y_test, y_pred)\n",
    "r2 = r2_score(y_test, y_pred)\n",
    "print(f'Mean Squared Error: {mse:.2f}')\n",
    "print(f'R^2 Score: {r2:.2f}')\n",
    "\n",
    "# Plot data dan regresi linier\n",
    "plt.figure(figsize=(10, 6))\n",
    "plt.scatter(X_test, y_test, color='blue', label='Data Asli')\n",
    "plt.plot(X_test, y_pred, color='red', linewidth=2, label='Garis Regresi')\n",
    "plt.title('Regresi Linier: Pengaruh Diskon terhadap Penjualan')\n",
    "plt.xlabel('Diskon')\n",
    "plt.ylabel('Penjualan')\n",
    "plt.legend()\n",
    "plt.grid(True)\n",
    "\n",
    "# Menampilkan plot\n",
    "plt.show()"
   ]
  },
  {
   "cell_type": "markdown",
   "metadata": {
    "id": "3iDU0m8_xOhh"
   },
   "source": [
    "**Koefisien: Menunjukkan seberapa besar perubahan penjualan untuk setiap unit perubahan diskon.**\n",
    "\n",
    "**Intercept: Nilai penjualan ketika diskon adalah 0.**\n",
    "\n",
    "**Mean Squared Error (MSE): Ukuran rata-rata kesalahan prediksi kuadrat.**\n",
    "\n",
    "**R^2 Score: Menunjukkan seberapa baik model menjelaskan variasi dalam data.**\n",
    "\n",
    "**Plot menunjukkan garis regresi linier yang mencerminkan hubungan antara diskon dan penjualan. Semakin baik garis regresi mengikuti titik data, semakin baik model dalam memprediksi penjualan berdasarkan diskon.**"
   ]
  }
 ],
 "metadata": {
  "colab": {
   "provenance": []
  },
  "kernelspec": {
   "display_name": "Python 3 (ipykernel)",
   "language": "python",
   "name": "python3"
  },
  "language_info": {
   "codemirror_mode": {
    "name": "ipython",
    "version": 3
   },
   "file_extension": ".py",
   "mimetype": "text/x-python",
   "name": "python",
   "nbconvert_exporter": "python",
   "pygments_lexer": "ipython3",
   "version": "3.12.4"
  }
 },
 "nbformat": 4,
 "nbformat_minor": 4
}
