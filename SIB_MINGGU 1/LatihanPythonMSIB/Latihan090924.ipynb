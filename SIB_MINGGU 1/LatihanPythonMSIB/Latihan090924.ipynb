{
 "cells": [
  {
   "cell_type": "code",
   "execution_count": 1,
   "id": "7c35237a-a79c-4679-9bff-96a9929acb07",
   "metadata": {},
   "outputs": [
    {
     "name": "stdout",
     "output_type": "stream",
     "text": [
      "Saya adalah mahasiswa\n"
     ]
    }
   ],
   "source": [
    "print('Saya adalah mahasiswa')"
   ]
  },
  {
   "cell_type": "code",
   "execution_count": 1,
   "id": "42e3256f-78b2-4bfa-b08c-a8c93000dd5b",
   "metadata": {},
   "outputs": [
    {
     "name": "stdout",
     "output_type": "stream",
     "text": [
      "3\n",
      "c\n"
     ]
    }
   ],
   "source": [
    "a=1\n",
    "b=2\n",
    "c=a+b\n",
    "print(c)\n",
    "print(\"c\")"
   ]
  },
  {
   "cell_type": "code",
   "execution_count": 3,
   "id": "5ea3051d-9b7e-4af9-8fd6-191a8f51c9ed",
   "metadata": {},
   "outputs": [
    {
     "name": "stdout",
     "output_type": "stream",
     "text": [
      "luasnya adalah :  5000\n"
     ]
    }
   ],
   "source": [
    "panjang = 100\n",
    "lebar = 50\n",
    "luas = panjang*lebar\n",
    "print('luasnya adalah : ', luas)"
   ]
  },
  {
   "cell_type": "code",
   "execution_count": 9,
   "id": "69ad1037-2569-4852-a65e-97b6836071c0",
   "metadata": {},
   "outputs": [
    {
     "name": "stdout",
     "output_type": "stream",
     "text": [
      "Luas segitiga adalah : 250.0\n"
     ]
    }
   ],
   "source": [
    "# Mendefinisikan panjang alas dan tinggi segitiga\n",
    "alas = 10\n",
    "tinggi = 50\n",
    "\n",
    "# Menghitung luas segitiga\n",
    "luas = 1/2 * alas * tinggi\n",
    "\n",
    "# Menampilkan hasil\n",
    "print('Luas segitiga adalah :', luas)\n"
   ]
  },
  {
   "cell_type": "code",
   "execution_count": 11,
   "id": "ffcb5052-ff99-4797-b999-8bf868374bc1",
   "metadata": {},
   "outputs": [
    {
     "name": "stdin",
     "output_type": "stream",
     "text": [
      "Masukkan alas:  1\n",
      "Masukkan tinggi:  2\n"
     ]
    },
    {
     "name": "stdout",
     "output_type": "stream",
     "text": [
      "Luas segitiga adalah : 1.0\n"
     ]
    }
   ],
   "source": [
    "# Mendefinisikan panjang alas dan tinggi segitiga\n",
    "alas = int(input('Masukkan alas: '))\n",
    "tinggi = int (input('Masukkan tinggi: '))\n",
    "\n",
    "# Menghitung luas segitiga\n",
    "luas = 1/2 * alas * tinggi\n",
    "\n",
    "# Menampilkan hasil\n",
    "print('Luas segitiga adalah :', luas)"
   ]
  },
  {
   "cell_type": "code",
   "execution_count": 13,
   "id": "18e97c01-a42b-4b88-b115-c42824502d09",
   "metadata": {},
   "outputs": [
    {
     "name": "stdin",
     "output_type": "stream",
     "text": [
      "masukkan panjang 1\n",
      "masukkan lebar 2\n"
     ]
    },
    {
     "name": "stdout",
     "output_type": "stream",
     "text": [
      "luasnya adalah :  2\n"
     ]
    }
   ],
   "source": [
    "panjang = int(input('masukkan panjang'))\n",
    "lebar = int(input('masukkan lebar'))\n",
    "luas = panjang*lebar\n",
    "print('luasnya adalah : ', luas)"
   ]
  },
  {
   "cell_type": "code",
   "execution_count": 15,
   "id": "bbee933e-dae8-4aa2-9b19-ba5c1d0bb309",
   "metadata": {},
   "outputs": [
    {
     "name": "stdout",
     "output_type": "stream",
     "text": [
      "80\n"
     ]
    }
   ],
   "source": [
    "#Bilangan Integer = Bilangan bulat\n",
    "a = 30\n",
    "b = 10\n",
    "c = 40\n",
    "d = a+b+c\n",
    "print(d)\n"
   ]
  },
  {
   "cell_type": "code",
   "execution_count": 17,
   "id": "51e46bd4-b8e0-4af7-8e2f-58e5b1039c36",
   "metadata": {},
   "outputs": [
    {
     "name": "stdout",
     "output_type": "stream",
     "text": [
      "80.6\n"
     ]
    }
   ],
   "source": [
    "#Bilangan Float/real = Bilangan desimal/pecahan\n",
    "a = 30.1\n",
    "b = 10.2\n",
    "c = 40.3\n",
    "d = a+b+c\n",
    "print(d)"
   ]
  },
  {
   "cell_type": "code",
   "execution_count": 21,
   "id": "73e88323-7204-456a-b812-fd9e5321dabc",
   "metadata": {},
   "outputs": [
    {
     "name": "stdout",
     "output_type": "stream",
     "text": [
      "80\n",
      "27.2\n"
     ]
    }
   ],
   "source": [
    "a = 30\n",
    "b = 10\n",
    "c = 40\n",
    "d = a+b+c\n",
    "print(d)\n",
    "\n",
    "x = 15\n",
    "y = 12.2\n",
    "z = x+y\n",
    "print(z)"
   ]
  },
  {
   "cell_type": "code",
   "execution_count": 31,
   "id": "f777bfff-4269-4850-902a-8d1d76d28346",
   "metadata": {},
   "outputs": [
    {
     "name": "stdout",
     "output_type": "stream",
     "text": [
      "Naswa Dina Amalia 012938747 12\n",
      "Nama : Naswa Dina Amalia No Hp:  012938747 No rumah 12\n",
      "Naswa Dina Amalia01293874712\n",
      "Naswa Dina Amalia 012938747 12\n"
     ]
    }
   ],
   "source": [
    "Nama = 'Naswa Dina Amalia'\n",
    "Nohp = '012938747'\n",
    "Norumah = '12'\n",
    "print(Nama, Nohp, Norumah)\n",
    "print('Nama :', Nama, 'No Hp: ', Nohp, 'No rumah', Norumah)\n",
    "gabung = Nama + Nohp + Norumah\n",
    "print(gabung)\n",
    "gabung = Nama +' '+ Nohp +' '+ Norumah\n",
    "print(gabung)"
   ]
  },
  {
   "cell_type": "code",
   "execution_count": 25,
   "id": "c07ab647-c399-443c-a912-1c414707f167",
   "metadata": {},
   "outputs": [
    {
     "name": "stdout",
     "output_type": "stream",
     "text": [
      "angka anda adalah :  0\n",
      "angka anda adalah :  -2\n",
      "angka anda adalah :  -5\n",
      "itu bilangan positif\n",
      "angka anda adalah :  10\n"
     ]
    }
   ],
   "source": [
    "#Percabangan Tunggal\n",
    "A = 0\n",
    "if A > 0 : \n",
    "    print ('itu bilangan positif')\n",
    "\n",
    "print('angka anda adalah : ', A)\n",
    "\n",
    "A = -2\n",
    "if A > 0 : \n",
    "    print ('itu bilangan positif')\n",
    "\n",
    "print('angka anda adalah : ', A)\n",
    "\n",
    "A = -5\n",
    "if A > 0 : \n",
    "    print ('itu bilangan positif')\n",
    "\n",
    "print('angka anda adalah : ', A)\n",
    "\n",
    "A = 10\n",
    "if A > 0 : \n",
    "    print ('itu bilangan positif')\n",
    "\n",
    "print('angka anda adalah : ', A)"
   ]
  },
  {
   "cell_type": "code",
   "execution_count": 13,
   "id": "9f2e2e3e-d5e2-4a95-a184-34bc0c4df1f4",
   "metadata": {},
   "outputs": [
    {
     "name": "stdin",
     "output_type": "stream",
     "text": [
      "Masukkan Angka :  1\n"
     ]
    },
    {
     "name": "stdout",
     "output_type": "stream",
     "text": [
      "itu bilangan positif\n",
      "angka anda adalah :  1\n"
     ]
    },
    {
     "name": "stdin",
     "output_type": "stream",
     "text": [
      "Masukkan Angka :  -2\n"
     ]
    },
    {
     "name": "stdout",
     "output_type": "stream",
     "text": [
      "itu bukan bilangan positif\n",
      "angka anda adalah :  -2\n"
     ]
    }
   ],
   "source": [
    "#Percabangan Ganda \n",
    "A = int(input('Masukkan Angka : '))\n",
    "if A > 0 : \n",
    "    print ('itu bilangan positif')\n",
    "else:\n",
    "    print ('itu bukan bilangan positif')\n",
    "\n",
    "print('angka anda adalah : ', A)\n",
    "\n",
    "A = int(input('Masukkan Angka : '))\n",
    "if A > 0 : \n",
    "    print ('itu bilangan positif')\n",
    "else:\n",
    "    print ('itu bukan bilangan positif')\n",
    "\n",
    "print('angka anda adalah : ', A)"
   ]
  },
  {
   "cell_type": "code",
   "execution_count": 21,
   "id": "ec09bf98-d9b2-47d9-abe5-f83d63daaaa3",
   "metadata": {},
   "outputs": [
    {
     "name": "stdin",
     "output_type": "stream",
     "text": [
      "Masukkan Angka :  0\n"
     ]
    },
    {
     "name": "stdout",
     "output_type": "stream",
     "text": [
      "itu bilangan Nol\n",
      "angka anda adalah :  0\n"
     ]
    }
   ],
   "source": [
    "#Percabangan Majemuk Biasa\n",
    "A = int(input('Masukkan Angka : '))\n",
    "if A > 0 : \n",
    "    print ('itu bilangan positif')\n",
    "elif A<0 : #elif adalah gabungan dari else dan if\n",
    "    print ('itu bilangan Negatif')\n",
    "else:\n",
    "    print ('itu bilangan Nol')\n",
    "\n",
    "print('angka anda adalah : ', A)"
   ]
  },
  {
   "cell_type": "code",
   "execution_count": 23,
   "id": "340cb449-e9e5-4848-b8d7-aeec0a3a2686",
   "metadata": {},
   "outputs": [
    {
     "name": "stdin",
     "output_type": "stream",
     "text": [
      "Masukkan Angka :  7\n"
     ]
    },
    {
     "name": "stdout",
     "output_type": "stream",
     "text": [
      "itu bilangan positif\n",
      "angka anda adalah :  7\n"
     ]
    }
   ],
   "source": [
    "#Percabangan Majemuk Bertingkat\n",
    "A = int(input('Masukkan Angka : '))\n",
    "if A > 0 : \n",
    "    print ('itu bilangan positif')\n",
    "else:\n",
    "    if A<0:\n",
    "        print ('itu bilangan negatif')\n",
    "    else: \n",
    "        print ('itu bilangan Nol')\n",
    "\n",
    "print('angka anda adalah : ', A)"
   ]
  },
  {
   "cell_type": "code",
   "execution_count": 27,
   "id": "827549f2-f53d-48c1-97fc-ea27bea697a2",
   "metadata": {},
   "outputs": [
    {
     "name": "stdout",
     "output_type": "stream",
     "text": [
      "4 9 13 36 -5 0.4444444444444444 0 4\n"
     ]
    }
   ],
   "source": [
    "#Aritmatika di Python\n",
    "a = 4\n",
    "b = 9\n",
    "c = a + b\n",
    "d = a*b\n",
    "e = a - b\n",
    "f = a / b\n",
    "g = a // b #dibagi kemudian di bulatkan ke bawah\n",
    "h = a % b #tanda modulo, yaitu sisa hasil bagi\n",
    "print(a,b,c,d,e,f,g,h)"
   ]
  },
  {
   "cell_type": "code",
   "execution_count": 31,
   "id": "13346acc-3d99-4cda-9362-e02be72440ab",
   "metadata": {},
   "outputs": [
    {
     "name": "stdout",
     "output_type": "stream",
     "text": [
      "1\n",
      "0\n",
      "1\n",
      "0\n",
      "1\n"
     ]
    }
   ],
   "source": [
    "print(1%2)\n",
    "print(2%2)\n",
    "print(3%2)\n",
    "print(4%2)\n",
    "print(54321%2)\n",
    "\n",
    "#Jika hasilnya 0, bilangan itu genap.\n",
    "#Jika hasilnya 1, bilangan itu ganjil."
   ]
  },
  {
   "cell_type": "code",
   "execution_count": 37,
   "id": "1e6e0707-2b11-4fd1-98d5-7769e26902c8",
   "metadata": {},
   "outputs": [
    {
     "name": "stdin",
     "output_type": "stream",
     "text": [
      "Masukkan Angka :  3\n"
     ]
    },
    {
     "name": "stdout",
     "output_type": "stream",
     "text": [
      "itu bukan bilangan Ganjil\n",
      "angka anda adalah :  3\n"
     ]
    }
   ],
   "source": [
    "#Percabangan Ganda Ganjil Genap\n",
    "A = int(input('Masukkan Angka : '))\n",
    "if A % 2 == 0 :\n",
    "    print ('itu bilangan Genap')\n",
    "else:\n",
    "    print ('itu bukan bilangan Ganjil')\n",
    "\n",
    "print('angka anda adalah : ', A)"
   ]
  },
  {
   "cell_type": "code",
   "execution_count": 46,
   "id": "28c2a904-4d6f-468b-b15a-577c07a18ee6",
   "metadata": {},
   "outputs": [
    {
     "name": "stdin",
     "output_type": "stream",
     "text": [
      "Masukkan Angka:  0\n"
     ]
    },
    {
     "name": "stdout",
     "output_type": "stream",
     "text": [
      "Angka Nol\n",
      "Angka Anda adalah: 0\n"
     ]
    }
   ],
   "source": [
    "A = int(input('Masukkan Angka: '))\n",
    "if A == 0:\n",
    "    print(\"Angka Nol\")\n",
    "elif A > 0:\n",
    "    if A % 2 == 0:\n",
    "        print(\"Genap Positif\")\n",
    "    else:\n",
    "        print(\"Ganjil Positif\")\n",
    "else:\n",
    "    if A % 2 == 0:\n",
    "        print(\"Genap Negatif\")\n",
    "    else:\n",
    "        print(\"Ganjil Negatif\")\n",
    "\n",
    "print('Angka Anda adalah:', A)\n"
   ]
  },
  {
   "cell_type": "code",
   "execution_count": 50,
   "id": "5ac768a7-ea10-4e42-8ba9-84700dc6fc0d",
   "metadata": {},
   "outputs": [
    {
     "name": "stdout",
     "output_type": "stream",
     "text": [
      "Naswa Dina Amalia\n",
      "0\n",
      "Naswa Dina Amalia\n",
      "1\n",
      "Naswa Dina Amalia\n",
      "2\n",
      "Naswa Dina Amalia\n",
      "3\n",
      "Naswa Dina Amalia\n",
      "4\n",
      "Naswa Dina Amalia\n",
      "5\n",
      "Naswa Dina Amalia\n",
      "6\n",
      "Naswa Dina Amalia\n",
      "7\n",
      "Naswa Dina Amalia\n",
      "8\n",
      "Naswa Dina Amalia\n",
      "9\n",
      "Naswa Dina Amalia\n",
      "10\n",
      "Naswa Dina Amalia\n",
      "11\n",
      "Naswa Dina Amalia\n",
      "12\n",
      "Naswa Dina Amalia\n",
      "13\n",
      "Naswa Dina Amalia\n",
      "14\n",
      "Naswa Dina Amalia\n",
      "15\n",
      "Naswa Dina Amalia\n",
      "16\n",
      "Naswa Dina Amalia\n",
      "17\n",
      "Naswa Dina Amalia\n",
      "18\n",
      "Naswa Dina Amalia\n",
      "19\n",
      "Naswa Dina Amalia\n",
      "20\n",
      "Naswa Dina Amalia\n",
      "21\n",
      "Naswa Dina Amalia\n",
      "22\n",
      "Naswa Dina Amalia\n",
      "23\n",
      "Naswa Dina Amalia\n",
      "24\n",
      "Naswa Dina Amalia\n",
      "25\n",
      "Naswa Dina Amalia\n",
      "26\n",
      "Naswa Dina Amalia\n",
      "27\n",
      "Naswa Dina Amalia\n",
      "28\n",
      "Naswa Dina Amalia\n",
      "29\n",
      "Naswa Dina Amalia\n",
      "30\n",
      "Naswa Dina Amalia\n",
      "31\n",
      "Naswa Dina Amalia\n",
      "32\n",
      "Naswa Dina Amalia\n",
      "33\n",
      "Naswa Dina Amalia\n",
      "34\n",
      "Naswa Dina Amalia\n",
      "35\n",
      "Naswa Dina Amalia\n",
      "36\n",
      "Naswa Dina Amalia\n",
      "37\n",
      "Naswa Dina Amalia\n",
      "38\n",
      "Naswa Dina Amalia\n",
      "39\n",
      "Naswa Dina Amalia\n",
      "40\n",
      "Naswa Dina Amalia\n",
      "41\n",
      "Naswa Dina Amalia\n",
      "42\n",
      "Naswa Dina Amalia\n",
      "43\n",
      "Naswa Dina Amalia\n",
      "44\n",
      "Naswa Dina Amalia\n",
      "45\n",
      "Naswa Dina Amalia\n",
      "46\n",
      "Naswa Dina Amalia\n",
      "47\n",
      "Naswa Dina Amalia\n",
      "48\n",
      "Naswa Dina Amalia\n",
      "49\n",
      "Naswa Dina Amalia\n",
      "50\n",
      "Naswa Dina Amalia\n",
      "51\n",
      "Naswa Dina Amalia\n",
      "52\n",
      "Naswa Dina Amalia\n",
      "53\n",
      "Naswa Dina Amalia\n",
      "54\n",
      "Naswa Dina Amalia\n",
      "55\n",
      "Naswa Dina Amalia\n",
      "56\n",
      "Naswa Dina Amalia\n",
      "57\n",
      "Naswa Dina Amalia\n",
      "58\n",
      "Naswa Dina Amalia\n",
      "59\n",
      "Naswa Dina Amalia\n",
      "60\n",
      "Naswa Dina Amalia\n",
      "61\n",
      "Naswa Dina Amalia\n",
      "62\n",
      "Naswa Dina Amalia\n",
      "63\n",
      "Naswa Dina Amalia\n",
      "64\n",
      "Naswa Dina Amalia\n",
      "65\n",
      "Naswa Dina Amalia\n",
      "66\n",
      "Naswa Dina Amalia\n",
      "67\n",
      "Naswa Dina Amalia\n",
      "68\n",
      "Naswa Dina Amalia\n",
      "69\n",
      "Naswa Dina Amalia\n",
      "70\n",
      "Naswa Dina Amalia\n",
      "71\n",
      "Naswa Dina Amalia\n",
      "72\n",
      "Naswa Dina Amalia\n",
      "73\n",
      "Naswa Dina Amalia\n",
      "74\n",
      "Naswa Dina Amalia\n",
      "75\n",
      "Naswa Dina Amalia\n",
      "76\n",
      "Naswa Dina Amalia\n",
      "77\n",
      "Naswa Dina Amalia\n",
      "78\n",
      "Naswa Dina Amalia\n",
      "79\n",
      "Naswa Dina Amalia\n",
      "80\n",
      "Naswa Dina Amalia\n",
      "81\n",
      "Naswa Dina Amalia\n",
      "82\n",
      "Naswa Dina Amalia\n",
      "83\n",
      "Naswa Dina Amalia\n",
      "84\n",
      "Naswa Dina Amalia\n",
      "85\n",
      "Naswa Dina Amalia\n",
      "86\n",
      "Naswa Dina Amalia\n",
      "87\n",
      "Naswa Dina Amalia\n",
      "88\n",
      "Naswa Dina Amalia\n",
      "89\n",
      "Naswa Dina Amalia\n",
      "90\n",
      "Naswa Dina Amalia\n",
      "91\n",
      "Naswa Dina Amalia\n",
      "92\n",
      "Naswa Dina Amalia\n",
      "93\n",
      "Naswa Dina Amalia\n",
      "94\n",
      "Naswa Dina Amalia\n",
      "95\n",
      "Naswa Dina Amalia\n",
      "96\n",
      "Naswa Dina Amalia\n",
      "97\n",
      "Naswa Dina Amalia\n",
      "98\n",
      "Naswa Dina Amalia\n",
      "99\n"
     ]
    }
   ],
   "source": [
    "for i in range(100):\n",
    "    print(\"Naswa Dina Amalia\")\n",
    "    print(i)"
   ]
  },
  {
   "cell_type": "code",
   "execution_count": 56,
   "id": "65c2b1bc-44c5-4dbd-ac6b-ddc7faefb023",
   "metadata": {},
   "outputs": [
    {
     "name": "stdout",
     "output_type": "stream",
     "text": [
      "1\n",
      "2\n",
      "3\n",
      "4\n",
      "5\n",
      "6\n",
      "7\n",
      "8\n",
      "9\n",
      "10\n"
     ]
    }
   ],
   "source": [
    "#Perulangan menggunakan while\n",
    "i = 1\n",
    "while i <= 10:\n",
    "    print(i)\n",
    "    i += 1  # Menambah nilai i sebesar 1 setiap iterasi"
   ]
  },
  {
   "cell_type": "code",
   "execution_count": 58,
   "id": "2a406e02-7b47-4575-8306-977d6066dd13",
   "metadata": {},
   "outputs": [
    {
     "name": "stdout",
     "output_type": "stream",
     "text": [
      "1\n",
      "2\n",
      "3\n",
      "4\n",
      "5\n",
      "6\n",
      "7\n",
      "8\n",
      "9\n",
      "10\n"
     ]
    }
   ],
   "source": [
    "#perulangan while break\n",
    "i = 1\n",
    "while True:\n",
    "    print(i)\n",
    "    i += 1\n",
    "    if i > 10:\n",
    "        break"
   ]
  },
  {
   "cell_type": "code",
   "execution_count": 63,
   "id": "f0b8b1e5-8e7e-4643-a900-7ac7dece3f6f",
   "metadata": {},
   "outputs": [
    {
     "name": "stdout",
     "output_type": "stream",
     "text": [
      "1\n",
      "3\n",
      "5\n",
      "7\n",
      "9\n"
     ]
    }
   ],
   "source": [
    "#menggunakan while untuk cek bilangan ganjil 1 sampai 10\n",
    "i = 1\n",
    "while i <= 10:\n",
    "    if i % 2 == 0:\n",
    "         i += 1\n",
    "         continue\n",
    "    print(i)\n",
    "    i += 1"
   ]
  },
  {
   "cell_type": "code",
   "execution_count": 65,
   "id": "0815758c-1674-4b13-ab21-89faa0d657e6",
   "metadata": {},
   "outputs": [
    {
     "name": "stdout",
     "output_type": "stream",
     "text": [
      "Bilangan  1 Ganjil\n",
      "Bilangan  2 Genap\n",
      "Bilangan  3 Ganjil\n",
      "Bilangan  4 Genap\n",
      "Bilangan  5 Ganjil\n",
      "Bilangan  6 Genap\n"
     ]
    }
   ],
   "source": [
    "#kombinasi perulangan dan percabangan \n",
    "for x in [1,2,3,4,5,6]:\n",
    "    if x % 2 == 0:\n",
    "        print('Bilangan ',x, 'Genap')\n",
    "    else:\n",
    "        print('Bilangan ',x, 'Ganjil')"
   ]
  },
  {
   "cell_type": "code",
   "execution_count": 67,
   "id": "187b1af7-d455-4b97-ba27-6cf70fb23e85",
   "metadata": {},
   "outputs": [
    {
     "name": "stdout",
     "output_type": "stream",
     "text": [
      "Hello\n",
      "Saya Belajar Fungsi\n"
     ]
    }
   ],
   "source": [
    "#Mengenal Fungsi\n",
    "def my_fungsi():\n",
    "    print('Hello')\n",
    "    print('Saya Belajar Fungsi')\n",
    "my_fungsi()"
   ]
  },
  {
   "cell_type": "code",
   "execution_count": 71,
   "id": "2aa0f70f-f286-43c8-a2c2-bfa11712452c",
   "metadata": {},
   "outputs": [
    {
     "name": "stdout",
     "output_type": "stream",
     "text": [
      "Luas persegi panj dgn p = 5 l = 6 adalah 30\n",
      "Luas persegi panj dgn p = 10 l = 6 adalah 60\n",
      "Luas persegi panj dgn p = 15 l = 10 adalah 150\n"
     ]
    }
   ],
   "source": [
    "#parameter fungsi (mengirim nilai ke fungsi)\n",
    "def persegipanjang (panjang, lebar):\n",
    "    luas = panjang*lebar\n",
    "    return luas #perintah return berguna untuk mengembalikan #suatu nilai ke source code pemanggilnya\n",
    "\n",
    "print('Luas persegi panj dgn p = 5 l = 6 adalah', persegipanjang (5,6)) \n",
    "print('Luas persegi panj dgn p = 10 l = 6 adalah', persegipanjang (10,6))\n",
    "print('Luas persegi panj dgn p = 15 l = 10 adalah', persegipanjang (15,10))"
   ]
  },
  {
   "cell_type": "code",
   "execution_count": 73,
   "id": "1136010a-fbb5-4334-9d9d-9e9442de9e4c",
   "metadata": {},
   "outputs": [
    {
     "name": "stdout",
     "output_type": "stream",
     "text": [
      "['Jeruk', 'Apel', 'Pisang']\n",
      "3\n"
     ]
    }
   ],
   "source": [
    "#mengenal variabel array/LIST\n",
    "#LIST : sebuah variabel yang isinya ada beberapa/banyak data\n",
    "\n",
    "thislist = ['Jeruk','Apel','Pisang']\n",
    "\n",
    "print(thislist)\n",
    "print(len(thislist)) #Fungsi len gunanya untuk menampilkan jumlah data dalam list"
   ]
  },
  {
   "cell_type": "code",
   "execution_count": 75,
   "id": "30874b62-5f4a-4d38-84d8-01e515982a33",
   "metadata": {},
   "outputs": [
    {
     "name": "stdout",
     "output_type": "stream",
     "text": [
      "Jeruk\n",
      "Apel\n",
      "Pisang\n",
      "Pisang\n",
      "Apel\n"
     ]
    }
   ],
   "source": [
    "thislist = [\"Jeruk\", \"Apel\", \"Pisang\"]\n",
    "#noindex:      0         1         2     (dari kiri)\n",
    "#noindex:      -3        -2        -1    (dari kanan)\n",
    "print(thislist[0])\n",
    "print(thislist[1])\n",
    "print(thislist[2])\n",
    "print(thislist[-1])\n",
    "print(thislist[-2])"
   ]
  },
  {
   "cell_type": "code",
   "execution_count": 77,
   "id": "dfdb0769-fb4b-493b-b108-667919b3b5a3",
   "metadata": {},
   "outputs": [
    {
     "name": "stdout",
     "output_type": "stream",
     "text": [
      "['Pisang', 'Kiwi', 'Semangka']\n",
      "['Jeruk', 'Apel', 'Pisang', 'Kiwi']\n",
      "['Pisang', 'Kiwi', 'Semangka', 'Melon']\n",
      "['Semangka']\n",
      "Yes, 'Jeruk' is in the fruits list\n",
      "Jeruk in index:  0\n"
     ]
    }
   ],
   "source": [
    "thislist = [\"Jeruk\", \"Apel\", \"Pisang\", \"Kiwi\", \"Semangka\", \"Melon\"]\n",
    "print(thislist[2:5])\n",
    "print(thislist[ :4])\n",
    "print(thislist[2: ])\n",
    "print(thislist[-2:-1])\n",
    "if \"Jeruk\" in thislist:\n",
    "    print(\"Yes, 'Jeruk' is in the fruits list\")\n",
    "    print('Jeruk in index: ', thislist.index('Jeruk'))\n",
    "          "
   ]
  },
  {
   "cell_type": "code",
   "execution_count": 79,
   "id": "a557c0c3-d02e-4e82-9256-874933eba007",
   "metadata": {},
   "outputs": [
    {
     "name": "stdout",
     "output_type": "stream",
     "text": [
      "['apple', 'blackcurrant', 'cherry', 'orange', 'kiwi', 'melon', 'mango']\n",
      "['apple', 'blackcurrant', 'watermelon', 'orange', 'kiwi', 'mango']\n"
     ]
    }
   ],
   "source": [
    "#Mengganti satu atau sebagian isi list\n",
    "thislist = [\"apple\", \"banana\", \"cherry\", \"orange\", \"kiwi\", \"melon\", \"mango\"]\n",
    "thislist[1]= \"blackcurrant\" #mengganti satu data\n",
    "print(thislist)\n",
    "thislist = [\"apple\", \"banana\", \"cherry\", \"orange\", \"kiwi\", \"mango\"]\n",
    "thislist [1:3] = [\"blackcurrant\", \"watermelon\"] #ganti bbrp data\n",
    "print(thislist)"
   ]
  },
  {
   "cell_type": "code",
   "execution_count": 81,
   "id": "fcecc9eb-ec75-409b-ac3b-4cef837ec972",
   "metadata": {},
   "outputs": [
    {
     "name": "stdout",
     "output_type": "stream",
     "text": [
      "['apple', 'banana', 'cherry']\n",
      "['Jambu dersono', 'apple', 'banana', 'cherry']\n",
      "['Jambu dersono', 'apple', 'kelengkeng', 'banana', 'cherry']\n",
      "['Jambu dersono', 'apple', 'kelengkeng', 'banana', 'cherry', 'orange']\n"
     ]
    }
   ],
   "source": [
    "#Menambah isi List dari posisi tengah dan belakang \n",
    "thislist = [\"apple\", \"banana\", \"cherry\"]\n",
    "print(thislist)\n",
    "thislist.insert(0, \"Jambu dersono\")   #menyisipkan di awal, index no e\n",
    "print(thislist)\n",
    "thislist.insert(2, \"kelengkeng\")  #menyisipkan di tengah, index no 2\n",
    "print(thislist)\n",
    "thislist.append(\"orange\")       #menyisipkan di belakang\n",
    "print(thislist)"
   ]
  },
  {
   "cell_type": "code",
   "execution_count": 83,
   "id": "98870203-e195-4fc7-9ca6-8a53ecb88574",
   "metadata": {},
   "outputs": [
    {
     "name": "stdout",
     "output_type": "stream",
     "text": [
      "Result:  ['Python', 'PHP', 'Java', ['C', 'C++', 'C#']]\n",
      "Panjang Languages 1 4\n"
     ]
    }
   ],
   "source": [
    "#Menggabungkan dua List menggunakan fungsi append \n",
    "languages1=['Python', 'PHP', 'Java',] \n",
    "languages2=['C', 'C++', 'C#']\n",
    "# Menambahkan List 2 ke List 1 dengan perintah Append \n",
    "languages1.append(languages2) \n",
    "print(\"Result: \", languages1)\n",
    "print(\"Panjang Languages 1\", len (languages1))"
   ]
  },
  {
   "cell_type": "code",
   "execution_count": 85,
   "id": "3d869f10-eacf-4602-a3af-6559a37504fc",
   "metadata": {},
   "outputs": [
    {
     "name": "stdout",
     "output_type": "stream",
     "text": [
      "Result :  ['Python', 'PHP', 'Java', 'C', 'C++', 'C#']\n",
      "Panjang Languages 1 6\n"
     ]
    }
   ],
   "source": [
    "#Menggabungkan dua List menggunakan fungsi append \n",
    "languages1=['Python', 'PHP', 'Java',] \n",
    "languages2=['C', 'C++', 'C#']\n",
    "# Menambahkan List 2 ke List 1 dengan perintah Append \n",
    "languages1.extend(languages2)\n",
    "print(\"Result : \", languages1) \n",
    "print(\"Panjang Languages 1\", len (languages1))"
   ]
  },
  {
   "cell_type": "code",
   "execution_count": 91,
   "id": "6057c7fb-8cac-4697-9b51-34b28bd5c284",
   "metadata": {},
   "outputs": [
    {
     "name": "stdout",
     "output_type": "stream",
     "text": [
      "['apple', 'banana', 'cherry']\n",
      "('apple', 'banana', 'cherry')\n"
     ]
    }
   ],
   "source": [
    "#Tipe data TUPLE\n",
    "#Tuple adalah sekumpulan data mirip LIST tapi tidak bisa di edit/tambah. #Ciri-Ciri diawali tanda kurung (dan diakhiri )\n",
    "#bandingkan dengan List:\n",
    "fruits = [\"apple\", \"banana\", \"cherry\"]\n",
    "print(fruits)\n",
    "#tuple itu begini:\n",
    "thistuple = (\"apple\", \"banana\", \"cherry\")\n",
    "print(thistuple)"
   ]
  },
  {
   "cell_type": "code",
   "execution_count": 93,
   "id": "9abf5046-91f0-484f-bfae-fedfb732627a",
   "metadata": {},
   "outputs": [
    {
     "name": "stdout",
     "output_type": "stream",
     "text": [
      "{'brand': 'Ford', 'model': 'Mustang', 'year': 1964}\n"
     ]
    }
   ],
   "source": [
    "#Tipe data DICTIONARY\n",
    "#Ciri cirinya: BERPASANGAN, diawali dan diakhiri tanda {}\n",
    "#setiap pasangan dipisahkan dengan tanda koma,\n",
    "#dalam sebuah pasangan, sisi kiri dan kanan dipisah tanda:\n",
    "thisdict = {\n",
    "\"brand\": \"Ford\",\n",
    "\"model\": \"Mustang\",\n",
    "\"year\": 1964\n",
    "}\n",
    "print(thisdict)"
   ]
  },
  {
   "cell_type": "code",
   "execution_count": 95,
   "id": "2d5fb588-62fb-42e7-b002-e282e1bae05c",
   "metadata": {},
   "outputs": [
    {
     "name": "stdout",
     "output_type": "stream",
     "text": [
      "   A  B  C\n",
      "0  1  2  3\n",
      "1  4  5  6\n",
      "2  7  8  9\n"
     ]
    },
    {
     "data": {
      "text/html": [
       "<div>\n",
       "<style scoped>\n",
       "    .dataframe tbody tr th:only-of-type {\n",
       "        vertical-align: middle;\n",
       "    }\n",
       "\n",
       "    .dataframe tbody tr th {\n",
       "        vertical-align: top;\n",
       "    }\n",
       "\n",
       "    .dataframe thead th {\n",
       "        text-align: right;\n",
       "    }\n",
       "</style>\n",
       "<table border=\"1\" class=\"dataframe\">\n",
       "  <thead>\n",
       "    <tr style=\"text-align: right;\">\n",
       "      <th></th>\n",
       "      <th>A</th>\n",
       "      <th>B</th>\n",
       "      <th>C</th>\n",
       "    </tr>\n",
       "  </thead>\n",
       "  <tbody>\n",
       "    <tr>\n",
       "      <th>0</th>\n",
       "      <td>1</td>\n",
       "      <td>2</td>\n",
       "      <td>3</td>\n",
       "    </tr>\n",
       "    <tr>\n",
       "      <th>1</th>\n",
       "      <td>4</td>\n",
       "      <td>5</td>\n",
       "      <td>6</td>\n",
       "    </tr>\n",
       "    <tr>\n",
       "      <th>2</th>\n",
       "      <td>7</td>\n",
       "      <td>8</td>\n",
       "      <td>9</td>\n",
       "    </tr>\n",
       "  </tbody>\n",
       "</table>\n",
       "</div>"
      ],
      "text/plain": [
       "   A  B  C\n",
       "0  1  2  3\n",
       "1  4  5  6\n",
       "2  7  8  9"
      ]
     },
     "execution_count": 95,
     "metadata": {},
     "output_type": "execute_result"
    }
   ],
   "source": [
    "#pandas adalah Library python khusus untuk data analisis\n",
    "#berikut cara import Library pandas sekaligus bikin nama alias :pd\n",
    "import pandas as pd\n",
    "#Membuat tabel pandas baru bertipe dataframe dengan nama: df\n",
    "#pd dipakai untuk membuat tabel pandas baru dari sebuah dictionary\n",
    "dict={\"A\": [1,4,7], \n",
    "      \"B\": [2,5,8],\n",
    "      \"C\": [3,6,9]}\n",
    "df= pd.DataFrame(dict) #disini df adalah berupa tabel pandas\n",
    "print(df)\n",
    "df"
   ]
  },
  {
   "cell_type": "code",
   "execution_count": 101,
   "id": "e1bee80e-0b9c-4de3-b581-65da44c531ca",
   "metadata": {},
   "outputs": [
    {
     "name": "stdout",
     "output_type": "stream",
     "text": [
      "      Nama  Usia         Kota\n",
      "0    Alice    25     New York\n",
      "1      Bob    30  Los Angeles\n",
      "2  Charlie    35      Chicago\n"
     ]
    }
   ],
   "source": [
    "import pandas as pd\n",
    "#Membuat DataFrame\n",
    "data = {\n",
    "    'Nama': ['Alice', 'Bob', 'Charlie'],\n",
    "    'Usia': [25, 30, 35],\n",
    "    'Kota': ['New York', 'Los Angeles', 'Chicago']\n",
    "}\n",
    "df = pd.DataFrame(data)\n",
    "# Menampilkan DataFrame\n",
    "print(df)"
   ]
  },
  {
   "cell_type": "code",
   "execution_count": 105,
   "id": "8c7ee964-e857-4a87-a69c-f71dd65b1a17",
   "metadata": {},
   "outputs": [
    {
     "name": "stdout",
     "output_type": "stream",
     "text": [
      "Usia baris pertama: 25\n",
      "      Nama  Usia           Kota Pekerjaan\n",
      "0    Alice    25       New York  Engineer\n",
      "1      Bob    30  San Francisco    Doctor\n",
      "2  Charlie    35        Chicago    Artist\n"
     ]
    }
   ],
   "source": [
    "#Mengakses data\n",
    "usia_baris_pertama = df.loc[0, 'Usia']\n",
    "print('Usia baris pertama:', usia_baris_pertama)\n",
    "\n",
    "# Menambahkan kolom baru\n",
    "df['Pekerjaan'] = ['Engineer', 'Doctor', 'Artist']\n",
    "\n",
    "# Mengubah nilai di kolom 'Kota'\n",
    "df.loc[df['Nama'] == 'Bob', 'Kota'] = 'San Francisco'\n",
    "print(df)"
   ]
  },
  {
   "cell_type": "code",
   "execution_count": 109,
   "id": "37d104ce-6400-466d-8209-0fba2d347ad6",
   "metadata": {},
   "outputs": [
    {
     "name": "stdout",
     "output_type": "stream",
     "text": [
      "Data setelah filter: \n",
      "       Nama  Usia           Kota Pekerjaan\n",
      "1      Bob    30  San Francisco    Doctor\n",
      "2  Charlie    35        Chicago    Artist\n",
      "Data setelah diurutkan: \n",
      "       Nama  Usia           Kota Pekerjaan\n",
      "2  Charlie    35        Chicago    Artist\n",
      "1      Bob    30  San Francisco    Doctor\n",
      "0    Alice    25       New York  Engineer\n"
     ]
    }
   ],
   "source": [
    "# Memfilter DataFrame\n",
    "filtered_df = df [df ['Usia'] > 28]\n",
    "print('Data setelah filter: \\n', filtered_df)\n",
    "\n",
    "# Mengurutkan DataFrame\n",
    "sorted_df = df.sort_values(by='Usia', ascending=False)\n",
    "print('Data setelah diurutkan: \\n', sorted_df)"
   ]
  },
  {
   "cell_type": "code",
   "execution_count": 115,
   "id": "639aac70-75db-4c02-8ac9-a8f5fc9aa6d3",
   "metadata": {},
   "outputs": [
    {
     "name": "stdout",
     "output_type": "stream",
     "text": [
      "  Kategori  Nilai\n",
      "0        A     10\n",
      "1        B     20\n",
      "2        A     30\n",
      "3        B     40\n",
      "Total nilai per kategori:\n",
      "           Nilai\n",
      "Kategori       \n",
      "A            40\n",
      "B            60\n"
     ]
    }
   ],
   "source": [
    "#Membuat DataFrame untuk Grouping-SUM yang kategorinya sama \n",
    "data = {\n",
    "    'Kategori': ['A', 'B', 'A', 'B'],\n",
    "    'Nilai': [10, 20, 30, 40]\n",
    "}\n",
    "df= pd.DataFrame(data)\n",
    "print(df)\n",
    "\n",
    "# MengeLompokkan dan menghitung total nilai\n",
    "grouped_df = df.groupby('Kategori').sum() \n",
    "print('Total nilai per kategori:\\n', grouped_df)"
   ]
  },
  {
   "cell_type": "code",
   "execution_count": 121,
   "id": "adf23558-d84c-48b5-996e-1b55fc353b34",
   "metadata": {},
   "outputs": [
    {
     "name": "stdout",
     "output_type": "stream",
     "text": [
      "   Nama  Nilai Kategori\n",
      "0  John     85    Lulus\n",
      "1  Jane     90    Lulus\n",
      "2   Jim     78    Lulus\n",
      "3  Jono     45    Gagal\n"
     ]
    }
   ],
   "source": [
    "# Membuat DataFrame\n",
    "data = {\n",
    "    'Nama': ['John', 'Jane', 'Jim', 'Jono'],\n",
    "    'Nilai': [85, 90, 78, 45]\n",
    "}\n",
    "df = pd.DataFrame(data)\n",
    "\n",
    "#Fungsi untuk mengkategorikan nilai \n",
    "def categorize(nilai): \n",
    "    return 'Lulus' if nilai > 50 else 'Gagal'\n",
    "    \n",
    "# Menggunakan apply untuk menerapkan fungsi \n",
    "df['Kategori'] = df['Nilai'].apply(categorize) \n",
    "print(df)"
   ]
  },
  {
   "cell_type": "code",
   "execution_count": 123,
   "id": "04633fb1-b21f-4553-873d-9ec53daac726",
   "metadata": {},
   "outputs": [
    {
     "name": "stdout",
     "output_type": "stream",
     "text": [
      "DataFrame yang digabungkan: \n",
      "    ID   Nama  Usia\n",
      "0   1  Alice    25\n",
      "1   2    Bob    30\n"
     ]
    }
   ],
   "source": [
    "import pandas as pd\n",
    "\n",
    "#Membuat DataFrame pertama\n",
    "df1 = pd.DataFrame({\n",
    "    'ID': [1, 2],\n",
    "    'Nama': ['Alice', 'Bob']\n",
    "})\n",
    "\n",
    "# Membuat DataFrame kedua\n",
    "df2 = pd.DataFrame({ \n",
    "    'ID': [1, 2], \n",
    "    'Usia': [25, 30]\n",
    "})\n",
    "\n",
    "#Menggabungkan DataFrame\n",
    "merged_df = pd.merge(df1, df2, on='ID') \n",
    "print('DataFrame yang digabungkan: \\n', merged_df)"
   ]
  },
  {
   "cell_type": "code",
   "execution_count": 127,
   "id": "82d93961-b0fa-4288-a39d-3b427d67d9ef",
   "metadata": {},
   "outputs": [
    {
     "name": "stdout",
     "output_type": "stream",
     "text": [
      "DataFrame setelah menghapus duplikat dan mengisi nilai yang hilang: \n",
      "       Nama  Usia\n",
      "0    Alice  25.0\n",
      "1      Bob  30.0\n",
      "3  Charlie  27.5\n"
     ]
    }
   ],
   "source": [
    "# Membuat DataFrame dengan duplikat dan nilai yang hilang \n",
    "df = pd.DataFrame({ \n",
    "    'Nama': ['Alice', 'Bob', 'Alice', 'Charlie'], \n",
    "    'Usia': [25, 30, 25, None]\n",
    "})   \n",
    "#Menghapus baris duplikat\n",
    "df =  df.drop_duplicates()\n",
    "  \n",
    "#Mengisi nilai yang hilang dengan nilai rata-rata\n",
    "df['Usia'] = df['Usia'].fillna (df['Usia'].mean()) \n",
    "print('DataFrame setelah menghapus duplikat dan mengisi nilai yang hilang: \\n', df)"
   ]
  },
  {
   "cell_type": "code",
   "execution_count": null,
   "id": "65810b2b-d37a-4a97-8aeb-f4be43d696d3",
   "metadata": {},
   "outputs": [],
   "source": []
  }
 ],
 "metadata": {
  "kernelspec": {
   "display_name": "Python 3 (ipykernel)",
   "language": "python",
   "name": "python3"
  },
  "language_info": {
   "codemirror_mode": {
    "name": "ipython",
    "version": 3
   },
   "file_extension": ".py",
   "mimetype": "text/x-python",
   "name": "python",
   "nbconvert_exporter": "python",
   "pygments_lexer": "ipython3",
   "version": "3.12.4"
  }
 },
 "nbformat": 4,
 "nbformat_minor": 5
}
